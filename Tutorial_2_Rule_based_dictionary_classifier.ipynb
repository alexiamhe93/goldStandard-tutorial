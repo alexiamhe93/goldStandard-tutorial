{
  "nbformat": 4,
  "nbformat_minor": 0,
  "metadata": {
    "colab": {
      "provenance": [],
      "authorship_tag": "ABX9TyPtj/uqey+AaZEFweV9jtz7",
      "include_colab_link": true
    },
    "kernelspec": {
      "name": "python3",
      "display_name": "Python 3"
    },
    "language_info": {
      "name": "python"
    }
  },
  "cells": [
    {
      "cell_type": "markdown",
      "metadata": {
        "id": "view-in-github",
        "colab_type": "text"
      },
      "source": [
        "<a href=\"https://colab.research.google.com/github/alexiamhe93/goldStandard-tutorial/blob/main/Tutorial_2_Rule_based_dictionary_classifier.ipynb\" target=\"_parent\"><img src=\"https://colab.research.google.com/assets/colab-badge.svg\" alt=\"Open In Colab\"/></a>"
      ]
    },
    {
      "cell_type": "markdown",
      "source": [
        "# Tutorial 2: Building a rule-based dictionary classifier\n",
        "\n",
        "Authors: Goddard, A. & Gillespie, A.\n",
        "\n",
        "Date: January 2023\n",
        "\n",
        "In this tutorial notebook, we use Python to run and validate a rule-based classifier on a dataset of sentences coded for misunderstandings. The sentences were produced in naturally occuring online dialogues, sourced from Reddit, Twitter, and Wikipedia Talk Pages.\n",
        "\n",
        "The tutorial primarily uses the spaCy (Honnibal et al., 2022) package's rule-based matcher (https://spacy.io/usage/rule-based-matching) for applying the dictionary to a text. \n",
        "\n",
        "The tutorial provides instructions on how to:\n",
        "\n",
        "1.   Build a set of dictionary items and prepare them for use in spaCy\n",
        "2.   Run a rule-based classifier on a training dataset\n",
        "3.   Troubleshoot the classifier predictions on the training dataset\n",
        "4.   Validate the classifier on a validation dataset\n",
        "\n",
        "References:\n",
        "\n",
        "Honnibal, M., Montani, I., Van Landeghem, S., & Boyd, A. (2022). *spaCy: Industrial-strength natural language processing in Python*. Explosion."
      ],
      "metadata": {
        "id": "m2tNVSFcxVU7"
      }
    },
    {
      "cell_type": "markdown",
      "source": [
        "## What is a rule-based dictionary classifier? \n",
        "\n",
        "A rule-based dictionary classifier measures the presence of a target construct in a text based on the presence of dictionary items. The most basic dictionary items are a list of words whose frequency is counted in every target text. Consider a very simple example where we are interested in finding out the degree of happiness in the following sentences:\n",
        "\n",
        "> `S1 = \"I can't stop smiling, I'm just so happy.\"` \n",
        "\n",
        "> `S2 = \"This brings me joy.\"` \n",
        "\n",
        "> `S3 = \"I'm panicking, I don't know what to do.\"` \n",
        "\n",
        "We then use the following dictionary to identify the degree of happiness in each sentence:\n",
        "\n",
        "> `Happiness = [\"happy\", \"joy\", \"smiling\"]` \n",
        "\n",
        "The classifier then counts the frequency of the dictionary words across the three sentences, generating the following results:\n",
        "\n",
        "> `Happiness(S1) = 2` \n",
        "\n",
        "> `Happiness(S2) = 1` \n",
        "\n",
        "> `Happiness(S3) = 0` \n",
        "\n",
        "The classifier could also generate a ratio of happiness words to the total number of words in the sentence:\n",
        "\n",
        "> `Ratio(S1) = Happiness(S1)/TotalWords(S1) = 2/7 = 0.29` \n",
        "\n",
        "> `Ratio(S2) = Happiness(S2)/TotalWords(S2) = 1/4 = 0.25`  \n",
        "\n",
        "> `Ratio(S3) = Happiness(S3)/TotalWords(S3) = 0/8 = 0`  "
      ],
      "metadata": {
        "id": "NVivA0TY3GUe"
      }
    },
    {
      "cell_type": "markdown",
      "source": [
        "# Install packages\n",
        "\n",
        "**NOTE: This cell should be run before running any other cell**"
      ],
      "metadata": {
        "id": "Xw1BchOo8IS_"
      }
    },
    {
      "cell_type": "code",
      "execution_count": null,
      "metadata": {
        "id": "cUhr7VfmxPWq"
      },
      "outputs": [],
      "source": [
        "# spaCy \"medium\" word-vector model for parsing sentences into tokens\n",
        "!python -m spacy download en_core_web_md"
      ]
    },
    {
      "cell_type": "markdown",
      "source": [
        "# Load and prepare data for analysis\n",
        "\n",
        "In this section, we load in the gold-standard dataset (i.e. a dataset manually coded for misunderstandings) which will be used to validate and troubleshoot the classifier's performance. \n"
      ],
      "metadata": {
        "id": "zF2XFzhO-qJj"
      }
    },
    {
      "cell_type": "markdown",
      "source": [
        "## Load packages"
      ],
      "metadata": {
        "id": "qcrojegQ_a94"
      }
    },
    {
      "cell_type": "code",
      "source": [
        "# for downloading data\n",
        "import requests, zipfile, io\n",
        "# for setting directory\n",
        "import os \n",
        "from pathlib import Path\n",
        "# for mathematical / vectoral operations\n",
        "import numpy as np\n",
        "# for loading dataframes and spreadsheets (.csv)\n",
        "import pandas as pd"
      ],
      "metadata": {
        "id": "sqwi4cpF96EZ"
      },
      "execution_count": 1,
      "outputs": []
    },
    {
      "cell_type": "markdown",
      "source": [
        "## Load data from directory"
      ],
      "metadata": {
        "id": "-27IXJiAAMwB"
      }
    },
    {
      "cell_type": "markdown",
      "source": [
        "This cell downloads the gold standard dataset from github and unzips it."
      ],
      "metadata": {
        "id": "CidOBo9w_gvc"
      }
    },
    {
      "cell_type": "code",
      "source": [
        "r = requests.get( 'https://github.com/alexiamhe93/goldStandard-tutorial/blob/main/Data/Tutorial-data.zip?raw=true' ) \n",
        "z = zipfile.ZipFile(io.BytesIO(r.content))\n",
        "z.extractall()"
      ],
      "metadata": {
        "id": "Rq6TR2Q3_gSO"
      },
      "execution_count": 2,
      "outputs": []
    },
    {
      "cell_type": "markdown",
      "source": [
        "This cell loads the gold standard dataset into a dataframe."
      ],
      "metadata": {
        "id": "nsfExizB_toy"
      }
    },
    {
      "cell_type": "code",
      "source": [
        "df0 = pd.read_csv(\"Tutorial-data/Full_misunderstandings_data.csv\")"
      ],
      "metadata": {
        "id": "327TvKs9_l8U"
      },
      "execution_count": 3,
      "outputs": []
    },
    {
      "cell_type": "code",
      "source": [
        "# gives us the number of rows in loaded dataset\n",
        "print(f\"The full dataset contains {len(df0)} sentences coded for misunderstanding.\")"
      ],
      "metadata": {
        "colab": {
          "base_uri": "https://localhost:8080/"
        },
        "id": "E3xYSveDA60O",
        "outputId": "ae6a62f3-86c1-4231-8f11-976083b3a4d0"
      },
      "execution_count": 4,
      "outputs": [
        {
          "output_type": "stream",
          "name": "stdout",
          "text": [
            "The full dataset contains 21994 sentences coded for misunderstanding.\n"
          ]
        }
      ]
    },
    {
      "cell_type": "markdown",
      "source": [
        "## Clean text data for analysis\n",
        "\n",
        "The below cell runs a simple cleaning protocol over the data, selecting only relevant columns for the analysis, renaming columns where appropriate, removing any empty or numeric values in the text column, and deleting any rows which were not coded for 1 or 0 in the misunderstanding column."
      ],
      "metadata": {
        "id": "fBO_3N7bAmDL"
      }
    },
    {
      "cell_type": "code",
      "source": [
        "# Select relevant columns for analysis\n",
        "df0 = df0[[\"turn_id\", \"dialogue_id\", \"turn\", \"text\", \"Misunderstanding\"]]\n",
        "# delete any rows with no text\n",
        "df0 = df0[df0[\"text\"] != \"\"]\n",
        "# delete all na rows with no text\n",
        "df0 = df0[df0['text'].notna()]\n",
        "# delete any numerical rows with no text\n",
        "df0 = df0[~df0['text'].str.isnumeric()]\n",
        "# delete all values for misunderstanding not equal to zero or one\n",
        "df0 = df0[df0[\"Misunderstanding\"].isin([0,1])]\n",
        "# gives us the number of rows in loaded dataset after the cleaning process\n",
        "print(f\"The full dataset contains {len(df0)} sentences after cleaning.\")"
      ],
      "metadata": {
        "colab": {
          "base_uri": "https://localhost:8080/"
        },
        "id": "v6haiJSKAvI_",
        "outputId": "f61854ce-b999-47c3-b2d7-d34a73aa99ca"
      },
      "execution_count": 5,
      "outputs": [
        {
          "output_type": "stream",
          "name": "stdout",
          "text": [
            "The full dataset contains 21982 sentences after cleaning.\n"
          ]
        }
      ]
    },
    {
      "cell_type": "markdown",
      "source": [
        "The cleaning process resulted in 12 rows removed. We can check the first five rows of the dataset to see if they appear as we expect them to:\n",
        "\n"
      ],
      "metadata": {
        "id": "JRjyvod3BvND"
      }
    },
    {
      "cell_type": "code",
      "source": [
        "# inspect dataframe\n",
        "df0.head()"
      ],
      "metadata": {
        "colab": {
          "base_uri": "https://localhost:8080/",
          "height": 206
        },
        "id": "2FYKmU9VAzS2",
        "outputId": "33f85c17-4701-4278-b13c-79487f82992b"
      },
      "execution_count": 6,
      "outputs": [
        {
          "output_type": "execute_result",
          "data": {
            "text/plain": [
              "  turn_id   dialogue_id    turn  \\\n",
              "0  tid_50  group_101723  turn_1   \n",
              "1  tid_50  group_101723  turn_1   \n",
              "2  tid_50  group_101723  turn_1   \n",
              "3  tid_50  group_101723  turn_1   \n",
              "4  tid_50  group_101723  turn_1   \n",
              "\n",
              "                                                text  Misunderstanding  \n",
              "0  CMV: Territorial integrity should be taken les...                 0  \n",
              "1  However, in my opinion, the insistence on part...                 0  \n",
              "2          Take the Western Brownberg as an example.                 0  \n",
              "3  An independent state in the region has no prec...                 0  \n",
              "4  The basis of such claims is that the Spanish u...                 0  "
            ],
            "text/html": [
              "\n",
              "  <div id=\"df-c713088f-d823-44b7-ae33-eb2fc9e87eba\">\n",
              "    <div class=\"colab-df-container\">\n",
              "      <div>\n",
              "<style scoped>\n",
              "    .dataframe tbody tr th:only-of-type {\n",
              "        vertical-align: middle;\n",
              "    }\n",
              "\n",
              "    .dataframe tbody tr th {\n",
              "        vertical-align: top;\n",
              "    }\n",
              "\n",
              "    .dataframe thead th {\n",
              "        text-align: right;\n",
              "    }\n",
              "</style>\n",
              "<table border=\"1\" class=\"dataframe\">\n",
              "  <thead>\n",
              "    <tr style=\"text-align: right;\">\n",
              "      <th></th>\n",
              "      <th>turn_id</th>\n",
              "      <th>dialogue_id</th>\n",
              "      <th>turn</th>\n",
              "      <th>text</th>\n",
              "      <th>Misunderstanding</th>\n",
              "    </tr>\n",
              "  </thead>\n",
              "  <tbody>\n",
              "    <tr>\n",
              "      <th>0</th>\n",
              "      <td>tid_50</td>\n",
              "      <td>group_101723</td>\n",
              "      <td>turn_1</td>\n",
              "      <td>CMV: Territorial integrity should be taken les...</td>\n",
              "      <td>0</td>\n",
              "    </tr>\n",
              "    <tr>\n",
              "      <th>1</th>\n",
              "      <td>tid_50</td>\n",
              "      <td>group_101723</td>\n",
              "      <td>turn_1</td>\n",
              "      <td>However, in my opinion, the insistence on part...</td>\n",
              "      <td>0</td>\n",
              "    </tr>\n",
              "    <tr>\n",
              "      <th>2</th>\n",
              "      <td>tid_50</td>\n",
              "      <td>group_101723</td>\n",
              "      <td>turn_1</td>\n",
              "      <td>Take the Western Brownberg as an example.</td>\n",
              "      <td>0</td>\n",
              "    </tr>\n",
              "    <tr>\n",
              "      <th>3</th>\n",
              "      <td>tid_50</td>\n",
              "      <td>group_101723</td>\n",
              "      <td>turn_1</td>\n",
              "      <td>An independent state in the region has no prec...</td>\n",
              "      <td>0</td>\n",
              "    </tr>\n",
              "    <tr>\n",
              "      <th>4</th>\n",
              "      <td>tid_50</td>\n",
              "      <td>group_101723</td>\n",
              "      <td>turn_1</td>\n",
              "      <td>The basis of such claims is that the Spanish u...</td>\n",
              "      <td>0</td>\n",
              "    </tr>\n",
              "  </tbody>\n",
              "</table>\n",
              "</div>\n",
              "      <button class=\"colab-df-convert\" onclick=\"convertToInteractive('df-c713088f-d823-44b7-ae33-eb2fc9e87eba')\"\n",
              "              title=\"Convert this dataframe to an interactive table.\"\n",
              "              style=\"display:none;\">\n",
              "        \n",
              "  <svg xmlns=\"http://www.w3.org/2000/svg\" height=\"24px\"viewBox=\"0 0 24 24\"\n",
              "       width=\"24px\">\n",
              "    <path d=\"M0 0h24v24H0V0z\" fill=\"none\"/>\n",
              "    <path d=\"M18.56 5.44l.94 2.06.94-2.06 2.06-.94-2.06-.94-.94-2.06-.94 2.06-2.06.94zm-11 1L8.5 8.5l.94-2.06 2.06-.94-2.06-.94L8.5 2.5l-.94 2.06-2.06.94zm10 10l.94 2.06.94-2.06 2.06-.94-2.06-.94-.94-2.06-.94 2.06-2.06.94z\"/><path d=\"M17.41 7.96l-1.37-1.37c-.4-.4-.92-.59-1.43-.59-.52 0-1.04.2-1.43.59L10.3 9.45l-7.72 7.72c-.78.78-.78 2.05 0 2.83L4 21.41c.39.39.9.59 1.41.59.51 0 1.02-.2 1.41-.59l7.78-7.78 2.81-2.81c.8-.78.8-2.07 0-2.86zM5.41 20L4 18.59l7.72-7.72 1.47 1.35L5.41 20z\"/>\n",
              "  </svg>\n",
              "      </button>\n",
              "      \n",
              "  <style>\n",
              "    .colab-df-container {\n",
              "      display:flex;\n",
              "      flex-wrap:wrap;\n",
              "      gap: 12px;\n",
              "    }\n",
              "\n",
              "    .colab-df-convert {\n",
              "      background-color: #E8F0FE;\n",
              "      border: none;\n",
              "      border-radius: 50%;\n",
              "      cursor: pointer;\n",
              "      display: none;\n",
              "      fill: #1967D2;\n",
              "      height: 32px;\n",
              "      padding: 0 0 0 0;\n",
              "      width: 32px;\n",
              "    }\n",
              "\n",
              "    .colab-df-convert:hover {\n",
              "      background-color: #E2EBFA;\n",
              "      box-shadow: 0px 1px 2px rgba(60, 64, 67, 0.3), 0px 1px 3px 1px rgba(60, 64, 67, 0.15);\n",
              "      fill: #174EA6;\n",
              "    }\n",
              "\n",
              "    [theme=dark] .colab-df-convert {\n",
              "      background-color: #3B4455;\n",
              "      fill: #D2E3FC;\n",
              "    }\n",
              "\n",
              "    [theme=dark] .colab-df-convert:hover {\n",
              "      background-color: #434B5C;\n",
              "      box-shadow: 0px 1px 3px 1px rgba(0, 0, 0, 0.15);\n",
              "      filter: drop-shadow(0px 1px 2px rgba(0, 0, 0, 0.3));\n",
              "      fill: #FFFFFF;\n",
              "    }\n",
              "  </style>\n",
              "\n",
              "      <script>\n",
              "        const buttonEl =\n",
              "          document.querySelector('#df-c713088f-d823-44b7-ae33-eb2fc9e87eba button.colab-df-convert');\n",
              "        buttonEl.style.display =\n",
              "          google.colab.kernel.accessAllowed ? 'block' : 'none';\n",
              "\n",
              "        async function convertToInteractive(key) {\n",
              "          const element = document.querySelector('#df-c713088f-d823-44b7-ae33-eb2fc9e87eba');\n",
              "          const dataTable =\n",
              "            await google.colab.kernel.invokeFunction('convertToInteractive',\n",
              "                                                     [key], {});\n",
              "          if (!dataTable) return;\n",
              "\n",
              "          const docLinkHtml = 'Like what you see? Visit the ' +\n",
              "            '<a target=\"_blank\" href=https://colab.research.google.com/notebooks/data_table.ipynb>data table notebook</a>'\n",
              "            + ' to learn more about interactive tables.';\n",
              "          element.innerHTML = '';\n",
              "          dataTable['output_type'] = 'display_data';\n",
              "          await google.colab.output.renderOutput(dataTable, element);\n",
              "          const docLink = document.createElement('div');\n",
              "          docLink.innerHTML = docLinkHtml;\n",
              "          element.appendChild(docLink);\n",
              "        }\n",
              "      </script>\n",
              "    </div>\n",
              "  </div>\n",
              "  "
            ]
          },
          "metadata": {},
          "execution_count": 6
        }
      ]
    },
    {
      "cell_type": "markdown",
      "source": [
        "## Split dataset into training and validation datasets\n",
        "\n",
        "In this section, we randomly split our data into a training dataset (70%) and a validation dataset (30%). This allows us to develop a classifier on the training set. We do this by running the classifier on the training data, observing the results, and making adjustments to the dictionary items. So long as we do not use the validation data during this stage, we can alter the classifier as many times as we need without fear of biasing the results.\n",
        "\n",
        "In this section, we also stratify the data so that the frequency of misunderstandings is the same for both training and validation datasets. This is important for highly imbalanced datasets (such as the one used here) as we want to ensure enough of the positive class of the target variable in the validation set."
      ],
      "metadata": {
        "id": "bZmaWG0xEPXh"
      }
    },
    {
      "cell_type": "code",
      "source": [
        "# for splitting dataset into train and test sets\n",
        "from sklearn.model_selection import train_test_split\n",
        "# create vectors of texts from loaded dataset\n",
        "sentences = df0['text'].copy()\n",
        "# create vector of misunderstanding codes from loaded dataset\n",
        "misunderstanding_codes = df0['Misunderstanding'].astype(int).copy()\n",
        "\n",
        "# Split dataset\n",
        "training_sentences, validation_sentences, training_codes, validation_codes = train_test_split(sentences, # text vector\n",
        "                                                                                              misunderstanding_codes, # codes vector\n",
        "                                                                                              test_size=0.30, # size of validation set (30%)\n",
        "                                                                                              random_state=10, # random seed for replicating random split\n",
        "                                                                                              stratify=misunderstanding_codes) # stratification by the codes vector\n",
        "\n",
        "# Create train dataframe, ensuring codes are integers for the ktrain.text function\n",
        "Training_df = pd.DataFrame({\"text\": training_sentences, \"Misunderstanding\": [int(x) for x in training_codes]})\n",
        "# Create validation dataframe, ensuring codes are integers for the ktrain.text function\n",
        "Validation_df = pd.DataFrame({\"text\": validation_sentences, \"Misunderstanding\": [int(x) for x in validation_codes]})"
      ],
      "metadata": {
        "id": "HI86LA5BFebk"
      },
      "execution_count": null,
      "outputs": []
    },
    {
      "cell_type": "markdown",
      "source": [
        "# Create dictionary items\n",
        "\n",
        "In this section, we load in two spreadsheets used for creating our dictionary items. The first spreadsheet loads raw items into the dataset, while the second spreadsheet provides a list of synonyms and wildcards to generate multiple permutations of the original items."
      ],
      "metadata": {
        "id": "ad3v8R55HR1m"
      }
    },
    {
      "cell_type": "markdown",
      "source": [
        "## Load packages used"
      ],
      "metadata": {
        "id": "5-l2-zYuIVdO"
      }
    },
    {
      "cell_type": "code",
      "source": [
        "# SpaCy's rule based matcher\n",
        "from spacy.matcher import Matcher\n",
        "# SpaCy's medium language model \n",
        "import en_core_web_md\n",
        "# for counting values in a list/array\n",
        "from collections import Counter \n",
        "# for displaying remaining time in a loading bar\n",
        "from tqdm import tqdm \n",
        "# for accuracy statistics\n",
        "from sklearn.metrics import classification_report\n",
        "# load nlp() from SpaCy\n",
        "nlp = en_core_web_md.load()"
      ],
      "metadata": {
        "colab": {
          "base_uri": "https://localhost:8080/"
        },
        "id": "jI_cmlxNIGjr",
        "outputId": "39c10cee-3a88-4d9b-8eb1-69588085ae53"
      },
      "execution_count": null,
      "outputs": [
        {
          "output_type": "stream",
          "name": "stderr",
          "text": [
            "/usr/local/lib/python3.7/dist-packages/spacy/language.py:1899: UserWarning: [W123] Argument disable with value [] is used instead of ['senter'] as specified in the config. Be aware that this might affect other components in your pipeline.\n",
            "  config_value=config[\"nlp\"][key],\n"
          ]
        }
      ]
    },
    {
      "cell_type": "markdown",
      "source": [
        "## Load in dictionary spreadsheets"
      ],
      "metadata": {
        "id": "ho78qpi6IXnl"
      }
    },
    {
      "cell_type": "code",
      "source": [
        "# Download dictionaries from github\n",
        "r = requests.get( 'https://github.com/alexiamhe93/goldStandard-tutorial/blob/main/Data/Dictionaries/Dictionaries.zip?raw=true' ) \n",
        "z1 = zipfile.ZipFile(io.BytesIO(r.content))\n",
        "z1.extractall()"
      ],
      "metadata": {
        "id": "ZCpNhFNYA8sc"
      },
      "execution_count": null,
      "outputs": []
    },
    {
      "cell_type": "code",
      "source": [
        "# dictionaries map\n",
        "dictionary = pd.read_csv(\"Dictionaries/Misunderstanding_dictionary.csv\")\n",
        "# dictionaries augmentation\n",
        "aug_dictionaries = pd.read_csv(\"Dictionaries/Augmenting_dictionary.csv\")"
      ],
      "metadata": {
        "id": "qYluzkdaIboG"
      },
      "execution_count": null,
      "outputs": []
    },
    {
      "cell_type": "code",
      "source": [
        "print(f\"There are {len(dictionary)} items in the misunderstandings dictionary before creating permutations.\")"
      ],
      "metadata": {
        "colab": {
          "base_uri": "https://localhost:8080/"
        },
        "id": "tuEmg9cgJpSm",
        "outputId": "387c60e6-4521-4f02-b6c9-0e3785beaca7"
      },
      "execution_count": null,
      "outputs": [
        {
          "output_type": "stream",
          "name": "stdout",
          "text": [
            "There are 192 items in the misunderstandings dictionary before creating permutations.\n"
          ]
        }
      ]
    },
    {
      "cell_type": "code",
      "source": [
        "# preview first five dictionary items:\n",
        "dictionary.head()"
      ],
      "metadata": {
        "colab": {
          "base_uri": "https://localhost:8080/",
          "height": 206
        },
        "id": "I7EqHVSiInom",
        "outputId": "e7dd0401-6648-4912-b736-ce9544633a47"
      },
      "execution_count": null,
      "outputs": [
        {
          "output_type": "execute_result",
          "data": {
            "text/plain": [
              "                               Misunderstanding\n",
              "0              I [adverb] {misunderstood} {you}\n",
              "1  {I've} [adverb] {misunderstood} {what} {you}\n",
              "2        I {didn't} [adverb] {understand} {you}\n",
              "3       I {haven't} [adverb] {understood} {you}\n",
              "4                     no {idea} {what} {you're}"
            ],
            "text/html": [
              "\n",
              "  <div id=\"df-1fc74312-b337-4e70-ab27-e1645782ad09\">\n",
              "    <div class=\"colab-df-container\">\n",
              "      <div>\n",
              "<style scoped>\n",
              "    .dataframe tbody tr th:only-of-type {\n",
              "        vertical-align: middle;\n",
              "    }\n",
              "\n",
              "    .dataframe tbody tr th {\n",
              "        vertical-align: top;\n",
              "    }\n",
              "\n",
              "    .dataframe thead th {\n",
              "        text-align: right;\n",
              "    }\n",
              "</style>\n",
              "<table border=\"1\" class=\"dataframe\">\n",
              "  <thead>\n",
              "    <tr style=\"text-align: right;\">\n",
              "      <th></th>\n",
              "      <th>Misunderstanding</th>\n",
              "    </tr>\n",
              "  </thead>\n",
              "  <tbody>\n",
              "    <tr>\n",
              "      <th>0</th>\n",
              "      <td>I [adverb] {misunderstood} {you}</td>\n",
              "    </tr>\n",
              "    <tr>\n",
              "      <th>1</th>\n",
              "      <td>{I've} [adverb] {misunderstood} {what} {you}</td>\n",
              "    </tr>\n",
              "    <tr>\n",
              "      <th>2</th>\n",
              "      <td>I {didn't} [adverb] {understand} {you}</td>\n",
              "    </tr>\n",
              "    <tr>\n",
              "      <th>3</th>\n",
              "      <td>I {haven't} [adverb] {understood} {you}</td>\n",
              "    </tr>\n",
              "    <tr>\n",
              "      <th>4</th>\n",
              "      <td>no {idea} {what} {you're}</td>\n",
              "    </tr>\n",
              "  </tbody>\n",
              "</table>\n",
              "</div>\n",
              "      <button class=\"colab-df-convert\" onclick=\"convertToInteractive('df-1fc74312-b337-4e70-ab27-e1645782ad09')\"\n",
              "              title=\"Convert this dataframe to an interactive table.\"\n",
              "              style=\"display:none;\">\n",
              "        \n",
              "  <svg xmlns=\"http://www.w3.org/2000/svg\" height=\"24px\"viewBox=\"0 0 24 24\"\n",
              "       width=\"24px\">\n",
              "    <path d=\"M0 0h24v24H0V0z\" fill=\"none\"/>\n",
              "    <path d=\"M18.56 5.44l.94 2.06.94-2.06 2.06-.94-2.06-.94-.94-2.06-.94 2.06-2.06.94zm-11 1L8.5 8.5l.94-2.06 2.06-.94-2.06-.94L8.5 2.5l-.94 2.06-2.06.94zm10 10l.94 2.06.94-2.06 2.06-.94-2.06-.94-.94-2.06-.94 2.06-2.06.94z\"/><path d=\"M17.41 7.96l-1.37-1.37c-.4-.4-.92-.59-1.43-.59-.52 0-1.04.2-1.43.59L10.3 9.45l-7.72 7.72c-.78.78-.78 2.05 0 2.83L4 21.41c.39.39.9.59 1.41.59.51 0 1.02-.2 1.41-.59l7.78-7.78 2.81-2.81c.8-.78.8-2.07 0-2.86zM5.41 20L4 18.59l7.72-7.72 1.47 1.35L5.41 20z\"/>\n",
              "  </svg>\n",
              "      </button>\n",
              "      \n",
              "  <style>\n",
              "    .colab-df-container {\n",
              "      display:flex;\n",
              "      flex-wrap:wrap;\n",
              "      gap: 12px;\n",
              "    }\n",
              "\n",
              "    .colab-df-convert {\n",
              "      background-color: #E8F0FE;\n",
              "      border: none;\n",
              "      border-radius: 50%;\n",
              "      cursor: pointer;\n",
              "      display: none;\n",
              "      fill: #1967D2;\n",
              "      height: 32px;\n",
              "      padding: 0 0 0 0;\n",
              "      width: 32px;\n",
              "    }\n",
              "\n",
              "    .colab-df-convert:hover {\n",
              "      background-color: #E2EBFA;\n",
              "      box-shadow: 0px 1px 2px rgba(60, 64, 67, 0.3), 0px 1px 3px 1px rgba(60, 64, 67, 0.15);\n",
              "      fill: #174EA6;\n",
              "    }\n",
              "\n",
              "    [theme=dark] .colab-df-convert {\n",
              "      background-color: #3B4455;\n",
              "      fill: #D2E3FC;\n",
              "    }\n",
              "\n",
              "    [theme=dark] .colab-df-convert:hover {\n",
              "      background-color: #434B5C;\n",
              "      box-shadow: 0px 1px 3px 1px rgba(0, 0, 0, 0.15);\n",
              "      filter: drop-shadow(0px 1px 2px rgba(0, 0, 0, 0.3));\n",
              "      fill: #FFFFFF;\n",
              "    }\n",
              "  </style>\n",
              "\n",
              "      <script>\n",
              "        const buttonEl =\n",
              "          document.querySelector('#df-1fc74312-b337-4e70-ab27-e1645782ad09 button.colab-df-convert');\n",
              "        buttonEl.style.display =\n",
              "          google.colab.kernel.accessAllowed ? 'block' : 'none';\n",
              "\n",
              "        async function convertToInteractive(key) {\n",
              "          const element = document.querySelector('#df-1fc74312-b337-4e70-ab27-e1645782ad09');\n",
              "          const dataTable =\n",
              "            await google.colab.kernel.invokeFunction('convertToInteractive',\n",
              "                                                     [key], {});\n",
              "          if (!dataTable) return;\n",
              "\n",
              "          const docLinkHtml = 'Like what you see? Visit the ' +\n",
              "            '<a target=\"_blank\" href=https://colab.research.google.com/notebooks/data_table.ipynb>data table notebook</a>'\n",
              "            + ' to learn more about interactive tables.';\n",
              "          element.innerHTML = '';\n",
              "          dataTable['output_type'] = 'display_data';\n",
              "          await google.colab.output.renderOutput(dataTable, element);\n",
              "          const docLink = document.createElement('div');\n",
              "          docLink.innerHTML = docLinkHtml;\n",
              "          element.appendChild(docLink);\n",
              "        }\n",
              "      </script>\n",
              "    </div>\n",
              "  </div>\n",
              "  "
            ]
          },
          "metadata": {},
          "execution_count": 11
        }
      ]
    },
    {
      "cell_type": "markdown",
      "source": [
        "## Augment dictionary with permutations\n",
        "\n",
        "We can observe that the dictionary has three types of words included within it:\n",
        "\n",
        "1.   Words with no brackets: indicates a permanent word that does not vary across permutations\n",
        "2.   Words with square brackets: indicates a wild card word that can be replaced either by any value in a list of words or no word at all\n",
        "3.   Words with curly brackets: indicates a permanent word that is to be replaced by a list of synonyms. \n",
        "\n",
        "As an illustrative example, consider the first item in the dictionary: \n",
        "\n",
        "> `I [adverb] {misunderstood} {you}` \n",
        "\n",
        "We use the following (simplified) dictionaries to create permutations on the sentence:\n",
        "\n",
        "> `adverb = [\"completely\", \"actually\"]` \n",
        "\n",
        "> `misunderstood = [\"misunderstood\", \"misinterpreted\"]`\n",
        "\n",
        "> `you = [\"you\", \"your\"]`\n",
        "\n",
        "By inputting the permutation dictionary items into the target item, we generate the following permutations:\n",
        "\n",
        "\n",
        "> `new_items = [\"I misunderstood you\", \"I misunderstood your\", \"I completely misunderstood you\", \"I completely misunderstood your\", \"I actually misunderstood you\", \"I actually misunderstood your\", \"I misinterpreted you\", \"I misinterpreted your\", \"I completely misinterpreted you\", \"I completely misinterpreted your\", \"I actually misinterpreted you\", \"I actually misinterpreted your\"]`\n",
        "\n",
        "Using this simple protocol, we create 12 new items from a single item by replacing synonyms and adding wildcards."
      ],
      "metadata": {
        "id": "4uNyuqaWLtzS"
      }
    },
    {
      "cell_type": "markdown",
      "source": [
        "### Convert misunderstanding dictionary and augmenting dictionaries into correct formats"
      ],
      "metadata": {
        "id": "M7kZDczlMtvR"
      }
    },
    {
      "cell_type": "code",
      "source": [
        "# convert dictionary to list\n",
        "misunderstanding_items = dictionary[\"Misunderstanding\"].to_list()"
      ],
      "metadata": {
        "id": "wkp0dPKcL2Ym"
      },
      "execution_count": null,
      "outputs": []
    },
    {
      "cell_type": "code",
      "source": [
        "# create dictionaries of synonyms and wildcards. \n",
        "# These are in the Python dict format: {\"key\":\"values\"}, as this is easier to process:\n",
        "\n",
        "# Synonym dictionary\n",
        "synonyms = aug_dictionaries[[c for c in aug_dictionaries.columns.values if \"{\" in c]]\n",
        "# convert to dictionary format\n",
        "synonyms_dict = {}\n",
        "for col in synonyms.columns:\n",
        "  synonyms_dict[col] = synonyms[col].dropna().to_list()\n",
        "\n",
        "# Wild card dictionary\n",
        "wild_cards = aug_dictionaries[[c for c in aug_dictionaries.columns.values if \"[\" in c]]\n",
        "# convert to dictionary format\n",
        "wild_cards_dict = {}\n",
        "for col in wild_cards:\n",
        "  wild_cards_dict[col] = wild_cards[col].dropna().to_list() + [\"\"] # add empty space necessary for deleting the wild card type"
      ],
      "metadata": {
        "id": "xYD5LWWML3RP"
      },
      "execution_count": null,
      "outputs": []
    },
    {
      "cell_type": "markdown",
      "source": [
        "### Define functions for augmenting the items.\n",
        "\n",
        "These functions are used to create all of the different permutations in the dictionary items. The first function creates new items by iterating once across the permutation dictionaries. The second function iterates over the first function until all permutations have been created and no words with square or curly brackets remain in the items. "
      ],
      "metadata": {
        "id": "l93_MYixM1E9"
      }
    },
    {
      "cell_type": "code",
      "source": [
        "# create functions to map on synonyms/wildcards\n",
        "\n",
        "# this function replaces the dictionary words only once\n",
        "def dictionary_augmenter(item, target_dict, wildcard = False):\n",
        "  # check if item needs processing\n",
        "  if (\"{\" not in item) & (\"[\" not in item):\n",
        "    return [item]\n",
        "  else:\n",
        "    # create output list\n",
        "    new_items = []\n",
        "    # iterate over dictionary keys and values\n",
        "    for k,v in target_dict.items():\n",
        "      # if the word (key) is in the target item\n",
        "      if k in item:\n",
        "        # for every synonym in the values\n",
        "        for v_ in v:\n",
        "          # create a new item\n",
        "          out_item = item.replace(k, v_)\n",
        "          # if a wildcard item, remove any double spaces\n",
        "          if wildcard == True:\n",
        "            out_item = out_item.replace(\"  \", \" \")\n",
        "          # add new item to output list of items\n",
        "          new_items.append(out_item)\n",
        "    # return output      \n",
        "    return new_items\n",
        "\n",
        "# iterates over previous function until all items have been replaced\n",
        "\n",
        "def synonym_augmenter(item, target_dict, wildcard = False):\n",
        "  if (\"{\" not in item) & (\"[\" not in item):\n",
        "    return [item]\n",
        "  else:\n",
        "    # run previous function and create initial list of augmented items\n",
        "    item_list = dictionary_augmenter(item, target_dict, wildcard)\n",
        "    # extract items (dependent on if synonyms or wild cards) that have no brackets\n",
        "    if wildcard == True:\n",
        "      good_items = [i for i in item_list if \"[\" not in i]\n",
        "    else:\n",
        "      good_items = [i for i in item_list if \"{\" not in i]\n",
        "    # create a string of all items to test if any brackets remaining in items\n",
        "    itemstring = ' '.join(item_list)\n",
        "    # check if any synonyms to replace\n",
        "    if \"{\" in itemstring:\n",
        "      # iterates over the item list until all synonyms have been replaced\n",
        "      while \"{\" in itemstring:\n",
        "        # create new items for each item in the initial list of augmented items\n",
        "        item_list = [dictionary_augmenter(i, target_dict, wildcard) for i in item_list]\n",
        "        # flatten list of list\n",
        "        item_list = [y for x in item_list for y in x]\n",
        "        # add all clean items to final list (dependent on if synonyms or wild cards) \n",
        "        if wildcard == True:\n",
        "          good_items = good_items + [i for i in item_list if \"[\" not in i]\n",
        "        else:\n",
        "          good_items = good_items + [i for i in item_list if \"{\" not in i]\n",
        "        # create a new string of all items to check if any brackets remaining.\n",
        "        # If any items still have a bracket, the loop will repeat. \n",
        "        itemstring = ' '.join(item_list)\n",
        "      # return the final list of items\n",
        "      return item_list + good_items\n",
        "    else:\n",
        "      return good_items"
      ],
      "metadata": {
        "id": "jhKMSG97L3Ov"
      },
      "execution_count": null,
      "outputs": []
    },
    {
      "cell_type": "markdown",
      "source": [
        "### Augment list of items with all permutations"
      ],
      "metadata": {
        "id": "PvZAnurVOkVh"
      }
    },
    {
      "cell_type": "code",
      "source": [
        "# augment the understanding dictionary by looping the new function over every sentence\n",
        "augmented_misunderstanding_items = [synonym_augmenter(s, synonyms_dict) for s in misunderstanding_items] \n",
        "# flatten list of lists\n",
        "augmented_misunderstanding_items = [y for x in augmented_misunderstanding_items for y in x]\n",
        "\n",
        "# repeat for the wildcards\n",
        "augmented_misunderstanding_items = [synonym_augmenter(s, wild_cards_dict, wildcard=True) for s in augmented_misunderstanding_items]\n",
        "augmented_misunderstanding_items = [y for x in augmented_misunderstanding_items for y in x]\n",
        "\n",
        "# delete any duplicates emerging during the permutation process\n",
        "augmented_misunderstanding_items = list(set(augmented_misunderstanding_items))\n",
        "print(f\"there are {len(augmented_misunderstanding_items)} items in the augmented misunderstanding dictionary.\")"
      ],
      "metadata": {
        "colab": {
          "base_uri": "https://localhost:8080/"
        },
        "id": "jMufHMzkL3L0",
        "outputId": "484ca9c6-2cda-4392-c76a-31131a0ffb5e"
      },
      "execution_count": null,
      "outputs": [
        {
          "output_type": "stream",
          "name": "stdout",
          "text": [
            "there are 210245 items in the augmented misunderstanding dictionary.\n"
          ]
        }
      ]
    },
    {
      "cell_type": "markdown",
      "source": [
        "## Create spaCy patterns from augmented items\n",
        "\n",
        "We have now created a list of 210,245 augmented items. In this subsection, we put them in a format for use with the spaCy rule-based matcher.\n",
        "\n",
        "The spaCy patterns expect a Python dictionary of tokens indicating how they should be searched for. The general pattern is as follows:\n",
        "\n",
        "> `\"I don't get your point.\"` becomes: `{{\"LOWER\":\"I\"}, {\"LOWER\": \"do\"}, {\"LOWER\": \"n't\"}, {\"LOWER\": \"get\"}, {\"LOWER\":\"your\"}, {\"LOWER\": \"point\"}, {\"IS_PUNCT\":True}}`\n",
        "\n",
        "The spaCy patterns expect collocations to be split (`don't` into `do` and `n't`) and any punctuation to be input by the `IS_PUNCT` command."
      ],
      "metadata": {
        "id": "Zh4TEkrIPR49"
      }
    },
    {
      "cell_type": "markdown",
      "source": [
        "### Define function to create spaCy patterns"
      ],
      "metadata": {
        "id": "_1dvsbpbRc9B"
      }
    },
    {
      "cell_type": "code",
      "source": [
        "def createPattern(item, # expects a dictionary item as a string\n",
        "                  nlp): # expects SpaCy NLP \n",
        "  # output list\n",
        "  out_pat = []\n",
        "  # create spacy document from item\n",
        "  doc = nlp(item)\n",
        "  # for every token in the document\n",
        "  for t in doc:\n",
        "    # let x be the lowercase token\n",
        "    x = t.text.lower()\n",
        "    # if the token is punctuation:\n",
        "    if t.dep_ == \"punct\":\n",
        "      # add punctuation pattern to output list\n",
        "      out_pat.append({\"IS_PUNCT\":True})\n",
        "    else:\n",
        "      # if not punctuation, return the pattern for a lowercase word\n",
        "      out_pat.append({\"LOWER\":x})\n",
        "  return out_pat"
      ],
      "metadata": {
        "id": "7qfFyPgZL3I6"
      },
      "execution_count": null,
      "outputs": []
    },
    {
      "cell_type": "markdown",
      "source": [
        "### Run the function across all dictionary items to create a list of spaCy patterns\n",
        "\n",
        "> **NOTE** For large dictionaries (such as this one) this function can take a long time to run (> 30 minutes)."
      ],
      "metadata": {
        "id": "PAx2Pi7kRtHn"
      }
    },
    {
      "cell_type": "code",
      "source": [
        "# output list for misunderstanding patterns\n",
        "misunderstanding_patterns = []\n",
        "# for each phrase in the dictionary\n",
        "for x in tqdm(augmented_misunderstanding_items): \n",
        "  # create pattern from phrase and add to output list\n",
        "  misunderstanding_patterns.append(createPattern(x, nlp))"
      ],
      "metadata": {
        "colab": {
          "base_uri": "https://localhost:8080/"
        },
        "id": "VMVkc6b1L3GA",
        "outputId": "d0c12f6c-1e21-4065-c4ee-3a6878e61bae"
      },
      "execution_count": null,
      "outputs": [
        {
          "output_type": "stream",
          "name": "stderr",
          "text": [
            "100%|██████████| 210245/210245 [37:32<00:00, 93.33it/s]\n"
          ]
        }
      ]
    },
    {
      "cell_type": "markdown",
      "source": [
        "# Run classifier on training set & troubleshoot results\n",
        "\n",
        "The following section runs the dictionary on the training dataset. The results of this stage allows the user to troubleshoot any problems in the result."
      ],
      "metadata": {
        "id": "FtQ5pjE1SOQ7"
      }
    },
    {
      "cell_type": "markdown",
      "source": [
        "## Run classifier and generate a column of results"
      ],
      "metadata": {
        "id": "IoumuCUQS1x0"
      }
    },
    {
      "cell_type": "code",
      "source": [
        "# function for generating pattern matches\n",
        "\n",
        "def create_matches(df, # expects dataframe\n",
        "                   patterns, # expect list of patterns\n",
        "                   patterns_tag, # expects string - variable name\n",
        "                   nlp, # expects SpaCy nlp()\n",
        "                   text_col = \"text\"): # name of text column - default = \"text\"\n",
        "  df[\"doc\"] = [nlp(d) for d in df[text_col]]\n",
        "  # initiate the pattern matcher\n",
        "  matcher = Matcher(nlp.vocab)\n",
        "  # add patterns to the matcher\n",
        "  matcher.add(patterns_tag, patterns)\n",
        "  # output list\n",
        "  output = []\n",
        "  # for document in document column\n",
        "  for doc in tqdm(df.doc):\n",
        "    # create matches\n",
        "    matches = matcher(doc)\n",
        "    # count matches\n",
        "    counts = Counter(element[0] for element in matches)\n",
        "    # update output list with frequency counts for document\n",
        "    value = None\n",
        "    for entry in counts:\n",
        "        value = counts[entry]\n",
        "    output.append(value)\n",
        "  # create output column of matches\n",
        "  df[patterns_tag] = output\n",
        "  # fill no matches (nan) with zero\n",
        "  df[patterns_tag] = df[patterns_tag].fillna(0)\n",
        "  # return dataframe\n",
        "  return df\n",
        "\n",
        "# function for making a frequency vector binary \n",
        "def binaryMaker(list_):\n",
        "  out = []\n",
        "  for x in list_:\n",
        "    if x > 0:\n",
        "      out.append(1)\n",
        "    else:\n",
        "      out.append(0)\n",
        "  return out"
      ],
      "metadata": {
        "id": "4wcqM5D1Si2i"
      },
      "execution_count": null,
      "outputs": []
    },
    {
      "cell_type": "code",
      "source": [
        "# Get frequency count for results\n",
        "Training_df = create_matches(Training_df, misunderstanding_patterns, \"Misunderstanding_predicted\", nlp)\n",
        "# convert frequency count to a binary variable\n",
        "Training_df[\"Misunderstanding_predicted\"] = binaryMaker(Training_df[\"Misunderstanding_predicted\"].tolist())"
      ],
      "metadata": {
        "colab": {
          "base_uri": "https://localhost:8080/"
        },
        "id": "gSNEiEhxS-jO",
        "outputId": "1e919d5e-59cf-45f9-c092-4da76e05804f"
      },
      "execution_count": null,
      "outputs": [
        {
          "output_type": "stream",
          "name": "stderr",
          "text": [
            "100%|██████████| 15387/15387 [1:02:04<00:00,  4.13it/s]\n"
          ]
        }
      ]
    },
    {
      "cell_type": "markdown",
      "source": [
        "## Check accuracy of classifier results\n",
        "\n",
        "To assess the accuracy of the results, we first generate a **confusion matrix** that shows the true/false positives and negatives for the classifier. A true positive is where the predicted code equals 1 and the gold-standard code equals 1; a true negative is where the predicted code equals 0 and the gold-standard code equals 0; a false positive is where the predicted code equals 0 but the gold-standard code equals 1; and, finally, a false negative is where the predicted code equals 1 but the gold-standard code equals 0. "
      ],
      "metadata": {
        "id": "COcWlTs6Tayc"
      }
    },
    {
      "cell_type": "code",
      "source": [
        "from sklearn.metrics import confusion_matrix\n",
        "from sklearn.metrics import ConfusionMatrixDisplay\n",
        "import matplotlib.pyplot as plt\n",
        "# create confusion matrix\n",
        "cm = confusion_matrix(Training_df[\"Misunderstanding\"].tolist(), Training_df[\"Misunderstanding_predicted\"].tolist())\n",
        "# plot the results\n",
        "disp = ConfusionMatrixDisplay(cm, display_labels = [\"No Misunderstanding\", \"Misunderstanding\"])\n",
        "disp.plot()\n",
        "plt.show()"
      ],
      "metadata": {
        "colab": {
          "base_uri": "https://localhost:8080/",
          "height": 279
        },
        "id": "NU5t58MbS-gC",
        "outputId": "aa21072f-1b14-405a-c4e3-bbfa02541319"
      },
      "execution_count": null,
      "outputs": [
        {
          "output_type": "display_data",
          "data": {
            "text/plain": [
              "<Figure size 432x288 with 2 Axes>"
            ],
            "image/png": "[encoded data removed]"
          },
          "metadata": {
            "needs_background": "light"
          }
        }
      ]
    },
    {
      "cell_type": "markdown",
      "source": [
        "\n",
        "Using the true/false positives/negatives, we can generate four accuracy statistics to estimate the performance of the classifier:\n",
        "\n",
        "*   Accuracy: the ratio of correct predictions \n",
        "*   Precision: the ratio of true positives to true positives and false positives\n",
        "*   Recall: the ratio of true positives to true positives and false negatives\n",
        "*   F1 score: harmonic mean of precision and recall"
      ],
      "metadata": {
        "id": "LW8klI1NUbYT"
      }
    },
    {
      "cell_type": "code",
      "source": [
        "print(classification_report(Training_df[\"Misunderstanding\"].tolist(), Training_df[\"Misunderstanding_predicted\"].tolist()))"
      ],
      "metadata": {
        "colab": {
          "base_uri": "https://localhost:8080/"
        },
        "id": "LQM8CyGvS-c6",
        "outputId": "ddc75822-00f8-45e1-e52c-cb4599b49411"
      },
      "execution_count": null,
      "outputs": [
        {
          "output_type": "stream",
          "name": "stdout",
          "text": [
            "              precision    recall  f1-score   support\n",
            "\n",
            "           0       0.94      0.99      0.96     14187\n",
            "           1       0.56      0.22      0.31      1200\n",
            "\n",
            "    accuracy                           0.93     15387\n",
            "   macro avg       0.75      0.60      0.64     15387\n",
            "weighted avg       0.91      0.93      0.91     15387\n",
            "\n"
          ]
        }
      ]
    },
    {
      "cell_type": "markdown",
      "source": [
        "## Troubleshoot results\n",
        "\n",
        "We observe from our results that the classifier is performing poorly for correctly identifying misunderstandings in the gold-standard dataset. The classifier has higher precision (0.56) than recall (0.22), indicating that it is better at identifying misunderstandings correctly than identifying misunderstandings generally. This is verified by observing the number of false positives (n=207) and false negatives (n=941) in the confusion matrix. \n",
        "\n",
        "> **NOTE**: Using only the accuracy statistic for validation obscures the classifier's poor performance (Accuracy = 0.93). As the majority class is 0 (i.e. not misunderstandings), the classifier would perform relatively well by classifying most texts into the majority class. The F1, Precision, and Recall statistics for predicting the minority class (i.e. misunderstandings) provide a more robust indication of the classifier's performance.\n",
        "\n",
        "To troubleshoot the classifier results, it is necessary to examine both the false negatives and false positives. The false negatives give an insight into the classifier's recall while the false positives give an insight into the classifier's precision. We use a combination of three methods to explore the classifier's performance:\n",
        "\n",
        "1. Qualitative assessment of false negatives/positives. This indicates how the classifier is treating the raw texts from the gold-standard dataset.\n",
        "\n",
        "2. Look at the most frequently co-occuring words for false negatives/positives. This provides us patterns from the results that can be used to remove or add items as required.\n",
        "\n",
        "3. Look at the unique co-occuring words for the false negatives. This provides patterns that are unique to the target variable (i.e. misunderstandings)."
      ],
      "metadata": {
        "id": "lCuG5esYXSKL"
      }
    },
    {
      "cell_type": "markdown",
      "source": [
        "### Qualitative assessment of false positives and false negatives"
      ],
      "metadata": {
        "id": "ZLPc8SJkaWSH"
      }
    },
    {
      "cell_type": "code",
      "source": [
        "# for fetching a random sample\n",
        "import random\n",
        "\n",
        "# function to identify false positives or negatives\n",
        "def generate_n_false_pos_or_neg(df, # dataframe with predictions\n",
        "                                true_col, # column with gold-standard codes\n",
        "                                predicted_col, # column with codes generated by classifier\n",
        "                                target=\"FP\", # target - false negatives or false positives. Default = false positives\n",
        "                                n_examples =50, # number of examples to generate. Default = 50\n",
        "                                text_col = \"text\"): # name of text column - default = \"text\"\n",
        "  # get full list of false negatives\n",
        "  false_negatives = df[(df[true_col]==1) & (df[predicted_col] == 0)][\"text\"].to_list()\n",
        "  # get full list of false positives\n",
        "  false_positives = df[(df[true_col]==0) & (df[predicted_col] == 1)][\"text\"].to_list()\n",
        "  # create random sample for output\n",
        "  if target == \"FP\":\n",
        "    output = random.sample(false_positives, n_examples)\n",
        "  elif target == \"FN\":\n",
        "    output = random.sample(false_negatives, n_examples)\n",
        "  else:\n",
        "    print(\"WARNING: Please input target as 'FN' for false negatives or 'FP' for false positives\")\n",
        "    output = []\n",
        "  # return random sample\n",
        "  return output"
      ],
      "metadata": {
        "id": "dloVaDYWS-VN"
      },
      "execution_count": null,
      "outputs": []
    },
    {
      "cell_type": "markdown",
      "source": [
        "#### False negatives example sentences\n",
        "\n",
        "Observing the raw text of the false negatives gives an insight into what items are potentially missing from the classifier. For instance, the first sentence contains the phrase \"i want to make sure i understood what u mean\" which indicates a misunderstanding but is not being identified by the classifier. This is likely due to the use of the letter \"u\" instead of the second person pronoun which, under this version of the dictionary, is not being captured. A future version of the dictionary, therefore, might consider adding the letter \"u\" as a possible permutation of the word \"you\". \n",
        "\n",
        "> **NOTE** Researchers should avoid copy-pasting sentences from the false negatives directly into the dictionary items. This may improve the precision but creates overfitting, where the classifier is only able to predict the variable in the original data. Overfitting results in the classifier performing poorly when applied to new data. Instead, researchers should devise generalisable patterns from the false negatives that could logically apply across multiple texts. "
      ],
      "metadata": {
        "id": "ZhIpegeybj-1"
      }
    },
    {
      "cell_type": "code",
      "source": [
        "generate_n_false_pos_or_neg(Training_df, \"Misunderstanding\", \"Misunderstanding_predicted\", target = \"FN\", n_examples = 10)"
      ],
      "metadata": {
        "colab": {
          "base_uri": "https://localhost:8080/"
        },
        "id": "QoQhCJAEbnLe",
        "outputId": "c97f1173-8fd5-4ce6-b87a-d6195782d8e7"
      },
      "execution_count": null,
      "outputs": [
        {
          "output_type": "execute_result",
          "data": {
            "text/plain": [
              "['about notability: i want to make sure i understood what u mean: r u saying that i wrote an article about something that does not exists and i need to prove its existence?',\n",
              " 'Sorry about that, I had some real life stuff that was consuming much of my energy and did not do as much as I should have.',\n",
              " 'Have you ever overstepped anything that was looked as \"teens being teens\" at the time?',\n",
              " \"Deborah, we've not heard from you are you still experiencing log in issues?\",\n",
              " 'NOT believe ALL women.',\n",
              " 'I was drawing attention to the points I particularly agreed with, and your submission was one of them.',\n",
              " \"He wanted all three of us to vote, that's why I asked you.\",\n",
              " 'Since the issue has already been solved I see no need to explain it anywhere.',\n",
              " 'Both, though I mean the former more.',\n",
              " 'Thanks, Nicholas, not sure about this!']"
            ]
          },
          "metadata": {},
          "execution_count": 32
        }
      ]
    },
    {
      "cell_type": "markdown",
      "source": [
        "#### False positives example sentences\n",
        "\n",
        "Observing the raw text of the false positives provides aninsight into which items may be too broad and, therefore, capturing problematic items. For instance, the first sentence below contains the phrase \"but what I'm saying is\" which relates to an item in the current misunderstandings dictionary. While this phrase does indicate misunderstandings in some contexts, it can also refer to a grammatical hedge, where an individual is attempting to clarify or simplify something they have previously said in their comment (similar to the phrase \"in other words\" or \"i.e.\"). Removing or making this item more specific – for instance \"what I was saying above\" – may improve the precision of the dictionary and prevent a false positive."
      ],
      "metadata": {
        "id": "gz_pe3hEboJw"
      }
    },
    {
      "cell_type": "code",
      "source": [
        "generate_n_false_pos_or_neg(Training_df, \"Misunderstanding\", \"Misunderstanding_predicted\", target = \"FP\", n_examples = 10)"
      ],
      "metadata": {
        "colab": {
          "base_uri": "https://localhost:8080/"
        },
        "id": "jY3ffsRnbn3a",
        "outputId": "87935af6-a11f-4102-83b4-87e543181716"
      },
      "execution_count": null,
      "outputs": [
        {
          "output_type": "execute_result",
          "data": {
            "text/plain": [
              "[\"To be clear, I know this is not a black and white issue, but what I'm saying is that if you add it all up, religion has not helped our society improve more than it could have if we just acted treated everyone with love and left our planet better than we found it.\",\n",
              " 'Sir, if you are not going to undelete the page, I have no other choice than to bring the matter to [[WP:DELETION REVIEW]].--',\n",
              " 'Glad I got my part correct and that the system works.',\n",
              " \"I'm not sure what happened to the dashes during that crazy day.\",\n",
              " 'You know how when you try to look through a window at a very slight angle you only see reflection?',\n",
              " 'I am from the [[Jonesport]] (if that\\'s what you mean by \\\\\"Midland\\\\\") and no one in my town pronounces the vowel sound in words like \\\\\"row\\\\\" the same way a southerner would.',\n",
              " 'upvoted you because idk who the hell downvoted you or why they did.',\n",
              " 'I had trouble coming up with a title that actually stated a particular point that could be argued against, but I am open to hearing arguments regarding binary trans identities (as well as otherkin identities if anyone would like to make arguments that may help me understand those).',\n",
              " 'I\\'m not sure what (or who) James and TS are referring to, but I do have a concern about the wording of the definition of 2.1, \\\\\"uninvolved administrators.\\\\\" I think that it needs to be broadened to avoid problems in the future.',\n",
              " \"We could create a checklist and just go through finding uses for each column, I am sure it's like the video game mag thing you mentioned above.\"]"
            ]
          },
          "metadata": {},
          "execution_count": 37
        }
      ]
    },
    {
      "cell_type": "markdown",
      "source": [
        "### Find most frequent ngrams\n",
        "\n",
        "A sentence can be split into varying chuncks of co-occuring words. We refer to these co-occuring words as \"ngrams\".  To illustrate, consider the phrase: `\"I don't understand you\"`. We can generate three bigrams from the phrase: `\"I don't\", \"don't understand\", \"understand you\"`, two trigrams: `\"I don't understand\", \"don't understand you\"`, or a single quadgram: `\"I don't understand you\"`. \n",
        "\n",
        "The below function and cells generates the most frequently occuring ngrams for a list of texts. We can use the functions from the previous subsections for generating false positves and negatives and then use these to generate ngrams."
      ],
      "metadata": {
        "id": "vyKxkTCOcAkZ"
      }
    },
    {
      "cell_type": "code",
      "source": [
        "from sklearn.feature_extraction.text import CountVectorizer \n",
        "\n",
        "def get_top_ngrams_from_texts(list_of_texts, # input list of texts\n",
        "                              ngram_size = 3, # size of ngram. Default = trigram\n",
        "                              n_examples = 50): # number of examples to generate. Default = 50\n",
        "  # prime the vectorizer from sklearn that will generate all ngrams of the input ngram size\n",
        "  vectorizer = CountVectorizer(ngram_range=(ngram_size,ngram_size))\n",
        "  analyzer = vectorizer.build_analyzer()\n",
        "  # create empty list to populate with ngrams\n",
        "  output_ngrams = []\n",
        "  # iterate over list of texts and add ngrams for each text to the output list\n",
        "  for text in list_of_texts:\n",
        "    output_ngrams = output_ngrams + analyzer(text)\n",
        "  # count frequency of each ngram and put into a dataframe\n",
        "  outdf = pd.DataFrame.from_dict(Counter(output_ngrams), orient = \"index\").reset_index()\n",
        "  outdf = outdf.rename(columns = {\"index\": \"Text\", 0: \"Count\"})\n",
        "  # sort dataframe by highest occuring ngrams\n",
        "  outdf = outdf.sort_values(\"Count\", ascending = False)\n",
        "  # return n_examples of highest occuring ngrams\n",
        "  outdf = outdf.head(n_examples)\n",
        "  return outdf"
      ],
      "metadata": {
        "id": "dDYmiXI7bnw1"
      },
      "execution_count": null,
      "outputs": []
    },
    {
      "cell_type": "code",
      "source": [
        "# create list of false positives and false negatives from training dataset\n",
        "false_negatives = generate_n_false_pos_or_neg(Training_df, \"Misunderstanding\", \"Misunderstanding_predicted\", target = \"FN\", n_examples = 941)\n",
        "false_positives = generate_n_false_pos_or_neg(Training_df, \"Misunderstanding\", \"Misunderstanding_predicted\", target = \"FP\", n_examples = 207)"
      ],
      "metadata": {
        "id": "R16w4Hijh6QK"
      },
      "execution_count": null,
      "outputs": []
    },
    {
      "cell_type": "markdown",
      "source": [
        "#### Most frequent trigrams for false negatives\n",
        "\n",
        "The most frequent false negatives ngrams gives an insight into common patterns that may be useful to derive and create new items. Unlike the raw sentences, observing ngrams provide the researcher with indicators of potential patterns. For instance, the phrase \"sorry about that\" might become an additional item for the dictionary and improve the classifier's recall."
      ],
      "metadata": {
        "id": "ZM7PZ4NHhiOt"
      }
    },
    {
      "cell_type": "code",
      "source": [
        "get_top_ngrams_from_texts(false_negatives, ngram_size =3, n_examples = 10)"
      ],
      "metadata": {
        "colab": {
          "base_uri": "https://localhost:8080/",
          "height": 363
        },
        "id": "YCw-E0ikbnob",
        "outputId": "19775577-8089-4b3d-e949-df10f63e9e43"
      },
      "execution_count": null,
      "outputs": [
        {
          "output_type": "execute_result",
          "data": {
            "text/plain": [
              "                     Text  Count\n",
              "1890        the talk page      9\n",
              "1889          on the talk      9\n",
              "3241           that it is      7\n",
              "1252      index php title      7\n",
              "1251        org index php      7\n",
              "1250  wikipedia org index      7\n",
              "1249     en wikipedia org      7\n",
              "1248    http en wikipedia      7\n",
              "760          that you are      6\n",
              "1147     sorry about that      5"
            ],
            "text/html": [
              "\n",
              "  <div id=\"df-26d24a70-83e7-4a49-96c4-210b4677f695\">\n",
              "    <div class=\"colab-df-container\">\n",
              "      <div>\n",
              "<style scoped>\n",
              "    .dataframe tbody tr th:only-of-type {\n",
              "        vertical-align: middle;\n",
              "    }\n",
              "\n",
              "    .dataframe tbody tr th {\n",
              "        vertical-align: top;\n",
              "    }\n",
              "\n",
              "    .dataframe thead th {\n",
              "        text-align: right;\n",
              "    }\n",
              "</style>\n",
              "<table border=\"1\" class=\"dataframe\">\n",
              "  <thead>\n",
              "    <tr style=\"text-align: right;\">\n",
              "      <th></th>\n",
              "      <th>Text</th>\n",
              "      <th>Count</th>\n",
              "    </tr>\n",
              "  </thead>\n",
              "  <tbody>\n",
              "    <tr>\n",
              "      <th>1890</th>\n",
              "      <td>the talk page</td>\n",
              "      <td>9</td>\n",
              "    </tr>\n",
              "    <tr>\n",
              "      <th>1889</th>\n",
              "      <td>on the talk</td>\n",
              "      <td>9</td>\n",
              "    </tr>\n",
              "    <tr>\n",
              "      <th>3241</th>\n",
              "      <td>that it is</td>\n",
              "      <td>7</td>\n",
              "    </tr>\n",
              "    <tr>\n",
              "      <th>1252</th>\n",
              "      <td>index php title</td>\n",
              "      <td>7</td>\n",
              "    </tr>\n",
              "    <tr>\n",
              "      <th>1251</th>\n",
              "      <td>org index php</td>\n",
              "      <td>7</td>\n",
              "    </tr>\n",
              "    <tr>\n",
              "      <th>1250</th>\n",
              "      <td>wikipedia org index</td>\n",
              "      <td>7</td>\n",
              "    </tr>\n",
              "    <tr>\n",
              "      <th>1249</th>\n",
              "      <td>en wikipedia org</td>\n",
              "      <td>7</td>\n",
              "    </tr>\n",
              "    <tr>\n",
              "      <th>1248</th>\n",
              "      <td>http en wikipedia</td>\n",
              "      <td>7</td>\n",
              "    </tr>\n",
              "    <tr>\n",
              "      <th>760</th>\n",
              "      <td>that you are</td>\n",
              "      <td>6</td>\n",
              "    </tr>\n",
              "    <tr>\n",
              "      <th>1147</th>\n",
              "      <td>sorry about that</td>\n",
              "      <td>5</td>\n",
              "    </tr>\n",
              "  </tbody>\n",
              "</table>\n",
              "</div>\n",
              "      <button class=\"colab-df-convert\" onclick=\"convertToInteractive('df-26d24a70-83e7-4a49-96c4-210b4677f695')\"\n",
              "              title=\"Convert this dataframe to an interactive table.\"\n",
              "              style=\"display:none;\">\n",
              "        \n",
              "  <svg xmlns=\"http://www.w3.org/2000/svg\" height=\"24px\"viewBox=\"0 0 24 24\"\n",
              "       width=\"24px\">\n",
              "    <path d=\"M0 0h24v24H0V0z\" fill=\"none\"/>\n",
              "    <path d=\"M18.56 5.44l.94 2.06.94-2.06 2.06-.94-2.06-.94-.94-2.06-.94 2.06-2.06.94zm-11 1L8.5 8.5l.94-2.06 2.06-.94-2.06-.94L8.5 2.5l-.94 2.06-2.06.94zm10 10l.94 2.06.94-2.06 2.06-.94-2.06-.94-.94-2.06-.94 2.06-2.06.94z\"/><path d=\"M17.41 7.96l-1.37-1.37c-.4-.4-.92-.59-1.43-.59-.52 0-1.04.2-1.43.59L10.3 9.45l-7.72 7.72c-.78.78-.78 2.05 0 2.83L4 21.41c.39.39.9.59 1.41.59.51 0 1.02-.2 1.41-.59l7.78-7.78 2.81-2.81c.8-.78.8-2.07 0-2.86zM5.41 20L4 18.59l7.72-7.72 1.47 1.35L5.41 20z\"/>\n",
              "  </svg>\n",
              "      </button>\n",
              "      \n",
              "  <style>\n",
              "    .colab-df-container {\n",
              "      display:flex;\n",
              "      flex-wrap:wrap;\n",
              "      gap: 12px;\n",
              "    }\n",
              "\n",
              "    .colab-df-convert {\n",
              "      background-color: #E8F0FE;\n",
              "      border: none;\n",
              "      border-radius: 50%;\n",
              "      cursor: pointer;\n",
              "      display: none;\n",
              "      fill: #1967D2;\n",
              "      height: 32px;\n",
              "      padding: 0 0 0 0;\n",
              "      width: 32px;\n",
              "    }\n",
              "\n",
              "    .colab-df-convert:hover {\n",
              "      background-color: #E2EBFA;\n",
              "      box-shadow: 0px 1px 2px rgba(60, 64, 67, 0.3), 0px 1px 3px 1px rgba(60, 64, 67, 0.15);\n",
              "      fill: #174EA6;\n",
              "    }\n",
              "\n",
              "    [theme=dark] .colab-df-convert {\n",
              "      background-color: #3B4455;\n",
              "      fill: #D2E3FC;\n",
              "    }\n",
              "\n",
              "    [theme=dark] .colab-df-convert:hover {\n",
              "      background-color: #434B5C;\n",
              "      box-shadow: 0px 1px 3px 1px rgba(0, 0, 0, 0.15);\n",
              "      filter: drop-shadow(0px 1px 2px rgba(0, 0, 0, 0.3));\n",
              "      fill: #FFFFFF;\n",
              "    }\n",
              "  </style>\n",
              "\n",
              "      <script>\n",
              "        const buttonEl =\n",
              "          document.querySelector('#df-26d24a70-83e7-4a49-96c4-210b4677f695 button.colab-df-convert');\n",
              "        buttonEl.style.display =\n",
              "          google.colab.kernel.accessAllowed ? 'block' : 'none';\n",
              "\n",
              "        async function convertToInteractive(key) {\n",
              "          const element = document.querySelector('#df-26d24a70-83e7-4a49-96c4-210b4677f695');\n",
              "          const dataTable =\n",
              "            await google.colab.kernel.invokeFunction('convertToInteractive',\n",
              "                                                     [key], {});\n",
              "          if (!dataTable) return;\n",
              "\n",
              "          const docLinkHtml = 'Like what you see? Visit the ' +\n",
              "            '<a target=\"_blank\" href=https://colab.research.google.com/notebooks/data_table.ipynb>data table notebook</a>'\n",
              "            + ' to learn more about interactive tables.';\n",
              "          element.innerHTML = '';\n",
              "          dataTable['output_type'] = 'display_data';\n",
              "          await google.colab.output.renderOutput(dataTable, element);\n",
              "          const docLink = document.createElement('div');\n",
              "          docLink.innerHTML = docLinkHtml;\n",
              "          element.appendChild(docLink);\n",
              "        }\n",
              "      </script>\n",
              "    </div>\n",
              "  </div>\n",
              "  "
            ]
          },
          "metadata": {},
          "execution_count": 40
        }
      ]
    },
    {
      "cell_type": "markdown",
      "source": [
        "#### Most frequent trigrams for false positives\n",
        "\n",
        "In contrast to the most frequent false negative ngrams, the most frequent false positive ngrams provide general patterns which the classifier may be incorrectly using to identify the target variable. For instance, in the below example, the trigram \"you re not\" (\"you're not\") is the most frequent trigram. The dictionary items therefore might be improved by identifying instances where \"you're not\" is being used to identify a text as a misunderstanding."
      ],
      "metadata": {
        "id": "Ax8uABfOhuBf"
      }
    },
    {
      "cell_type": "code",
      "source": [
        "get_top_ngrams_from_texts(false_positives, ngram_size =3, n_examples = 10)"
      ],
      "metadata": {
        "colab": {
          "base_uri": "https://localhost:8080/",
          "height": 363
        },
        "id": "9SFPbEEzhuwN",
        "outputId": "75c1c308-8fd7-4f7d-dd35-c4ff03b323da"
      },
      "execution_count": null,
      "outputs": [
        {
          "output_type": "execute_result",
          "data": {
            "text/plain": [
              "               Text  Count\n",
              "256      you re not     12\n",
              "1437     to do with      9\n",
              "139       if it was      9\n",
              "31      you are not      8\n",
              "186    you think it      7\n",
              "1436  nothing to do      6\n",
              "963      if you are      5\n",
              "805    can you tell      5\n",
              "1624    do with the      5\n",
              "0     not sure what      4"
            ],
            "text/html": [
              "\n",
              "  <div id=\"df-571c9fd7-f372-4748-89bf-67c3bc4e5c62\">\n",
              "    <div class=\"colab-df-container\">\n",
              "      <div>\n",
              "<style scoped>\n",
              "    .dataframe tbody tr th:only-of-type {\n",
              "        vertical-align: middle;\n",
              "    }\n",
              "\n",
              "    .dataframe tbody tr th {\n",
              "        vertical-align: top;\n",
              "    }\n",
              "\n",
              "    .dataframe thead th {\n",
              "        text-align: right;\n",
              "    }\n",
              "</style>\n",
              "<table border=\"1\" class=\"dataframe\">\n",
              "  <thead>\n",
              "    <tr style=\"text-align: right;\">\n",
              "      <th></th>\n",
              "      <th>Text</th>\n",
              "      <th>Count</th>\n",
              "    </tr>\n",
              "  </thead>\n",
              "  <tbody>\n",
              "    <tr>\n",
              "      <th>256</th>\n",
              "      <td>you re not</td>\n",
              "      <td>12</td>\n",
              "    </tr>\n",
              "    <tr>\n",
              "      <th>1437</th>\n",
              "      <td>to do with</td>\n",
              "      <td>9</td>\n",
              "    </tr>\n",
              "    <tr>\n",
              "      <th>139</th>\n",
              "      <td>if it was</td>\n",
              "      <td>9</td>\n",
              "    </tr>\n",
              "    <tr>\n",
              "      <th>31</th>\n",
              "      <td>you are not</td>\n",
              "      <td>8</td>\n",
              "    </tr>\n",
              "    <tr>\n",
              "      <th>186</th>\n",
              "      <td>you think it</td>\n",
              "      <td>7</td>\n",
              "    </tr>\n",
              "    <tr>\n",
              "      <th>1436</th>\n",
              "      <td>nothing to do</td>\n",
              "      <td>6</td>\n",
              "    </tr>\n",
              "    <tr>\n",
              "      <th>963</th>\n",
              "      <td>if you are</td>\n",
              "      <td>5</td>\n",
              "    </tr>\n",
              "    <tr>\n",
              "      <th>805</th>\n",
              "      <td>can you tell</td>\n",
              "      <td>5</td>\n",
              "    </tr>\n",
              "    <tr>\n",
              "      <th>1624</th>\n",
              "      <td>do with the</td>\n",
              "      <td>5</td>\n",
              "    </tr>\n",
              "    <tr>\n",
              "      <th>0</th>\n",
              "      <td>not sure what</td>\n",
              "      <td>4</td>\n",
              "    </tr>\n",
              "  </tbody>\n",
              "</table>\n",
              "</div>\n",
              "      <button class=\"colab-df-convert\" onclick=\"convertToInteractive('df-571c9fd7-f372-4748-89bf-67c3bc4e5c62')\"\n",
              "              title=\"Convert this dataframe to an interactive table.\"\n",
              "              style=\"display:none;\">\n",
              "        \n",
              "  <svg xmlns=\"http://www.w3.org/2000/svg\" height=\"24px\"viewBox=\"0 0 24 24\"\n",
              "       width=\"24px\">\n",
              "    <path d=\"M0 0h24v24H0V0z\" fill=\"none\"/>\n",
              "    <path d=\"M18.56 5.44l.94 2.06.94-2.06 2.06-.94-2.06-.94-.94-2.06-.94 2.06-2.06.94zm-11 1L8.5 8.5l.94-2.06 2.06-.94-2.06-.94L8.5 2.5l-.94 2.06-2.06.94zm10 10l.94 2.06.94-2.06 2.06-.94-2.06-.94-.94-2.06-.94 2.06-2.06.94z\"/><path d=\"M17.41 7.96l-1.37-1.37c-.4-.4-.92-.59-1.43-.59-.52 0-1.04.2-1.43.59L10.3 9.45l-7.72 7.72c-.78.78-.78 2.05 0 2.83L4 21.41c.39.39.9.59 1.41.59.51 0 1.02-.2 1.41-.59l7.78-7.78 2.81-2.81c.8-.78.8-2.07 0-2.86zM5.41 20L4 18.59l7.72-7.72 1.47 1.35L5.41 20z\"/>\n",
              "  </svg>\n",
              "      </button>\n",
              "      \n",
              "  <style>\n",
              "    .colab-df-container {\n",
              "      display:flex;\n",
              "      flex-wrap:wrap;\n",
              "      gap: 12px;\n",
              "    }\n",
              "\n",
              "    .colab-df-convert {\n",
              "      background-color: #E8F0FE;\n",
              "      border: none;\n",
              "      border-radius: 50%;\n",
              "      cursor: pointer;\n",
              "      display: none;\n",
              "      fill: #1967D2;\n",
              "      height: 32px;\n",
              "      padding: 0 0 0 0;\n",
              "      width: 32px;\n",
              "    }\n",
              "\n",
              "    .colab-df-convert:hover {\n",
              "      background-color: #E2EBFA;\n",
              "      box-shadow: 0px 1px 2px rgba(60, 64, 67, 0.3), 0px 1px 3px 1px rgba(60, 64, 67, 0.15);\n",
              "      fill: #174EA6;\n",
              "    }\n",
              "\n",
              "    [theme=dark] .colab-df-convert {\n",
              "      background-color: #3B4455;\n",
              "      fill: #D2E3FC;\n",
              "    }\n",
              "\n",
              "    [theme=dark] .colab-df-convert:hover {\n",
              "      background-color: #434B5C;\n",
              "      box-shadow: 0px 1px 3px 1px rgba(0, 0, 0, 0.15);\n",
              "      filter: drop-shadow(0px 1px 2px rgba(0, 0, 0, 0.3));\n",
              "      fill: #FFFFFF;\n",
              "    }\n",
              "  </style>\n",
              "\n",
              "      <script>\n",
              "        const buttonEl =\n",
              "          document.querySelector('#df-571c9fd7-f372-4748-89bf-67c3bc4e5c62 button.colab-df-convert');\n",
              "        buttonEl.style.display =\n",
              "          google.colab.kernel.accessAllowed ? 'block' : 'none';\n",
              "\n",
              "        async function convertToInteractive(key) {\n",
              "          const element = document.querySelector('#df-571c9fd7-f372-4748-89bf-67c3bc4e5c62');\n",
              "          const dataTable =\n",
              "            await google.colab.kernel.invokeFunction('convertToInteractive',\n",
              "                                                     [key], {});\n",
              "          if (!dataTable) return;\n",
              "\n",
              "          const docLinkHtml = 'Like what you see? Visit the ' +\n",
              "            '<a target=\"_blank\" href=https://colab.research.google.com/notebooks/data_table.ipynb>data table notebook</a>'\n",
              "            + ' to learn more about interactive tables.';\n",
              "          element.innerHTML = '';\n",
              "          dataTable['output_type'] = 'display_data';\n",
              "          await google.colab.output.renderOutput(dataTable, element);\n",
              "          const docLink = document.createElement('div');\n",
              "          docLink.innerHTML = docLinkHtml;\n",
              "          element.appendChild(docLink);\n",
              "        }\n",
              "      </script>\n",
              "    </div>\n",
              "  </div>\n",
              "  "
            ]
          },
          "metadata": {},
          "execution_count": 41
        }
      ]
    },
    {
      "cell_type": "markdown",
      "source": [
        "### Find unique ngrams\n",
        "\n",
        "This function generates unique ngrams for the target list that are not in another list. For instance, if `target_list` is the false negatives and the `not_list` the false positives, it will generate all ngrams unique to the false negatives."
      ],
      "metadata": {
        "id": "N2NH0rf2hvOx"
      }
    },
    {
      "cell_type": "code",
      "source": [
        "\n",
        "def get_unique_ngrams_for_list(target_list, # list to find unique ngrams\n",
        "                               not_list, # list to check whether ngrams are unique to the target list\n",
        "                               ngram_size = 3, # size of ngram. Default = trigram\n",
        "                               n_examples = 50): # number of examples to generate. Default = 50\n",
        "  # prime the vectorizer from sklearn that will generate all ngrams of the input ngram size                            \n",
        "  vectorizer = CountVectorizer(ngram_range=(ngram_size,ngram_size))\n",
        "  analyzer = vectorizer.build_analyzer()\n",
        "  # get the ngrams for the target list\n",
        "  output_ngrams1 = []\n",
        "  for text in target_list:\n",
        "    output_ngrams1 = output_ngrams1 + analyzer(text)\n",
        "  # get the ngrams for the not list\n",
        "  output_ngrams2 = []\n",
        "  for text in not_list:\n",
        "    output_ngrams2 = output_ngrams2 + analyzer(text)\n",
        "  # remove duplicates from both target and not list\n",
        "  set_output_ngrams1 = list(set(output_ngrams1))\n",
        "  set_output_ngrams2 = list(set(output_ngrams2))\n",
        "  # get the output list of unique ngrams for the targt list\n",
        "  out_list = [i for i in set_output_ngrams1 if i not in set_output_ngrams2]\n",
        "  # count frequency of each ngram in the target list ngrams and put into a dataframe\n",
        "  outdf = pd.DataFrame.from_dict(Counter(output_ngrams1), orient = \"index\").reset_index()\n",
        "  outdf = outdf.rename(columns = {\"index\": \"Text\", 0: \"Count\"})\n",
        "  # only keep the ngrams in the list of unique ngrams\n",
        "  outdf = outdf[outdf[\"Text\"].isin(out_list)]\n",
        "  # sort dataframe by most frequent ngrams\n",
        "  outdf = outdf.sort_values(\"Count\", ascending = False)\n",
        "  # return n_examples of highest occuring unique ngrams\n",
        "  outdf = outdf.head(n_examples)\n",
        "  return outdf"
      ],
      "metadata": {
        "id": "fIgDJ-KziL_y"
      },
      "execution_count": null,
      "outputs": []
    },
    {
      "cell_type": "markdown",
      "source": [
        "#### Unique trigrams for false negatives\n",
        "\n",
        "Identifying the unique trigrams for the false negatives provides us with possible patterns for identifying new items for the dictionary. For instance \"sorry about that\" appears as a unique trigram as well as one of the most frequent trigrams overall for the false negatives. We can therfore add it to the dictionary with confidence that it discriminates texts containing misunderstandings from those containing no misunderstandings."
      ],
      "metadata": {
        "id": "ZiVqPMz_kcbN"
      }
    },
    {
      "cell_type": "code",
      "source": [
        "get_unique_ngrams_for_list(false_negatives, false_positives, ngram_size = 3, n_examples = 10)"
      ],
      "metadata": {
        "colab": {
          "base_uri": "https://localhost:8080/",
          "height": 363
        },
        "id": "XHmtgA5DiL9G",
        "outputId": "e8d01009-3c0e-4374-d0b7-ee6002cb43a6"
      },
      "execution_count": null,
      "outputs": [
        {
          "output_type": "execute_result",
          "data": {
            "text/plain": [
              "                     Text  Count\n",
              "3241           that it is      7\n",
              "1250  wikipedia org index      7\n",
              "1248    http en wikipedia      7\n",
              "1251        org index php      7\n",
              "1252      index php title      7\n",
              "1249     en wikipedia org      7\n",
              "760          that you are      6\n",
              "1147     sorry about that      5\n",
              "3461          let me know      4\n",
              "3435       whether or not      4"
            ],
            "text/html": [
              "\n",
              "  <div id=\"df-042a4272-846e-4693-a61c-9b0e30e946c4\">\n",
              "    <div class=\"colab-df-container\">\n",
              "      <div>\n",
              "<style scoped>\n",
              "    .dataframe tbody tr th:only-of-type {\n",
              "        vertical-align: middle;\n",
              "    }\n",
              "\n",
              "    .dataframe tbody tr th {\n",
              "        vertical-align: top;\n",
              "    }\n",
              "\n",
              "    .dataframe thead th {\n",
              "        text-align: right;\n",
              "    }\n",
              "</style>\n",
              "<table border=\"1\" class=\"dataframe\">\n",
              "  <thead>\n",
              "    <tr style=\"text-align: right;\">\n",
              "      <th></th>\n",
              "      <th>Text</th>\n",
              "      <th>Count</th>\n",
              "    </tr>\n",
              "  </thead>\n",
              "  <tbody>\n",
              "    <tr>\n",
              "      <th>3241</th>\n",
              "      <td>that it is</td>\n",
              "      <td>7</td>\n",
              "    </tr>\n",
              "    <tr>\n",
              "      <th>1250</th>\n",
              "      <td>wikipedia org index</td>\n",
              "      <td>7</td>\n",
              "    </tr>\n",
              "    <tr>\n",
              "      <th>1248</th>\n",
              "      <td>http en wikipedia</td>\n",
              "      <td>7</td>\n",
              "    </tr>\n",
              "    <tr>\n",
              "      <th>1251</th>\n",
              "      <td>org index php</td>\n",
              "      <td>7</td>\n",
              "    </tr>\n",
              "    <tr>\n",
              "      <th>1252</th>\n",
              "      <td>index php title</td>\n",
              "      <td>7</td>\n",
              "    </tr>\n",
              "    <tr>\n",
              "      <th>1249</th>\n",
              "      <td>en wikipedia org</td>\n",
              "      <td>7</td>\n",
              "    </tr>\n",
              "    <tr>\n",
              "      <th>760</th>\n",
              "      <td>that you are</td>\n",
              "      <td>6</td>\n",
              "    </tr>\n",
              "    <tr>\n",
              "      <th>1147</th>\n",
              "      <td>sorry about that</td>\n",
              "      <td>5</td>\n",
              "    </tr>\n",
              "    <tr>\n",
              "      <th>3461</th>\n",
              "      <td>let me know</td>\n",
              "      <td>4</td>\n",
              "    </tr>\n",
              "    <tr>\n",
              "      <th>3435</th>\n",
              "      <td>whether or not</td>\n",
              "      <td>4</td>\n",
              "    </tr>\n",
              "  </tbody>\n",
              "</table>\n",
              "</div>\n",
              "      <button class=\"colab-df-convert\" onclick=\"convertToInteractive('df-042a4272-846e-4693-a61c-9b0e30e946c4')\"\n",
              "              title=\"Convert this dataframe to an interactive table.\"\n",
              "              style=\"display:none;\">\n",
              "        \n",
              "  <svg xmlns=\"http://www.w3.org/2000/svg\" height=\"24px\"viewBox=\"0 0 24 24\"\n",
              "       width=\"24px\">\n",
              "    <path d=\"M0 0h24v24H0V0z\" fill=\"none\"/>\n",
              "    <path d=\"M18.56 5.44l.94 2.06.94-2.06 2.06-.94-2.06-.94-.94-2.06-.94 2.06-2.06.94zm-11 1L8.5 8.5l.94-2.06 2.06-.94-2.06-.94L8.5 2.5l-.94 2.06-2.06.94zm10 10l.94 2.06.94-2.06 2.06-.94-2.06-.94-.94-2.06-.94 2.06-2.06.94z\"/><path d=\"M17.41 7.96l-1.37-1.37c-.4-.4-.92-.59-1.43-.59-.52 0-1.04.2-1.43.59L10.3 9.45l-7.72 7.72c-.78.78-.78 2.05 0 2.83L4 21.41c.39.39.9.59 1.41.59.51 0 1.02-.2 1.41-.59l7.78-7.78 2.81-2.81c.8-.78.8-2.07 0-2.86zM5.41 20L4 18.59l7.72-7.72 1.47 1.35L5.41 20z\"/>\n",
              "  </svg>\n",
              "      </button>\n",
              "      \n",
              "  <style>\n",
              "    .colab-df-container {\n",
              "      display:flex;\n",
              "      flex-wrap:wrap;\n",
              "      gap: 12px;\n",
              "    }\n",
              "\n",
              "    .colab-df-convert {\n",
              "      background-color: #E8F0FE;\n",
              "      border: none;\n",
              "      border-radius: 50%;\n",
              "      cursor: pointer;\n",
              "      display: none;\n",
              "      fill: #1967D2;\n",
              "      height: 32px;\n",
              "      padding: 0 0 0 0;\n",
              "      width: 32px;\n",
              "    }\n",
              "\n",
              "    .colab-df-convert:hover {\n",
              "      background-color: #E2EBFA;\n",
              "      box-shadow: 0px 1px 2px rgba(60, 64, 67, 0.3), 0px 1px 3px 1px rgba(60, 64, 67, 0.15);\n",
              "      fill: #174EA6;\n",
              "    }\n",
              "\n",
              "    [theme=dark] .colab-df-convert {\n",
              "      background-color: #3B4455;\n",
              "      fill: #D2E3FC;\n",
              "    }\n",
              "\n",
              "    [theme=dark] .colab-df-convert:hover {\n",
              "      background-color: #434B5C;\n",
              "      box-shadow: 0px 1px 3px 1px rgba(0, 0, 0, 0.15);\n",
              "      filter: drop-shadow(0px 1px 2px rgba(0, 0, 0, 0.3));\n",
              "      fill: #FFFFFF;\n",
              "    }\n",
              "  </style>\n",
              "\n",
              "      <script>\n",
              "        const buttonEl =\n",
              "          document.querySelector('#df-042a4272-846e-4693-a61c-9b0e30e946c4 button.colab-df-convert');\n",
              "        buttonEl.style.display =\n",
              "          google.colab.kernel.accessAllowed ? 'block' : 'none';\n",
              "\n",
              "        async function convertToInteractive(key) {\n",
              "          const element = document.querySelector('#df-042a4272-846e-4693-a61c-9b0e30e946c4');\n",
              "          const dataTable =\n",
              "            await google.colab.kernel.invokeFunction('convertToInteractive',\n",
              "                                                     [key], {});\n",
              "          if (!dataTable) return;\n",
              "\n",
              "          const docLinkHtml = 'Like what you see? Visit the ' +\n",
              "            '<a target=\"_blank\" href=https://colab.research.google.com/notebooks/data_table.ipynb>data table notebook</a>'\n",
              "            + ' to learn more about interactive tables.';\n",
              "          element.innerHTML = '';\n",
              "          dataTable['output_type'] = 'display_data';\n",
              "          await google.colab.output.renderOutput(dataTable, element);\n",
              "          const docLink = document.createElement('div');\n",
              "          docLink.innerHTML = docLinkHtml;\n",
              "          element.appendChild(docLink);\n",
              "        }\n",
              "      </script>\n",
              "    </div>\n",
              "  </div>\n",
              "  "
            ]
          },
          "metadata": {},
          "execution_count": 44
        }
      ]
    },
    {
      "cell_type": "markdown",
      "source": [
        "# Validate dictionary using validation dataset\n",
        "\n",
        "Validating the dictionary should only be performed *after the final dictionary items have been created*. This is because we do not want to transfer any biases from the items introduced from troubleshooting the dictionary on the training dataset. Keeping the training and validation dataset separate allows for an iterative process of creating the dictionary items on the training dataset. \n",
        "\n",
        "\n"
      ],
      "metadata": {
        "id": "Il-UFbbZkkJE"
      }
    },
    {
      "cell_type": "markdown",
      "source": [
        "## Run dictionary on validation set"
      ],
      "metadata": {
        "id": "6J5bxXxukwMh"
      }
    },
    {
      "cell_type": "code",
      "source": [
        "# Get frequency count for results\n",
        "Validation_df = create_matches(Validation_df, misunderstanding_patterns, \"Misunderstanding_predicted\", nlp)\n",
        "# convert frequency count to a binary variable\n",
        "Validation_df[\"Misunderstanding_predicted\"] = binaryMaker(Validation_df[\"Misunderstanding_predicted\"].tolist())"
      ],
      "metadata": {
        "colab": {
          "base_uri": "https://localhost:8080/"
        },
        "id": "z6xV4-GFiL5-",
        "outputId": "3529eb06-6010-41ca-c7a5-17df3258d05a"
      },
      "execution_count": null,
      "outputs": [
        {
          "output_type": "stream",
          "name": "stderr",
          "text": [
            "100%|██████████| 6595/6595 [28:54<00:00,  3.80it/s]\n"
          ]
        }
      ]
    },
    {
      "cell_type": "markdown",
      "source": [
        "## Get final accuracy assessment for dictionary validation "
      ],
      "metadata": {
        "id": "K4CVqVMjky0p"
      }
    },
    {
      "cell_type": "code",
      "source": [
        "from sklearn.metrics import confusion_matrix\n",
        "from sklearn.metrics import ConfusionMatrixDisplay\n",
        "import matplotlib.pyplot as plt\n",
        "# create confusion matrix\n",
        "cm = confusion_matrix(Validation_df[\"Misunderstanding\"].tolist(), Validation_df[\"Misunderstanding_predicted\"].tolist())\n",
        "# plot the results\n",
        "disp = ConfusionMatrixDisplay(cm, display_labels = [\"No Misunderstanding\", \"Misunderstanding\"])\n",
        "disp.plot()\n",
        "plt.show()"
      ],
      "metadata": {
        "colab": {
          "base_uri": "https://localhost:8080/",
          "height": 279
        },
        "id": "KgPdjUY8iLsA",
        "outputId": "ef272679-18b9-4621-fb4f-b08bd44abe24"
      },
      "execution_count": null,
      "outputs": [
        {
          "output_type": "display_data",
          "data": {
            "text/plain": [
              "<Figure size 432x288 with 2 Axes>"
            ],
            "image/png": "[encoded data removed]"
          },
          "metadata": {
            "needs_background": "light"
          }
        }
      ]
    },
    {
      "cell_type": "code",
      "source": [
        "print(classification_report(Validation_df[\"Misunderstanding\"].tolist(), Validation_df[\"Misunderstanding_predicted\"].tolist()))"
      ],
      "metadata": {
        "colab": {
          "base_uri": "https://localhost:8080/"
        },
        "id": "9E_pmUawl4fz",
        "outputId": "420f59c0-1f97-4277-de5e-c7c7022d6aed"
      },
      "execution_count": null,
      "outputs": [
        {
          "output_type": "stream",
          "name": "stdout",
          "text": [
            "              precision    recall  f1-score   support\n",
            "\n",
            "           0       0.94      0.98      0.96      6080\n",
            "           1       0.51      0.21      0.30       515\n",
            "\n",
            "    accuracy                           0.92      6595\n",
            "   macro avg       0.72      0.60      0.63      6595\n",
            "weighted avg       0.90      0.92      0.91      6595\n",
            "\n"
          ]
        }
      ]
    },
    {
      "cell_type": "markdown",
      "source": [
        "# Conclusion\n",
        "\n",
        "This notebook has demonstrated how to use a gold-standard dataset to troubleshoot and validate a rule-based dictionary classifier. We provided instructions on how to create a list of augmented dictionary items based on a set of seed phrases and synonym dictionaries and wild cards. We then used spaCy's rule-based-matcher to run the classifier on the training dataset. We proceeded to generate accuracy statistics for the training dataset and, based on these results, used false positives/negatives to troubleshoot the classifier's performance. Finally, we ran the classifier on the validation dataset with the final dictionary items. \n",
        "\n",
        "The dictionary performs poorly on both the training (F1 = 0.31) and validation datasets (F1 = 0.30), despite having more items (n=210,245) than there are coded texts (n=21,982). This highlights a limitation to using phrases as dictionary items. Even when accounting for multiple permutations on a phrase, humans can express themselves in an almost unlimited number of ways. A human coder may be able to recognize misunderstandings from raw text, identifying patterns without having to formalise them. The rule-based classifier, however, must formalise these patterns into an exhaustive list and account for unseen patterns. \n",
        "\n",
        "Despite this limitation, using a gold-standard dataset for refining and troubleshooting a rule-based dictionary classifier's performance appears effective. The performance of the classifier on both the training and validation sets are very similar (in terms of precision, recall and F1-score). This means that the classifier is adequately performing on data unseen by the researcher during the training phase. "
      ],
      "metadata": {
        "id": "cP-D9_hIk7vM"
      }
    }
  ]
}