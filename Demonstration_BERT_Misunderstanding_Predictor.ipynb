{
  "nbformat": 4,
  "nbformat_minor": 0,
  "metadata": {
    "colab": {
      "provenance": [],
      "collapsed_sections": [],
      "include_colab_link": true
    },
    "kernelspec": {
      "name": "python3",
      "display_name": "Python 3"
    },
    "language_info": {
      "name": "python"
    }
  },
  "cells": [
    {
      "cell_type": "markdown",
      "metadata": {
        "id": "view-in-github",
        "colab_type": "text"
      },
      "source": [
        "<a href=\"https://colab.research.google.com/github/alexiamhe93/goldStandard-tutorial/blob/main/Demonstration_BERT_Misunderstanding_Predictor.ipynb\" target=\"_parent\"><img src=\"https://colab.research.google.com/assets/colab-badge.svg\" alt=\"Open In Colab\"/></a>"
      ]
    },
    {
      "cell_type": "markdown",
      "source": [
        "# Misunderstanding sentence prediction (demonstration)\n",
        "\n",
        "Authors: A. Goddard, A. Gillespie\n",
        "\n",
        "This notebook demonstrates a trained deep-learning classifier for identifying misunderstandings in sentences. The classifier was trained on misunderstandings identified on Twitter, Reddit, and Wikipedia Talk Pages. The classifier achieved `F1-score = 0.81` and is designed to identify the following:\n",
        "\n",
        "\n",
        "1.   Direct misunderstanding: When an individual does not understand another's perspective. For instance: \"I don't know what you mean\" or \"Why did you say that?\"\n",
        "2.   Felt misunderstanding: When an individual *feels* misunderstood by another individual. For instance: \"That's not what I said\" or \"I didn't mean to hurt your feelings\" \n",
        "\n",
        "To run the classifier, you should either goto \"Runtime\" and \"Run all\". If nothing happens, you will need to login to a Google accounnt. Alternatively, use the play button on the left of a cell to run it. The last cell with the misunderstandings classifier will run automatically when you type in a sentence only *after* you have run the first cell.\n",
        "\n",
        "The last cell will print out the **predicted category** of the typed in sentence and the **probability** of the sentence being a misunderstanding.\n",
        "\n",
        "\n",
        "> **NOTE:** The first cell will take a few minutes to run as the model has to be downloaded (1.3GB) and unzipped in the runtime. \n",
        "\n",
        "> **NOTE 2:** You may need a Google account to run the notebook\n"
      ],
      "metadata": {
        "id": "chTSyrW9gzEu"
      }
    },
    {
      "cell_type": "code",
      "execution_count": null,
      "metadata": {
        "colab": {
          "base_uri": "https://localhost:8080/"
        },
        "id": "dHU_NAAJ1Cqz",
        "outputId": "d0db1bfd-b19a-4531-8f27-2800ed3ccbf0"
      },
      "outputs": [
        {
          "output_type": "stream",
          "name": "stdout",
          "text": [
            "Archive:  mis_model_5.zip\n",
            "  inflating: mis_model_5/tf_model.h5  \n",
            "  inflating: mis_model_5/tf_model.preproc  \n",
            "\u001b[K     |████████████████████████████████| 25.3 MB 1.9 MB/s \n",
            "\u001b[K     |████████████████████████████████| 981 kB 43.0 MB/s \n",
            "\u001b[K     |████████████████████████████████| 263 kB 62.0 MB/s \n",
            "\u001b[K     |████████████████████████████████| 3.8 MB 43.2 MB/s \n",
            "\u001b[K     |████████████████████████████████| 1.3 MB 63.1 MB/s \n",
            "\u001b[K     |████████████████████████████████| 468 kB 53.1 MB/s \n",
            "\u001b[K     |████████████████████████████████| 7.6 MB 38.8 MB/s \n",
            "\u001b[K     |████████████████████████████████| 163 kB 67.8 MB/s \n",
            "\u001b[K     |████████████████████████████████| 880 kB 66.9 MB/s \n",
            "\u001b[?25h  Building wheel for ktrain (setup.py) ... \u001b[?25l\u001b[?25hdone\n",
            "  Building wheel for keras-bert (setup.py) ... \u001b[?25l\u001b[?25hdone\n",
            "  Building wheel for keras-transformer (setup.py) ... \u001b[?25l\u001b[?25hdone\n",
            "  Building wheel for keras-embed-sim (setup.py) ... \u001b[?25l\u001b[?25hdone\n",
            "  Building wheel for keras-layer-normalization (setup.py) ... \u001b[?25l\u001b[?25hdone\n",
            "  Building wheel for keras-multi-head (setup.py) ... \u001b[?25l\u001b[?25hdone\n",
            "  Building wheel for keras-pos-embd (setup.py) ... \u001b[?25l\u001b[?25hdone\n",
            "  Building wheel for keras-position-wise-feed-forward (setup.py) ... \u001b[?25l\u001b[?25hdone\n",
            "  Building wheel for keras-self-attention (setup.py) ... \u001b[?25l\u001b[?25hdone\n",
            "  Building wheel for langdetect (setup.py) ... \u001b[?25l\u001b[?25hdone\n",
            "  Building wheel for sacremoses (setup.py) ... \u001b[?25l\u001b[?25hdone\n"
          ]
        }
      ],
      "source": [
        "#@title RUN ME FIRST (Load model) { display-mode: \"form\" }\n",
        "!wget -O mis_model_5.zip https://www.dropbox.com/s/ou5q7xoe6j563uk/mis_model_5.zip?dl=0 --quiet\n",
        "!unzip mis_model_5.zip \n",
        "!pip install ktrain --quiet\n",
        "import ktrain\n",
        "Predictor = ktrain.load_predictor('mis_model_5')"
      ]
    },
    {
      "cell_type": "code",
      "source": [
        "#@title Type in a sentence to predict if it is a misunderstanding { run: \"auto\", vertical-output: true, display-mode: \"form\" }\n",
        "sentence_to_predict = \"I don't get it\" #@param {type:\"string\"}\n",
        "prediction = Predictor.predict(sentence_to_predict)\n",
        "prediction_probability = Predictor.predict(sentence_to_predict, return_proba=True)\n",
        "mis_prob = str(prediction_probability[1])[:5]\n",
        "if prediction == \"Misunderstanding\":\n",
        "  print(f\"\\n\\nPredicted class: Misunderstanding \\n\\nProbability sentence is misunderstanding: {mis_prob}\")\n",
        "else:\n",
        "  print(f\"\\n\\nPredicted class: No Misunderstanding \\n\\nProbability sentence is a misunderstanding: {mis_prob}\")"
      ],
      "metadata": {
        "colab": {
          "base_uri": "https://localhost:8080/"
        },
        "id": "TjkRQOW48_pe",
        "outputId": "8a92e1ee-5310-4017-c4b3-59a5b1b11bfa"
      },
      "execution_count": null,
      "outputs": [
        {
          "output_type": "stream",
          "name": "stdout",
          "text": [
            "1/1 [==============================] - 0s 365ms/step\n",
            "1/1 [==============================] - 1s 586ms/step\n",
            "\n",
            "\n",
            "Predicted class: Misunderstanding \n",
            "\n",
            "Probability sentence is misunderstanding: 0.951\n"
          ]
        }
      ]
    }
  ]
}