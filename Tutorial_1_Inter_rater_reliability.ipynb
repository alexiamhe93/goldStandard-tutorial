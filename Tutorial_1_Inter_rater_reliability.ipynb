{
  "nbformat": 4,
  "nbformat_minor": 0,
  "metadata": {
    "colab": {
      "provenance": [],
      "authorship_tag": "ABX9TyOWO7SwIVk7HrjuO7z+MQYn",
      "include_colab_link": true
    },
    "kernelspec": {
      "name": "python3",
      "display_name": "Python 3"
    },
    "language_info": {
      "name": "python"
    }
  },
  "cells": [
    {
      "cell_type": "markdown",
      "metadata": {
        "id": "view-in-github",
        "colab_type": "text"
      },
      "source": [
        "<a href=\"https://colab.research.google.com/github/alexiamhe93/goldStandard-tutorial/blob/main/Tutorial_1_Inter_rater_reliability.ipynb\" target=\"_parent\"><img src=\"https://colab.research.google.com/assets/colab-badge.svg\" alt=\"Open In Colab\"/></a>"
      ]
    },
    {
      "cell_type": "markdown",
      "source": [
        "# Introduction\n",
        "\n",
        "Title: Tutorial 1: Running Inter-Rater Reliability in Python\n",
        "\n",
        "Authors: Goddard, A. & Gillespie, A.\n",
        "\n",
        "Date: November 2022\n",
        "\n",
        "In this tutorial, we provide instructions on how to run an inter-rater reliability on a dataset manually coded for a psychological variable. For training and creating a classifier to measure a psychological construct automatically, it is necessary to create a gold-standard dataset of hand-coded texts. Inter-rater reliability provides an estimate of the quality of these human coded scores by estiamting the degree of agreement between coders' scores and the reliability of this agreement. \n",
        "\n",
        "This tutorial uses a dataset (from Reddit, Twitter, & Wikipedia Talk Pages)  coded for misunderstandings by five coders (include one author) with a minimum of MSc level in psychology. \n",
        "\n"
      ],
      "metadata": {
        "id": "v-RIhG3hi1cK"
      }
    },
    {
      "cell_type": "markdown",
      "source": [
        "# Install packages\n",
        "\n",
        "> **NOTE** Run this cell first."
      ],
      "metadata": {
        "id": "BZyFIQ2R6NOq"
      }
    },
    {
      "cell_type": "code",
      "execution_count": null,
      "metadata": {
        "id": "qeqB1zsBitWF",
        "colab": {
          "base_uri": "https://localhost:8080/"
        },
        "outputId": "974b6437-e548-4827-ce1a-e267b65e681d"
      },
      "outputs": [
        {
          "output_type": "stream",
          "name": "stdout",
          "text": [
            "Looking in indexes: https://pypi.org/simple, https://us-python.pkg.dev/colab-wheels/public/simple/\n",
            "Collecting agreement\n",
            "  Downloading agreement-0.1.1-py3-none-any.whl (19 kB)\n",
            "Requirement already satisfied: numpy>=1.20.2 in /usr/local/lib/python3.7/dist-packages (from agreement) (1.21.6)\n",
            "Installing collected packages: agreement\n",
            "Successfully installed agreement-0.1.1\n"
          ]
        }
      ],
      "source": [
        "!pip install agreement"
      ]
    },
    {
      "cell_type": "markdown",
      "source": [
        "# Load packages & data"
      ],
      "metadata": {
        "id": "960KXpZN6bT5"
      }
    },
    {
      "cell_type": "code",
      "source": [
        "# for downloading data\n",
        "import requests, zipfile, io\n",
        "# for loading data into a dataframe\n",
        "import pandas as pd\n",
        "# for mathematical operations\n",
        "import numpy as np\n",
        "# for conducting Inter-rater reliability assessments\n",
        "from nltk import agreement\n",
        "from agreement.utils.kernels import linear_kernel\n",
        "from agreement.metrics import gwets_gamma\n",
        "from agreement.utils.transform import pivot_table_frequency"
      ],
      "metadata": {
        "id": "kLsd-pQs6quj"
      },
      "execution_count": null,
      "outputs": []
    },
    {
      "cell_type": "markdown",
      "source": [
        "This cell downloads the data from github and unzips it.\n"
      ],
      "metadata": {
        "id": "LjFRivHN6qMm"
      }
    },
    {
      "cell_type": "code",
      "source": [
        "r = requests.get( 'https://github.com/alexiamhe93/goldStandard-tutorial/blob/main/Data/Tutorial-data.zip?raw=true' ) \n",
        "z = zipfile.ZipFile(io.BytesIO(r.content))\n",
        "z.extractall()"
      ],
      "metadata": {
        "id": "D0CP9QxS8-OU"
      },
      "execution_count": null,
      "outputs": []
    },
    {
      "cell_type": "markdown",
      "source": [
        "This cell loads the data into a dataframe."
      ],
      "metadata": {
        "id": "PvRzpKeJc9ZG"
      }
    },
    {
      "cell_type": "code",
      "source": [
        "df0 = pd.read_csv(\"IRR_misunderstandings_data.csv\")"
      ],
      "metadata": {
        "id": "AS5bW0bRdAgk"
      },
      "execution_count": null,
      "outputs": []
    },
    {
      "cell_type": "markdown",
      "source": [
        "In this cell, we examine the top five rows of the loaded data to examine it's structure. The loaded data uses the prefix `M_`to denote whether a text has been coded for misunderstanding (binary) followed by a number idincating the five different coders."
      ],
      "metadata": {
        "id": "Ho81Td3-9nwC"
      }
    },
    {
      "cell_type": "code",
      "source": [
        "df0.head()"
      ],
      "metadata": {
        "colab": {
          "base_uri": "https://localhost:8080/",
          "height": 206
        },
        "id": "T8oI8rzS9wJo",
        "outputId": "1fcd982a-7e6c-4767-e1f9-fcba7fb7b676"
      },
      "execution_count": null,
      "outputs": [
        {
          "output_type": "execute_result",
          "data": {
            "text/plain": [
              "          group turn_id    turn         author  \\\n",
              "0  group_101723  la0mdz  turn_1  Darryl Harris   \n",
              "1  group_101723  la0mdz  turn_1  Darryl Harris   \n",
              "2  group_101723  la0mdz  turn_1  Darryl Harris   \n",
              "3  group_101723  la0mdz  turn_1  Darryl Harris   \n",
              "4  group_101723  la0mdz  turn_1  Darryl Harris   \n",
              "\n",
              "                                           sentences  M_1  M_2  M_3  M_4  M_5  \n",
              "0  CMV: Territorial integrity should be taken les...    0    0    0    0    0  \n",
              "1  However, in my opinion, the insistence on part...    0    0    0    0    0  \n",
              "2        Take the Western Jessicatown as an example.    0    0    0    0    0  \n",
              "3  An independent state in the region has no prec...    0    0    0    0    0  \n",
              "4  The basis of such claims is that the Spanish u...    0    0    0    0    0  "
            ],
            "text/html": [
              "\n",
              "  <div id=\"df-31ea6e9a-88bd-495e-84bd-3ff357fb00ea\">\n",
              "    <div class=\"colab-df-container\">\n",
              "      <div>\n",
              "<style scoped>\n",
              "    .dataframe tbody tr th:only-of-type {\n",
              "        vertical-align: middle;\n",
              "    }\n",
              "\n",
              "    .dataframe tbody tr th {\n",
              "        vertical-align: top;\n",
              "    }\n",
              "\n",
              "    .dataframe thead th {\n",
              "        text-align: right;\n",
              "    }\n",
              "</style>\n",
              "<table border=\"1\" class=\"dataframe\">\n",
              "  <thead>\n",
              "    <tr style=\"text-align: right;\">\n",
              "      <th></th>\n",
              "      <th>group</th>\n",
              "      <th>turn_id</th>\n",
              "      <th>turn</th>\n",
              "      <th>author</th>\n",
              "      <th>sentences</th>\n",
              "      <th>M_1</th>\n",
              "      <th>M_2</th>\n",
              "      <th>M_3</th>\n",
              "      <th>M_4</th>\n",
              "      <th>M_5</th>\n",
              "    </tr>\n",
              "  </thead>\n",
              "  <tbody>\n",
              "    <tr>\n",
              "      <th>0</th>\n",
              "      <td>group_101723</td>\n",
              "      <td>la0mdz</td>\n",
              "      <td>turn_1</td>\n",
              "      <td>Darryl Harris</td>\n",
              "      <td>CMV: Territorial integrity should be taken les...</td>\n",
              "      <td>0</td>\n",
              "      <td>0</td>\n",
              "      <td>0</td>\n",
              "      <td>0</td>\n",
              "      <td>0</td>\n",
              "    </tr>\n",
              "    <tr>\n",
              "      <th>1</th>\n",
              "      <td>group_101723</td>\n",
              "      <td>la0mdz</td>\n",
              "      <td>turn_1</td>\n",
              "      <td>Darryl Harris</td>\n",
              "      <td>However, in my opinion, the insistence on part...</td>\n",
              "      <td>0</td>\n",
              "      <td>0</td>\n",
              "      <td>0</td>\n",
              "      <td>0</td>\n",
              "      <td>0</td>\n",
              "    </tr>\n",
              "    <tr>\n",
              "      <th>2</th>\n",
              "      <td>group_101723</td>\n",
              "      <td>la0mdz</td>\n",
              "      <td>turn_1</td>\n",
              "      <td>Darryl Harris</td>\n",
              "      <td>Take the Western Jessicatown as an example.</td>\n",
              "      <td>0</td>\n",
              "      <td>0</td>\n",
              "      <td>0</td>\n",
              "      <td>0</td>\n",
              "      <td>0</td>\n",
              "    </tr>\n",
              "    <tr>\n",
              "      <th>3</th>\n",
              "      <td>group_101723</td>\n",
              "      <td>la0mdz</td>\n",
              "      <td>turn_1</td>\n",
              "      <td>Darryl Harris</td>\n",
              "      <td>An independent state in the region has no prec...</td>\n",
              "      <td>0</td>\n",
              "      <td>0</td>\n",
              "      <td>0</td>\n",
              "      <td>0</td>\n",
              "      <td>0</td>\n",
              "    </tr>\n",
              "    <tr>\n",
              "      <th>4</th>\n",
              "      <td>group_101723</td>\n",
              "      <td>la0mdz</td>\n",
              "      <td>turn_1</td>\n",
              "      <td>Darryl Harris</td>\n",
              "      <td>The basis of such claims is that the Spanish u...</td>\n",
              "      <td>0</td>\n",
              "      <td>0</td>\n",
              "      <td>0</td>\n",
              "      <td>0</td>\n",
              "      <td>0</td>\n",
              "    </tr>\n",
              "  </tbody>\n",
              "</table>\n",
              "</div>\n",
              "      <button class=\"colab-df-convert\" onclick=\"convertToInteractive('df-31ea6e9a-88bd-495e-84bd-3ff357fb00ea')\"\n",
              "              title=\"Convert this dataframe to an interactive table.\"\n",
              "              style=\"display:none;\">\n",
              "        \n",
              "  <svg xmlns=\"http://www.w3.org/2000/svg\" height=\"24px\"viewBox=\"0 0 24 24\"\n",
              "       width=\"24px\">\n",
              "    <path d=\"M0 0h24v24H0V0z\" fill=\"none\"/>\n",
              "    <path d=\"M18.56 5.44l.94 2.06.94-2.06 2.06-.94-2.06-.94-.94-2.06-.94 2.06-2.06.94zm-11 1L8.5 8.5l.94-2.06 2.06-.94-2.06-.94L8.5 2.5l-.94 2.06-2.06.94zm10 10l.94 2.06.94-2.06 2.06-.94-2.06-.94-.94-2.06-.94 2.06-2.06.94z\"/><path d=\"M17.41 7.96l-1.37-1.37c-.4-.4-.92-.59-1.43-.59-.52 0-1.04.2-1.43.59L10.3 9.45l-7.72 7.72c-.78.78-.78 2.05 0 2.83L4 21.41c.39.39.9.59 1.41.59.51 0 1.02-.2 1.41-.59l7.78-7.78 2.81-2.81c.8-.78.8-2.07 0-2.86zM5.41 20L4 18.59l7.72-7.72 1.47 1.35L5.41 20z\"/>\n",
              "  </svg>\n",
              "      </button>\n",
              "      \n",
              "  <style>\n",
              "    .colab-df-container {\n",
              "      display:flex;\n",
              "      flex-wrap:wrap;\n",
              "      gap: 12px;\n",
              "    }\n",
              "\n",
              "    .colab-df-convert {\n",
              "      background-color: #E8F0FE;\n",
              "      border: none;\n",
              "      border-radius: 50%;\n",
              "      cursor: pointer;\n",
              "      display: none;\n",
              "      fill: #1967D2;\n",
              "      height: 32px;\n",
              "      padding: 0 0 0 0;\n",
              "      width: 32px;\n",
              "    }\n",
              "\n",
              "    .colab-df-convert:hover {\n",
              "      background-color: #E2EBFA;\n",
              "      box-shadow: 0px 1px 2px rgba(60, 64, 67, 0.3), 0px 1px 3px 1px rgba(60, 64, 67, 0.15);\n",
              "      fill: #174EA6;\n",
              "    }\n",
              "\n",
              "    [theme=dark] .colab-df-convert {\n",
              "      background-color: #3B4455;\n",
              "      fill: #D2E3FC;\n",
              "    }\n",
              "\n",
              "    [theme=dark] .colab-df-convert:hover {\n",
              "      background-color: #434B5C;\n",
              "      box-shadow: 0px 1px 3px 1px rgba(0, 0, 0, 0.15);\n",
              "      filter: drop-shadow(0px 1px 2px rgba(0, 0, 0, 0.3));\n",
              "      fill: #FFFFFF;\n",
              "    }\n",
              "  </style>\n",
              "\n",
              "      <script>\n",
              "        const buttonEl =\n",
              "          document.querySelector('#df-31ea6e9a-88bd-495e-84bd-3ff357fb00ea button.colab-df-convert');\n",
              "        buttonEl.style.display =\n",
              "          google.colab.kernel.accessAllowed ? 'block' : 'none';\n",
              "\n",
              "        async function convertToInteractive(key) {\n",
              "          const element = document.querySelector('#df-31ea6e9a-88bd-495e-84bd-3ff357fb00ea');\n",
              "          const dataTable =\n",
              "            await google.colab.kernel.invokeFunction('convertToInteractive',\n",
              "                                                     [key], {});\n",
              "          if (!dataTable) return;\n",
              "\n",
              "          const docLinkHtml = 'Like what you see? Visit the ' +\n",
              "            '<a target=\"_blank\" href=https://colab.research.google.com/notebooks/data_table.ipynb>data table notebook</a>'\n",
              "            + ' to learn more about interactive tables.';\n",
              "          element.innerHTML = '';\n",
              "          dataTable['output_type'] = 'display_data';\n",
              "          await google.colab.output.renderOutput(dataTable, element);\n",
              "          const docLink = document.createElement('div');\n",
              "          docLink.innerHTML = docLinkHtml;\n",
              "          element.appendChild(docLink);\n",
              "        }\n",
              "      </script>\n",
              "    </div>\n",
              "  </div>\n",
              "  "
            ]
          },
          "metadata": {},
          "execution_count": 7
        }
      ]
    },
    {
      "cell_type": "markdown",
      "source": [
        "# Running inter-rater reliability\n",
        "\n",
        "In this section, we create a function to generate different inter-rater reliability statistics. In our final case-study, reported Krippendorf's Alpha (1970) and Gwet's AC1 (2008) as they belong to different families of inter-rater reliability statistics (see Artstein & Poesio, 2008). We also include code to generate Cohen's Kappa (1960) and Scott's pi (1955) as examples of other alternative statistics. Finally, we provide an estimate of absolute agreement which simply calculates the degree to which the five coders agree with each other.\n",
        "\n",
        "References:\n",
        "\n",
        "Artstein, R., & Poesio, M. (2008). Inter-coder agreement for computational linguistics. Computational Linguistics, 34(4), 555–596. https://doi.org/10.1162/coli.07-034-R2\n",
        "\n",
        "Cohen, J. (1960). A coefficient of agreement for nominal scales. Educational and Psychological Measurement, 20(1), 37–46. https://doi.org/10.1177/001316446002000104\n",
        "\n",
        "Gwet, K. L. (2008). Computing inter-rater reliability and its variance in the presence of high agreement. British Journal of Mathematical and Statistical Psychology, 61(1), 29–48. https://doi.org/10.1348/000711006X126600\n",
        "\n",
        "Krippendorff, K. (1970). Estimating the reliability, systematic error and random error of interval data. Educational and Psychological Measurement, 30(1), 61–70. https://doi.org/10.1177/001316447003000105\n",
        "\n",
        "Scott, W. A. (1955). Reliability of content analysis:the case of nominal scale coding. Public Opinion Quarterly, 19(3), 321–325. https://doi.org/10.1086/266577\n"
      ],
      "metadata": {
        "id": "kOhHilU3-MC-"
      }
    },
    {
      "cell_type": "markdown",
      "source": [
        "## Prepare data\n",
        "\n",
        "Before running the inter-rater reliability statistics, the data needs to be in a specific format. For all statistics bar Gwet's AC1 – calculated using the Natural Language Toolkit (NLTK) package – the function expects the data to be in a list of lists format, where each sublist is composed of the following: \n",
        "\n",
        "> `[Coder id, Sentence id, Score]`\n",
        "\n",
        "For Gwet's gamma, the input data is similarly structured but, rather than a list of lists, expects an array with each row in the following order:\n",
        "\n",
        "> `[Sentence id, Coder id, Score]`\n",
        "\n",
        "Both input datas only require the five coder columns (`M_1 ... M_5`)"
      ],
      "metadata": {
        "id": "oTaEfB2wmlXx"
      }
    },
    {
      "cell_type": "code",
      "source": [
        "# create new dataframe with only relevant columns\n",
        "df1 = df0[[x for x in df0.columns if \"M_\" in x]]\n",
        "# drop any NA values\n",
        "df1 = df1.dropna()\n",
        "# print number of rows removed\n",
        "print(f\"Rows removed = {len(df0) - len(df1)}\")"
      ],
      "metadata": {
        "colab": {
          "base_uri": "https://localhost:8080/"
        },
        "id": "_Sb0HrWqo8dP",
        "outputId": "d0c44ccf-366a-4195-a2da-507805971bc2"
      },
      "execution_count": null,
      "outputs": [
        {
          "output_type": "stream",
          "name": "stdout",
          "text": [
            "Rows removed = 0\n"
          ]
        }
      ]
    },
    {
      "cell_type": "code",
      "source": [
        "# inspect dataframe\n",
        "df1.head()"
      ],
      "metadata": {
        "colab": {
          "base_uri": "https://localhost:8080/",
          "height": 206
        },
        "id": "CFQiehHbpcWu",
        "outputId": "ce900b91-1eec-447c-e2b1-dd5dbd3a2925"
      },
      "execution_count": null,
      "outputs": [
        {
          "output_type": "execute_result",
          "data": {
            "text/plain": [
              "   M_1  M_2  M_3  M_4  M_5\n",
              "0    0    0    0    0    0\n",
              "1    0    0    0    0    0\n",
              "2    0    0    0    0    0\n",
              "3    0    0    0    0    0\n",
              "4    0    0    0    0    0"
            ],
            "text/html": [
              "\n",
              "  <div id=\"df-0362248e-df85-48fe-951d-965e0fc6007b\">\n",
              "    <div class=\"colab-df-container\">\n",
              "      <div>\n",
              "<style scoped>\n",
              "    .dataframe tbody tr th:only-of-type {\n",
              "        vertical-align: middle;\n",
              "    }\n",
              "\n",
              "    .dataframe tbody tr th {\n",
              "        vertical-align: top;\n",
              "    }\n",
              "\n",
              "    .dataframe thead th {\n",
              "        text-align: right;\n",
              "    }\n",
              "</style>\n",
              "<table border=\"1\" class=\"dataframe\">\n",
              "  <thead>\n",
              "    <tr style=\"text-align: right;\">\n",
              "      <th></th>\n",
              "      <th>M_1</th>\n",
              "      <th>M_2</th>\n",
              "      <th>M_3</th>\n",
              "      <th>M_4</th>\n",
              "      <th>M_5</th>\n",
              "    </tr>\n",
              "  </thead>\n",
              "  <tbody>\n",
              "    <tr>\n",
              "      <th>0</th>\n",
              "      <td>0</td>\n",
              "      <td>0</td>\n",
              "      <td>0</td>\n",
              "      <td>0</td>\n",
              "      <td>0</td>\n",
              "    </tr>\n",
              "    <tr>\n",
              "      <th>1</th>\n",
              "      <td>0</td>\n",
              "      <td>0</td>\n",
              "      <td>0</td>\n",
              "      <td>0</td>\n",
              "      <td>0</td>\n",
              "    </tr>\n",
              "    <tr>\n",
              "      <th>2</th>\n",
              "      <td>0</td>\n",
              "      <td>0</td>\n",
              "      <td>0</td>\n",
              "      <td>0</td>\n",
              "      <td>0</td>\n",
              "    </tr>\n",
              "    <tr>\n",
              "      <th>3</th>\n",
              "      <td>0</td>\n",
              "      <td>0</td>\n",
              "      <td>0</td>\n",
              "      <td>0</td>\n",
              "      <td>0</td>\n",
              "    </tr>\n",
              "    <tr>\n",
              "      <th>4</th>\n",
              "      <td>0</td>\n",
              "      <td>0</td>\n",
              "      <td>0</td>\n",
              "      <td>0</td>\n",
              "      <td>0</td>\n",
              "    </tr>\n",
              "  </tbody>\n",
              "</table>\n",
              "</div>\n",
              "      <button class=\"colab-df-convert\" onclick=\"convertToInteractive('df-0362248e-df85-48fe-951d-965e0fc6007b')\"\n",
              "              title=\"Convert this dataframe to an interactive table.\"\n",
              "              style=\"display:none;\">\n",
              "        \n",
              "  <svg xmlns=\"http://www.w3.org/2000/svg\" height=\"24px\"viewBox=\"0 0 24 24\"\n",
              "       width=\"24px\">\n",
              "    <path d=\"M0 0h24v24H0V0z\" fill=\"none\"/>\n",
              "    <path d=\"M18.56 5.44l.94 2.06.94-2.06 2.06-.94-2.06-.94-.94-2.06-.94 2.06-2.06.94zm-11 1L8.5 8.5l.94-2.06 2.06-.94-2.06-.94L8.5 2.5l-.94 2.06-2.06.94zm10 10l.94 2.06.94-2.06 2.06-.94-2.06-.94-.94-2.06-.94 2.06-2.06.94z\"/><path d=\"M17.41 7.96l-1.37-1.37c-.4-.4-.92-.59-1.43-.59-.52 0-1.04.2-1.43.59L10.3 9.45l-7.72 7.72c-.78.78-.78 2.05 0 2.83L4 21.41c.39.39.9.59 1.41.59.51 0 1.02-.2 1.41-.59l7.78-7.78 2.81-2.81c.8-.78.8-2.07 0-2.86zM5.41 20L4 18.59l7.72-7.72 1.47 1.35L5.41 20z\"/>\n",
              "  </svg>\n",
              "      </button>\n",
              "      \n",
              "  <style>\n",
              "    .colab-df-container {\n",
              "      display:flex;\n",
              "      flex-wrap:wrap;\n",
              "      gap: 12px;\n",
              "    }\n",
              "\n",
              "    .colab-df-convert {\n",
              "      background-color: #E8F0FE;\n",
              "      border: none;\n",
              "      border-radius: 50%;\n",
              "      cursor: pointer;\n",
              "      display: none;\n",
              "      fill: #1967D2;\n",
              "      height: 32px;\n",
              "      padding: 0 0 0 0;\n",
              "      width: 32px;\n",
              "    }\n",
              "\n",
              "    .colab-df-convert:hover {\n",
              "      background-color: #E2EBFA;\n",
              "      box-shadow: 0px 1px 2px rgba(60, 64, 67, 0.3), 0px 1px 3px 1px rgba(60, 64, 67, 0.15);\n",
              "      fill: #174EA6;\n",
              "    }\n",
              "\n",
              "    [theme=dark] .colab-df-convert {\n",
              "      background-color: #3B4455;\n",
              "      fill: #D2E3FC;\n",
              "    }\n",
              "\n",
              "    [theme=dark] .colab-df-convert:hover {\n",
              "      background-color: #434B5C;\n",
              "      box-shadow: 0px 1px 3px 1px rgba(0, 0, 0, 0.15);\n",
              "      filter: drop-shadow(0px 1px 2px rgba(0, 0, 0, 0.3));\n",
              "      fill: #FFFFFF;\n",
              "    }\n",
              "  </style>\n",
              "\n",
              "      <script>\n",
              "        const buttonEl =\n",
              "          document.querySelector('#df-0362248e-df85-48fe-951d-965e0fc6007b button.colab-df-convert');\n",
              "        buttonEl.style.display =\n",
              "          google.colab.kernel.accessAllowed ? 'block' : 'none';\n",
              "\n",
              "        async function convertToInteractive(key) {\n",
              "          const element = document.querySelector('#df-0362248e-df85-48fe-951d-965e0fc6007b');\n",
              "          const dataTable =\n",
              "            await google.colab.kernel.invokeFunction('convertToInteractive',\n",
              "                                                     [key], {});\n",
              "          if (!dataTable) return;\n",
              "\n",
              "          const docLinkHtml = 'Like what you see? Visit the ' +\n",
              "            '<a target=\"_blank\" href=https://colab.research.google.com/notebooks/data_table.ipynb>data table notebook</a>'\n",
              "            + ' to learn more about interactive tables.';\n",
              "          element.innerHTML = '';\n",
              "          dataTable['output_type'] = 'display_data';\n",
              "          await google.colab.output.renderOutput(dataTable, element);\n",
              "          const docLink = document.createElement('div');\n",
              "          docLink.innerHTML = docLinkHtml;\n",
              "          element.appendChild(docLink);\n",
              "        }\n",
              "      </script>\n",
              "    </div>\n",
              "  </div>\n",
              "  "
            ]
          },
          "metadata": {},
          "execution_count": 14
        }
      ]
    },
    {
      "cell_type": "markdown",
      "source": [
        "### Prepare data for all Inter-rater reliability statistics bar Gwet's AC1"
      ],
      "metadata": {
        "id": "USjr59QZoV1N"
      }
    },
    {
      "cell_type": "code",
      "source": [
        "# Create empty list \n",
        "IRR_out = []\n",
        "# iterate over the rows of df1\n",
        "for i, row in df1.iterrows():\n",
        "  # iterate over each column name (i.e. Coder id)\n",
        "  for k in list(df1.columns):\n",
        "    # Populate empty list with coder id, index, and score \n",
        "    # (index value expects a string not an integer)\n",
        "    IRR_out.append([k, str(i), row[k]])\n",
        "# inspect first 10 values in sublist\n",
        "IRR_out[:10]"
      ],
      "metadata": {
        "colab": {
          "base_uri": "https://localhost:8080/"
        },
        "id": "ssSW2bvtsWet",
        "outputId": "008f6d1f-301f-46e9-b9cd-71135dbc9827"
      },
      "execution_count": null,
      "outputs": [
        {
          "output_type": "execute_result",
          "data": {
            "text/plain": [
              "[['M_1', '0', 0],\n",
              " ['M_2', '0', 0],\n",
              " ['M_3', '0', 0],\n",
              " ['M_4', '0', 0],\n",
              " ['M_5', '0', 0],\n",
              " ['M_1', '1', 0],\n",
              " ['M_2', '1', 0],\n",
              " ['M_3', '1', 0],\n",
              " ['M_4', '1', 0],\n",
              " ['M_5', '1', 0]]"
            ]
          },
          "metadata": {},
          "execution_count": 21
        }
      ]
    },
    {
      "cell_type": "markdown",
      "source": [
        "Observe how the list of lists relates to the original dataframe. It is now in \"long\" format, meaning that the rows (sublists) are each unique score, rather than the sentence id."
      ],
      "metadata": {
        "id": "M7hWRpeBto8o"
      }
    },
    {
      "cell_type": "markdown",
      "source": [
        "### Prepare data for Gwet's AC1"
      ],
      "metadata": {
        "id": "ra3CR2UBrtCc"
      }
    },
    {
      "cell_type": "code",
      "source": [
        "# Repeat process from previous cell\n",
        "AC1_data = []\n",
        "for i, row in df1.iterrows():\n",
        "  for k in list(df1.columns):\n",
        "    # Change order of empty list is populated (sentence id, coder id, score)\n",
        "    AC1_data.append([i, k, row[k]])\n",
        "# inspect first five entries of the output list\n",
        "AC1_data[0:10]"
      ],
      "metadata": {
        "colab": {
          "base_uri": "https://localhost:8080/"
        },
        "id": "uoSqLGHctDeI",
        "outputId": "abf8a1b2-dd47-42c2-9c18-9969e08084e5"
      },
      "execution_count": null,
      "outputs": [
        {
          "output_type": "execute_result",
          "data": {
            "text/plain": [
              "[[0, 'M_1', 0],\n",
              " [0, 'M_2', 0],\n",
              " [0, 'M_3', 0],\n",
              " [0, 'M_4', 0],\n",
              " [0, 'M_5', 0],\n",
              " [1, 'M_1', 0],\n",
              " [1, 'M_2', 0],\n",
              " [1, 'M_3', 0],\n",
              " [1, 'M_4', 0],\n",
              " [1, 'M_5', 0]]"
            ]
          },
          "metadata": {},
          "execution_count": 22
        }
      ]
    },
    {
      "cell_type": "markdown",
      "source": [
        "We can observe that the list of lists created for Gwet's AC1 differs only from the data for the other inter-rater reliability in the ordering of the variables."
      ],
      "metadata": {
        "id": "raFwRPRPrvlz"
      }
    },
    {
      "cell_type": "code",
      "source": [
        "# create array\n",
        "AC1_array = np.array(AC1_data)\n",
        "# inspect first 10 rows\n",
        "AC1_array[:10]"
      ],
      "metadata": {
        "colab": {
          "base_uri": "https://localhost:8080/"
        },
        "id": "tTWaaxKFtnAL",
        "outputId": "45eb6c88-d009-4835-92e8-562c8e426bcb"
      },
      "execution_count": null,
      "outputs": [
        {
          "output_type": "execute_result",
          "data": {
            "text/plain": [
              "array([['0', 'M_1', '0'],\n",
              "       ['0', 'M_2', '0'],\n",
              "       ['0', 'M_3', '0'],\n",
              "       ['0', 'M_4', '0'],\n",
              "       ['0', 'M_5', '0'],\n",
              "       ['1', 'M_1', '0'],\n",
              "       ['1', 'M_2', '0'],\n",
              "       ['1', 'M_3', '0'],\n",
              "       ['1', 'M_4', '0'],\n",
              "       ['1', 'M_5', '0']], dtype='<U21')"
            ]
          },
          "metadata": {},
          "execution_count": 24
        }
      ]
    },
    {
      "cell_type": "markdown",
      "source": [
        "An array expects all variables to be the same format, in this case strings (i.e. text). We now pivot the array, returning the data from long to \"wide\" format, with each row representing a sentence and the columns the possible scores (in our case `0`for not misunderstandings and `1`for misunderstandings). The values of the columns represent the number of times the score was selected, for instance, if four coders picked misunderstanding and one not misunderstanding, then the row would look like:\n",
        "> `[1,4]`\n",
        "\n",
        "See: https://pypi.org/project/agreement/ "
      ],
      "metadata": {
        "id": "fuWHGgwUua3R"
      }
    },
    {
      "cell_type": "code",
      "source": [
        "qat = pivot_table_frequency(AC1_array[:, 0], AC1_array[:, 2])\n",
        "# inspect output\n",
        "pd.DataFrame(qat).head(5)"
      ],
      "metadata": {
        "colab": {
          "base_uri": "https://localhost:8080/",
          "height": 206
        },
        "id": "3sQbwigMungZ",
        "outputId": "19e40e30-b51b-4167-a45c-52ccc700ba8a"
      },
      "execution_count": null,
      "outputs": [
        {
          "output_type": "execute_result",
          "data": {
            "text/plain": [
              "     0    1\n",
              "0  5.0  0.0\n",
              "1  5.0  0.0\n",
              "2  5.0  0.0\n",
              "3  5.0  0.0\n",
              "4  1.0  4.0"
            ],
            "text/html": [
              "\n",
              "  <div id=\"df-498e1845-9558-4185-920f-902a651c6881\">\n",
              "    <div class=\"colab-df-container\">\n",
              "      <div>\n",
              "<style scoped>\n",
              "    .dataframe tbody tr th:only-of-type {\n",
              "        vertical-align: middle;\n",
              "    }\n",
              "\n",
              "    .dataframe tbody tr th {\n",
              "        vertical-align: top;\n",
              "    }\n",
              "\n",
              "    .dataframe thead th {\n",
              "        text-align: right;\n",
              "    }\n",
              "</style>\n",
              "<table border=\"1\" class=\"dataframe\">\n",
              "  <thead>\n",
              "    <tr style=\"text-align: right;\">\n",
              "      <th></th>\n",
              "      <th>0</th>\n",
              "      <th>1</th>\n",
              "    </tr>\n",
              "  </thead>\n",
              "  <tbody>\n",
              "    <tr>\n",
              "      <th>0</th>\n",
              "      <td>5.0</td>\n",
              "      <td>0.0</td>\n",
              "    </tr>\n",
              "    <tr>\n",
              "      <th>1</th>\n",
              "      <td>5.0</td>\n",
              "      <td>0.0</td>\n",
              "    </tr>\n",
              "    <tr>\n",
              "      <th>2</th>\n",
              "      <td>5.0</td>\n",
              "      <td>0.0</td>\n",
              "    </tr>\n",
              "    <tr>\n",
              "      <th>3</th>\n",
              "      <td>5.0</td>\n",
              "      <td>0.0</td>\n",
              "    </tr>\n",
              "    <tr>\n",
              "      <th>4</th>\n",
              "      <td>1.0</td>\n",
              "      <td>4.0</td>\n",
              "    </tr>\n",
              "  </tbody>\n",
              "</table>\n",
              "</div>\n",
              "      <button class=\"colab-df-convert\" onclick=\"convertToInteractive('df-498e1845-9558-4185-920f-902a651c6881')\"\n",
              "              title=\"Convert this dataframe to an interactive table.\"\n",
              "              style=\"display:none;\">\n",
              "        \n",
              "  <svg xmlns=\"http://www.w3.org/2000/svg\" height=\"24px\"viewBox=\"0 0 24 24\"\n",
              "       width=\"24px\">\n",
              "    <path d=\"M0 0h24v24H0V0z\" fill=\"none\"/>\n",
              "    <path d=\"M18.56 5.44l.94 2.06.94-2.06 2.06-.94-2.06-.94-.94-2.06-.94 2.06-2.06.94zm-11 1L8.5 8.5l.94-2.06 2.06-.94-2.06-.94L8.5 2.5l-.94 2.06-2.06.94zm10 10l.94 2.06.94-2.06 2.06-.94-2.06-.94-.94-2.06-.94 2.06-2.06.94z\"/><path d=\"M17.41 7.96l-1.37-1.37c-.4-.4-.92-.59-1.43-.59-.52 0-1.04.2-1.43.59L10.3 9.45l-7.72 7.72c-.78.78-.78 2.05 0 2.83L4 21.41c.39.39.9.59 1.41.59.51 0 1.02-.2 1.41-.59l7.78-7.78 2.81-2.81c.8-.78.8-2.07 0-2.86zM5.41 20L4 18.59l7.72-7.72 1.47 1.35L5.41 20z\"/>\n",
              "  </svg>\n",
              "      </button>\n",
              "      \n",
              "  <style>\n",
              "    .colab-df-container {\n",
              "      display:flex;\n",
              "      flex-wrap:wrap;\n",
              "      gap: 12px;\n",
              "    }\n",
              "\n",
              "    .colab-df-convert {\n",
              "      background-color: #E8F0FE;\n",
              "      border: none;\n",
              "      border-radius: 50%;\n",
              "      cursor: pointer;\n",
              "      display: none;\n",
              "      fill: #1967D2;\n",
              "      height: 32px;\n",
              "      padding: 0 0 0 0;\n",
              "      width: 32px;\n",
              "    }\n",
              "\n",
              "    .colab-df-convert:hover {\n",
              "      background-color: #E2EBFA;\n",
              "      box-shadow: 0px 1px 2px rgba(60, 64, 67, 0.3), 0px 1px 3px 1px rgba(60, 64, 67, 0.15);\n",
              "      fill: #174EA6;\n",
              "    }\n",
              "\n",
              "    [theme=dark] .colab-df-convert {\n",
              "      background-color: #3B4455;\n",
              "      fill: #D2E3FC;\n",
              "    }\n",
              "\n",
              "    [theme=dark] .colab-df-convert:hover {\n",
              "      background-color: #434B5C;\n",
              "      box-shadow: 0px 1px 3px 1px rgba(0, 0, 0, 0.15);\n",
              "      filter: drop-shadow(0px 1px 2px rgba(0, 0, 0, 0.3));\n",
              "      fill: #FFFFFF;\n",
              "    }\n",
              "  </style>\n",
              "\n",
              "      <script>\n",
              "        const buttonEl =\n",
              "          document.querySelector('#df-498e1845-9558-4185-920f-902a651c6881 button.colab-df-convert');\n",
              "        buttonEl.style.display =\n",
              "          google.colab.kernel.accessAllowed ? 'block' : 'none';\n",
              "\n",
              "        async function convertToInteractive(key) {\n",
              "          const element = document.querySelector('#df-498e1845-9558-4185-920f-902a651c6881');\n",
              "          const dataTable =\n",
              "            await google.colab.kernel.invokeFunction('convertToInteractive',\n",
              "                                                     [key], {});\n",
              "          if (!dataTable) return;\n",
              "\n",
              "          const docLinkHtml = 'Like what you see? Visit the ' +\n",
              "            '<a target=\"_blank\" href=https://colab.research.google.com/notebooks/data_table.ipynb>data table notebook</a>'\n",
              "            + ' to learn more about interactive tables.';\n",
              "          element.innerHTML = '';\n",
              "          dataTable['output_type'] = 'display_data';\n",
              "          await google.colab.output.renderOutput(dataTable, element);\n",
              "          const docLink = document.createElement('div');\n",
              "          docLink.innerHTML = docLinkHtml;\n",
              "          element.appendChild(docLink);\n",
              "        }\n",
              "      </script>\n",
              "    </div>\n",
              "  </div>\n",
              "  "
            ]
          },
          "metadata": {},
          "execution_count": 32
        }
      ]
    },
    {
      "cell_type": "markdown",
      "source": [
        "## Calculate Inter-rater reliability statistics from data"
      ],
      "metadata": {
        "id": "OENYxsztx1x5"
      }
    },
    {
      "cell_type": "code",
      "source": [
        "# Calculates Gwet's AC1 and rounds to three places\n",
        "gg = round(gwets_gamma(qat, linear_kernel), 3)"
      ],
      "metadata": {
        "id": "l-F4fObHx6Id"
      },
      "execution_count": null,
      "outputs": []
    },
    {
      "cell_type": "code",
      "source": [
        "# Calculate all other IRR statistics and stores them in an object\n",
        "# see: https://www.nltk.org/api/nltk.metrics.agreement.html \n",
        "ratingtask = agreement.AnnotationTask(data=IRR_out)"
      ],
      "metadata": {
        "id": "4dEGyHxCyDOC"
      },
      "execution_count": null,
      "outputs": []
    },
    {
      "cell_type": "markdown",
      "source": [
        "## Calculate IRR on dataset and interpret results"
      ],
      "metadata": {
        "id": "Z7rpvL3WFDqk"
      }
    },
    {
      "cell_type": "code",
      "source": [
        "# extract the statistics\n",
        "kappa = round(ratingtask.kappa(),3)\n",
        "alpha = round(ratingtask.alpha(),3)\n",
        "scott = round(ratingtask.pi(),3)\n",
        "Absolute_agreement = round(ratingtask.avg_Ao(),3)"
      ],
      "metadata": {
        "id": "uLrXugI-9a0E"
      },
      "execution_count": null,
      "outputs": []
    },
    {
      "cell_type": "code",
      "source": [
        "# Print all the statistics\n",
        "print(\"Cohen's Kappa \" +str(kappa))\n",
        "print(\"Scott's pi \" + str(scott))\n",
        "print(\"Krippendorf's Alpha \" +str(alpha))\n",
        "print(\"Gwet's AC1: \" + str(gg))\n",
        "print(\"Absolute Agreement: \"+ str(Absolute_agreement))"
      ],
      "metadata": {
        "colab": {
          "base_uri": "https://localhost:8080/"
        },
        "id": "xEQFMrX7zDwT",
        "outputId": "b92689a4-7d17-40f8-99d8-eadc88d912e6"
      },
      "execution_count": null,
      "outputs": [
        {
          "output_type": "stream",
          "name": "stdout",
          "text": [
            "Cohen's Kappa 0.801\n",
            "Scott's pi 0.803\n",
            "Krippendorf's Alpha 0.803\n",
            "Gwet's AC1: 0.979\n",
            "Absolute Agreement: 0.981\n"
          ]
        }
      ]
    },
    {
      "cell_type": "markdown",
      "source": [
        "We can observe that our data has moderate inter-rater reliability according to Krippendorf's Alpha (0.803), but very high inter-rater reliability according to Gwet's AC1 (0.979). However, the latter is closer to the absoluute agreement between coders (0.981), which is highly inflated due to the distribution of misunderstandings in the dataset:"
      ],
      "metadata": {
        "id": "SiXo8VdjFho4"
      }
    },
    {
      "cell_type": "code",
      "source": [
        "print(f\"Percentage of sentences coded as misunderstandings by Coder 1: {round(len(df0[df0.M_1==1])/len(df0)*100, 2)}%\")\n",
        "print(f\"Percentage of sentences coded as misunderstandings by Coder 2: {round(len(df0[df0.M_2==1])/len(df0)*100, 2)}%\")\n",
        "print(f\"Percentage of sentences coded as misunderstandings by Coder 3: {round(len(df0[df0.M_3==1])/len(df0)*100, 2)}%\")\n",
        "print(f\"Percentage of sentences coded as misunderstandings by Coder 4: {round(len(df0[df0.M_4==1])/len(df0)*100, 2)}%\")\n",
        "print(f\"Percentage of sentences coded as misunderstandings by Coder 5: {round(len(df0[df0.M_5==1])/len(df0)*100, 2)}%\")"
      ],
      "metadata": {
        "colab": {
          "base_uri": "https://localhost:8080/"
        },
        "id": "IIK4rMeq9axS",
        "outputId": "91050d95-1045-4dea-e7f2-568b761d6f79"
      },
      "execution_count": null,
      "outputs": [
        {
          "output_type": "stream",
          "name": "stdout",
          "text": [
            "Percentage of sentences coded as misunderstandings by Coder 1: 5.75%\n",
            "Percentage of sentences coded as misunderstandings by Coder 2: 4.58%\n",
            "Percentage of sentences coded as misunderstandings by Coder 3: 5.1%\n",
            "Percentage of sentences coded as misunderstandings by Coder 4: 5.1%\n",
            "Percentage of sentences coded as misunderstandings by Coder 5: 4.45%\n"
          ]
        }
      ]
    },
    {
      "cell_type": "markdown",
      "source": [
        "We observe that misunderstandings account for only between 4% and 6% of the coded dataset. This means that the majority of cases are not misunderstandings, i.e., coded as zero. This inflates the absolute agreement and Gwet's AC1 statistic, while Krippendorf's alpha is less affected. "
      ],
      "metadata": {
        "id": "eqh3P6HEHALA"
      }
    },
    {
      "cell_type": "markdown",
      "source": [
        "# Conclusion\n",
        "\n",
        "In this tutorial, we calculated the Inter-rater reliability statistics for five coders' misunderstanding scores on sentences from online dialogues. We find the data to have moderate inter-rater reliability (Krippendorf's Alpha = 0.801). The tutorial is limited in using a binary classification procedure for the coded data. For use with categorical codes, Krippendorf's Alpha and Gwet's AC2 (using the same functions as in this tutorial) may still be used to estimate inter-reliability. "
      ],
      "metadata": {
        "id": "ww5yfF9fIU1n"
      }
    }
  ]
}