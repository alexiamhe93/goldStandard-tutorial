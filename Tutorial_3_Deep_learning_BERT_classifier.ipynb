{
  "nbformat": 4,
  "nbformat_minor": 0,
  "metadata": {
    "colab": {
      "provenance": [],
      "authorship_tag": "ABX9TyPNxQz4MnXJ0xhx1vr0MZ7t",
      "include_colab_link": true
    },
    "kernelspec": {
      "name": "python3",
      "display_name": "Python 3"
    },
    "language_info": {
      "name": "python"
    },
    "accelerator": "GPU",
    "gpuClass": "standard"
  },
  "cells": [
    {
      "cell_type": "markdown",
      "metadata": {
        "id": "view-in-github",
        "colab_type": "text"
      },
      "source": [
        "<a href=\"https://colab.research.google.com/github/alexiamhe93/goldStandard-tutorial/blob/main/Tutorial_3_Deep_learning_BERT_classifier.ipynb\" target=\"_parent\"><img src=\"https://colab.research.google.com/assets/colab-badge.svg\" alt=\"Open In Colab\"/></a>"
      ]
    },
    {
      "cell_type": "markdown",
      "source": [
        "# Tutorial 3: Building a deep supervise machine learning classifier using BERT\n",
        "\n",
        "Authors: Goddard, A. & Gillespie, A.\n",
        "\n",
        "Date: January 2023\n",
        "\n",
        "This tutorial provides instructions on how to train and validate a deep supervised machine learning model using a dataset of sentences coded for misunderstandings. The sentences were produced in naturally occuring online dialogues, sourced from Reddit, Twitter, and Wikipedia Talk Pages.\n",
        "\n",
        "We use the ktrain package (Maiya, 2022) for Python (https://github.com/amaiya/ktrain) to fine-tune a BERT (Devlin et al., 2019) transformer model for classifying sentences as misunderstanding. Using a pre-trained transformer model means we can use a relatively small training dataset to make new predictions.\n",
        "\n",
        "\n",
        "This tutorial provides instructions on how to:\n",
        "1. Train a model using ktrain by fine-tuning BERT \n",
        "2. Tweak hyper-parameters to improve the classifier's performance\n",
        "3. Use under-sampling to re-balance an unbalanced dataset\n",
        "4. Save and load the trained model for use elsewhere\n",
        "\n",
        "> **NOTE** For the best performance, we recommend changing the Google Colaboratory runtime to a GPU (click *'Runtime'*, *'Change runtime type'* and select *'GPU'*). This will considerably speed up the training process for the classifier.\n",
        "\n",
        "References: \n",
        "\n",
        "Maiya, A.S. (2022). *ktrain: A Low-Code Library for Augmented Machine Learning*. (arXiv:2004.10703). arXiv. https://doi.org/10.48550/arXiv.2004.10703\n",
        "\n",
        "Devlin, J., Chang, M.-W., Lee, K., & Toutanova, K. (2019). BERT: Pre-training of Deep Bidirectional Transformers for Language Understanding. *Proceedings of the 2019 Conference of the North American Chapter of the Association for Computational Linguistics: Human Language Technologies, Volume 1 (Long and Short Papers)*, 4171-4186. https://doi.org/10.18653/v1/N19-1423\n",
        "\n",
        "\n",
        "See also: https://colab.research.google.com/drive/1ixOZTKLz4aAa-MtC6dy_sAvc9HujQmHN#scrollTo=Y8hIFvooF4vc, https://medium.com/towards-data-science/bert-text-classification-in-3-lines-of-code-using-keras-264db7e7a358, and: https://towardsdatascience.com/ktrain-a-lightweight-wrapper-for-keras-to-help-train-neural-networks-82851ba889c\n"
      ],
      "metadata": {
        "id": "gFOZ61Ws1Ktq"
      }
    },
    {
      "cell_type": "markdown",
      "source": [
        "# Install packages\n",
        "\n",
        "> **NOTE** Make sure to run this cell first."
      ],
      "metadata": {
        "id": "twz4GHl14mrE"
      }
    },
    {
      "cell_type": "code",
      "execution_count": null,
      "metadata": {
        "id": "jLf50I0Y0_7d"
      },
      "outputs": [],
      "source": [
        "!pip install ktrain"
      ]
    },
    {
      "cell_type": "markdown",
      "source": [
        "# Load packages required to train the model"
      ],
      "metadata": {
        "id": "23E8MgvT5lX0"
      }
    },
    {
      "cell_type": "code",
      "source": [
        "# for downloading data\n",
        "import requests, zipfile, io\n",
        "# for mathematical / vectoral operations\n",
        "import numpy as np\n",
        "# for loading dataframes and spreadsheets (.csv)\n",
        "import pandas as pd\n",
        "# for loading ktrain to train the model\n",
        "import ktrain\n",
        "from ktrain import text\n",
        "# for splitting dataset into train and test\n",
        "from sklearn.model_selection import train_test_split"
      ],
      "metadata": {
        "id": "VUBQ03MH5DBL"
      },
      "execution_count": 3,
      "outputs": []
    },
    {
      "cell_type": "markdown",
      "source": [
        "# Load and clean data for analysis\n",
        "\n",
        "This cell downloads the gold standard dataset from github and unzips it."
      ],
      "metadata": {
        "id": "nHWbZt746YFu"
      }
    },
    {
      "cell_type": "code",
      "source": [
        "r = requests.get( 'https://github.com/alexiamhe93/goldStandard-tutorial/blob/main/Data/Tutorial-data.zip?raw=true' ) \n",
        "z = zipfile.ZipFile(io.BytesIO(r.content))\n",
        "z.extractall()"
      ],
      "metadata": {
        "id": "n0g3oQKn5C-e"
      },
      "execution_count": 4,
      "outputs": []
    },
    {
      "cell_type": "markdown",
      "source": [
        "This cell loads the gold standard dataset into a dataframe."
      ],
      "metadata": {
        "id": "xGQojtf61sPo"
      }
    },
    {
      "cell_type": "code",
      "source": [
        "df0 = pd.read_csv(\"Tutorial-data/Full_misunderstandings_data.csv\")"
      ],
      "metadata": {
        "id": "rtl2uC8k5C79"
      },
      "execution_count": 5,
      "outputs": []
    },
    {
      "cell_type": "markdown",
      "source": [
        "## Clean text data for analysis\n",
        "\n",
        "The below cell runs a simple cleaning protocol over the data, selecting only relevant columns for the analysis, renaming columns where appropriate, removing any empty or numeric values in the text column, and deleting any rows which were not coded for 1 or 0 in the misunderstanding column."
      ],
      "metadata": {
        "id": "EnTukRUG69Ae"
      }
    },
    {
      "cell_type": "code",
      "source": [
        "# Select relevant columns for analysis\n",
        "df0 = df0[[\"turn_id\", \"dialogue_id\", \"turn\", \"text\", \"Misunderstanding\"]]\n",
        "# delete any rows with no text\n",
        "df0 = df0[df0[\"text\"] != \"\"]\n",
        "# delete all na rows with no text\n",
        "df0 = df0[df0['text'].notna()]\n",
        "# delete any numerical rows with no text\n",
        "df0 = df0[~df0['text'].str.isnumeric()]\n",
        "# delete all values for misunderstanding not equal to zero or one\n",
        "df0 = df0[df0[\"Misunderstanding\"].isin([0,1])]\n",
        "# gives us the number of rows in loaded dataset after the cleaning process\n",
        "print(f\"The full dataset contains {len(df0)} sentences after cleaning.\")"
      ],
      "metadata": {
        "colab": {
          "base_uri": "https://localhost:8080/"
        },
        "id": "fgcf6J2-5C4p",
        "outputId": "5594e668-e77e-492b-bcb3-d708e803f982"
      },
      "execution_count": 6,
      "outputs": [
        {
          "output_type": "stream",
          "name": "stdout",
          "text": [
            "The full dataset contains 21982 sentences after cleaning.\n"
          ]
        }
      ]
    },
    {
      "cell_type": "markdown",
      "source": [
        "The cleaning process resulted in 12 rows removed. We can check the first five rows of the dataset to see if they appear as we expect them to:"
      ],
      "metadata": {
        "id": "AwFwB7dn7NNY"
      }
    },
    {
      "cell_type": "code",
      "source": [
        "# inspect dataframe\n",
        "df0.head()"
      ],
      "metadata": {
        "colab": {
          "base_uri": "https://localhost:8080/",
          "height": 206
        },
        "id": "oE6Xn9we5C1g",
        "outputId": "eb43e4d1-a6a4-44ae-b659-552998e55eb4"
      },
      "execution_count": 7,
      "outputs": [
        {
          "output_type": "execute_result",
          "data": {
            "text/plain": [
              "  turn_id   dialogue_id    turn  \\\n",
              "0  tid_50  group_101723  turn_1   \n",
              "1  tid_50  group_101723  turn_1   \n",
              "2  tid_50  group_101723  turn_1   \n",
              "3  tid_50  group_101723  turn_1   \n",
              "4  tid_50  group_101723  turn_1   \n",
              "\n",
              "                                                text  Misunderstanding  \n",
              "0  CMV: Territorial integrity should be taken les...                 0  \n",
              "1  However, in my opinion, the insistence on part...                 0  \n",
              "2          Take the Western Brownberg as an example.                 0  \n",
              "3  An independent state in the region has no prec...                 0  \n",
              "4  The basis of such claims is that the Spanish u...                 0  "
            ],
            "text/html": [
              "\n",
              "  <div id=\"df-ecdbca9b-4fda-465a-9183-6365a6e24845\">\n",
              "    <div class=\"colab-df-container\">\n",
              "      <div>\n",
              "<style scoped>\n",
              "    .dataframe tbody tr th:only-of-type {\n",
              "        vertical-align: middle;\n",
              "    }\n",
              "\n",
              "    .dataframe tbody tr th {\n",
              "        vertical-align: top;\n",
              "    }\n",
              "\n",
              "    .dataframe thead th {\n",
              "        text-align: right;\n",
              "    }\n",
              "</style>\n",
              "<table border=\"1\" class=\"dataframe\">\n",
              "  <thead>\n",
              "    <tr style=\"text-align: right;\">\n",
              "      <th></th>\n",
              "      <th>turn_id</th>\n",
              "      <th>dialogue_id</th>\n",
              "      <th>turn</th>\n",
              "      <th>text</th>\n",
              "      <th>Misunderstanding</th>\n",
              "    </tr>\n",
              "  </thead>\n",
              "  <tbody>\n",
              "    <tr>\n",
              "      <th>0</th>\n",
              "      <td>tid_50</td>\n",
              "      <td>group_101723</td>\n",
              "      <td>turn_1</td>\n",
              "      <td>CMV: Territorial integrity should be taken les...</td>\n",
              "      <td>0</td>\n",
              "    </tr>\n",
              "    <tr>\n",
              "      <th>1</th>\n",
              "      <td>tid_50</td>\n",
              "      <td>group_101723</td>\n",
              "      <td>turn_1</td>\n",
              "      <td>However, in my opinion, the insistence on part...</td>\n",
              "      <td>0</td>\n",
              "    </tr>\n",
              "    <tr>\n",
              "      <th>2</th>\n",
              "      <td>tid_50</td>\n",
              "      <td>group_101723</td>\n",
              "      <td>turn_1</td>\n",
              "      <td>Take the Western Brownberg as an example.</td>\n",
              "      <td>0</td>\n",
              "    </tr>\n",
              "    <tr>\n",
              "      <th>3</th>\n",
              "      <td>tid_50</td>\n",
              "      <td>group_101723</td>\n",
              "      <td>turn_1</td>\n",
              "      <td>An independent state in the region has no prec...</td>\n",
              "      <td>0</td>\n",
              "    </tr>\n",
              "    <tr>\n",
              "      <th>4</th>\n",
              "      <td>tid_50</td>\n",
              "      <td>group_101723</td>\n",
              "      <td>turn_1</td>\n",
              "      <td>The basis of such claims is that the Spanish u...</td>\n",
              "      <td>0</td>\n",
              "    </tr>\n",
              "  </tbody>\n",
              "</table>\n",
              "</div>\n",
              "      <button class=\"colab-df-convert\" onclick=\"convertToInteractive('df-ecdbca9b-4fda-465a-9183-6365a6e24845')\"\n",
              "              title=\"Convert this dataframe to an interactive table.\"\n",
              "              style=\"display:none;\">\n",
              "        \n",
              "  <svg xmlns=\"http://www.w3.org/2000/svg\" height=\"24px\"viewBox=\"0 0 24 24\"\n",
              "       width=\"24px\">\n",
              "    <path d=\"M0 0h24v24H0V0z\" fill=\"none\"/>\n",
              "    <path d=\"M18.56 5.44l.94 2.06.94-2.06 2.06-.94-2.06-.94-.94-2.06-.94 2.06-2.06.94zm-11 1L8.5 8.5l.94-2.06 2.06-.94-2.06-.94L8.5 2.5l-.94 2.06-2.06.94zm10 10l.94 2.06.94-2.06 2.06-.94-2.06-.94-.94-2.06-.94 2.06-2.06.94z\"/><path d=\"M17.41 7.96l-1.37-1.37c-.4-.4-.92-.59-1.43-.59-.52 0-1.04.2-1.43.59L10.3 9.45l-7.72 7.72c-.78.78-.78 2.05 0 2.83L4 21.41c.39.39.9.59 1.41.59.51 0 1.02-.2 1.41-.59l7.78-7.78 2.81-2.81c.8-.78.8-2.07 0-2.86zM5.41 20L4 18.59l7.72-7.72 1.47 1.35L5.41 20z\"/>\n",
              "  </svg>\n",
              "      </button>\n",
              "      \n",
              "  <style>\n",
              "    .colab-df-container {\n",
              "      display:flex;\n",
              "      flex-wrap:wrap;\n",
              "      gap: 12px;\n",
              "    }\n",
              "\n",
              "    .colab-df-convert {\n",
              "      background-color: #E8F0FE;\n",
              "      border: none;\n",
              "      border-radius: 50%;\n",
              "      cursor: pointer;\n",
              "      display: none;\n",
              "      fill: #1967D2;\n",
              "      height: 32px;\n",
              "      padding: 0 0 0 0;\n",
              "      width: 32px;\n",
              "    }\n",
              "\n",
              "    .colab-df-convert:hover {\n",
              "      background-color: #E2EBFA;\n",
              "      box-shadow: 0px 1px 2px rgba(60, 64, 67, 0.3), 0px 1px 3px 1px rgba(60, 64, 67, 0.15);\n",
              "      fill: #174EA6;\n",
              "    }\n",
              "\n",
              "    [theme=dark] .colab-df-convert {\n",
              "      background-color: #3B4455;\n",
              "      fill: #D2E3FC;\n",
              "    }\n",
              "\n",
              "    [theme=dark] .colab-df-convert:hover {\n",
              "      background-color: #434B5C;\n",
              "      box-shadow: 0px 1px 3px 1px rgba(0, 0, 0, 0.15);\n",
              "      filter: drop-shadow(0px 1px 2px rgba(0, 0, 0, 0.3));\n",
              "      fill: #FFFFFF;\n",
              "    }\n",
              "  </style>\n",
              "\n",
              "      <script>\n",
              "        const buttonEl =\n",
              "          document.querySelector('#df-ecdbca9b-4fda-465a-9183-6365a6e24845 button.colab-df-convert');\n",
              "        buttonEl.style.display =\n",
              "          google.colab.kernel.accessAllowed ? 'block' : 'none';\n",
              "\n",
              "        async function convertToInteractive(key) {\n",
              "          const element = document.querySelector('#df-ecdbca9b-4fda-465a-9183-6365a6e24845');\n",
              "          const dataTable =\n",
              "            await google.colab.kernel.invokeFunction('convertToInteractive',\n",
              "                                                     [key], {});\n",
              "          if (!dataTable) return;\n",
              "\n",
              "          const docLinkHtml = 'Like what you see? Visit the ' +\n",
              "            '<a target=\"_blank\" href=https://colab.research.google.com/notebooks/data_table.ipynb>data table notebook</a>'\n",
              "            + ' to learn more about interactive tables.';\n",
              "          element.innerHTML = '';\n",
              "          dataTable['output_type'] = 'display_data';\n",
              "          await google.colab.output.renderOutput(dataTable, element);\n",
              "          const docLink = document.createElement('div');\n",
              "          docLink.innerHTML = docLinkHtml;\n",
              "          element.appendChild(docLink);\n",
              "        }\n",
              "      </script>\n",
              "    </div>\n",
              "  </div>\n",
              "  "
            ]
          },
          "metadata": {},
          "execution_count": 7
        }
      ]
    },
    {
      "cell_type": "markdown",
      "source": [
        "# Model 1: classifier using full dataset\n",
        "\n",
        "This section trains the first model, without yet using undersampling on our dataset to improve its performance. This section also details how to identify the optimal learning-rate, a key hyper-parameter set by the researcher prior to training the model. "
      ],
      "metadata": {
        "id": "n2-qwqIn7R3w"
      }
    },
    {
      "cell_type": "markdown",
      "source": [
        "## Split dataset into training and validation datasets\n",
        "\n",
        "In this section, we randomly split our data into a training dataset (70%) and a validation dataset (30%). The training set is used by the BERT classifier to identify the optimal features from the input text to best predict whether it is a misunderstanding.\n",
        "\n",
        "We stratify the data so that the frequency of misunderstandings is the same in both datasets. This is especially important for highly imbalanced datasets (such as the present dataset) as we want to ensure enough of of the target variable in the validation set."
      ],
      "metadata": {
        "id": "Y-UW_Q5U8YUq"
      }
    },
    {
      "cell_type": "code",
      "source": [
        "# for splitting dataset into train and test sets\n",
        "from sklearn.model_selection import train_test_split\n",
        "# create vectors of texts from loaded dataset\n",
        "sentences = df0['text'].copy()\n",
        "# create vector of misunderstanding codes from loaded dataset\n",
        "misunderstanding_codes = df0['Misunderstanding'].astype(int).copy()\n",
        "\n",
        "# Split dataset\n",
        "training_sentences, validation_sentences, training_codes, validation_codes = train_test_split(sentences, # text vector\n",
        "                                                                                              misunderstanding_codes, # codes vector\n",
        "                                                                                              test_size=0.30, # size of validation set (30%)\n",
        "                                                                                              random_state=10, # random seed for replicating random split\n",
        "                                                                                              stratify=misunderstanding_codes) # stratification by the codes vector\n",
        "\n",
        "# Create train dataframe, ensuring codes are integers for the ktrain.text function\n",
        "Training_df = pd.DataFrame({\"text\": training_sentences, \"Misunderstanding\": [int(x) for x in training_codes]})\n",
        "# Create validation dataframe, ensuring codes are integers for the ktrain.text function\n",
        "Validation_df = pd.DataFrame({\"text\": validation_sentences, \"Misunderstanding\": [int(x) for x in validation_codes]})"
      ],
      "metadata": {
        "id": "cIjZur2v7bMk"
      },
      "execution_count": null,
      "outputs": []
    },
    {
      "cell_type": "markdown",
      "source": [
        "## Pre-process the text for use with the BERT classifier\n",
        "\n",
        "The BERT model expects the text to be preprocessed in a specific way (see Devlin et al., 2019). This can be done in the ktrain package using the `text.texts_from_df()` function. This function also lets us set the maximum number of words in a text considered by the model (`maxlen`) and the maximum number of features derived for BERT's neural network (`max_features`). \n",
        "\n",
        "The function outputs five files. Four vectors relating to the training and validation datasets (where `x` refers to the texts and `y` refers to the codes from the gold-standard dataset) and a preprocessing file denoted `preproc`. "
      ],
      "metadata": {
        "id": "ScbwQwRA9FKC"
      }
    },
    {
      "cell_type": "code",
      "source": [
        "# Create objects ready for ktrain learner object (train/test sets + preprocessing object)\n",
        "(x_train,  y_train), (x_validation, y_validation), preproc = text.texts_from_df(train_df = Training_df, # training df\n",
        "                                                                            text_column = \"text\", # text column for both training and validation dataframe\n",
        "                                                                            label_columns = [\"Misunderstanding\"], # column for the codes being predicted\n",
        "                                                                            val_df = Validation_df, # validation df\n",
        "                                                                            preprocess_mode='bert', # preprocessing mode for feature embeddings - Google's BERT\n",
        "                                                                            maxlen=64, # this is the max number of words for a document\n",
        "                                                                            max_features=50000) # size of network\n"
      ],
      "metadata": {
        "colab": {
          "base_uri": "https://localhost:8080/",
          "height": 520
        },
        "id": "CmcPESdE7cCw",
        "outputId": "7461af06-aa81-40a6-ad7d-2402f8b5284d"
      },
      "execution_count": null,
      "outputs": [
        {
          "output_type": "stream",
          "name": "stdout",
          "text": [
            "['not_Misunderstanding', 'Misunderstanding']\n",
            "       not_Misunderstanding  Misunderstanding\n",
            "20550                   0.0               1.0\n",
            "15650                   1.0               0.0\n",
            "5664                    1.0               0.0\n",
            "12922                   1.0               0.0\n",
            "14970                   1.0               0.0\n",
            "['not_Misunderstanding', 'Misunderstanding']\n",
            "       not_Misunderstanding  Misunderstanding\n",
            "8557                    1.0               0.0\n",
            "14465                   1.0               0.0\n",
            "11540                   1.0               0.0\n",
            "461                     0.0               1.0\n",
            "21202                   1.0               0.0\n",
            "downloading pretrained BERT model (uncased_L-12_H-768_A-12.zip)...\n",
            "[██████████████████████████████████████████████████]\n",
            "extracting pretrained BERT model...\n",
            "done.\n",
            "\n",
            "cleanup downloaded zip...\n",
            "done.\n",
            "\n",
            "preprocessing train...\n",
            "language: en\n"
          ]
        },
        {
          "output_type": "display_data",
          "data": {
            "text/plain": [
              "<IPython.core.display.HTML object>"
            ],
            "text/html": [
              "\n",
              "<style>\n",
              "    /* Turns off some styling */\n",
              "    progress {\n",
              "        /* gets rid of default border in Firefox and Opera. */\n",
              "        border: none;\n",
              "        /* Needs to be in here for Safari polyfill so background images work as expected. */\n",
              "        background-size: auto;\n",
              "    }\n",
              "    progress:not([value]), progress:not([value])::-webkit-progress-bar {\n",
              "        background: repeating-linear-gradient(45deg, #7e7e7e, #7e7e7e 10px, #5c5c5c 10px, #5c5c5c 20px);\n",
              "    }\n",
              "    .progress-bar-interrupted, .progress-bar-interrupted::-webkit-progress-bar {\n",
              "        background: #F44336;\n",
              "    }\n",
              "</style>\n"
            ]
          },
          "metadata": {}
        },
        {
          "output_type": "display_data",
          "data": {
            "text/plain": [
              "<IPython.core.display.HTML object>"
            ],
            "text/html": [
              "done."
            ]
          },
          "metadata": {}
        },
        {
          "output_type": "stream",
          "name": "stdout",
          "text": [
            "Is Multi-Label? False\n",
            "preprocessing test...\n",
            "language: en\n"
          ]
        },
        {
          "output_type": "display_data",
          "data": {
            "text/plain": [
              "<IPython.core.display.HTML object>"
            ],
            "text/html": [
              "\n",
              "<style>\n",
              "    /* Turns off some styling */\n",
              "    progress {\n",
              "        /* gets rid of default border in Firefox and Opera. */\n",
              "        border: none;\n",
              "        /* Needs to be in here for Safari polyfill so background images work as expected. */\n",
              "        background-size: auto;\n",
              "    }\n",
              "    progress:not([value]), progress:not([value])::-webkit-progress-bar {\n",
              "        background: repeating-linear-gradient(45deg, #7e7e7e, #7e7e7e 10px, #5c5c5c 10px, #5c5c5c 20px);\n",
              "    }\n",
              "    .progress-bar-interrupted, .progress-bar-interrupted::-webkit-progress-bar {\n",
              "        background: #F44336;\n",
              "    }\n",
              "</style>\n"
            ]
          },
          "metadata": {}
        },
        {
          "output_type": "display_data",
          "data": {
            "text/plain": [
              "<IPython.core.display.HTML object>"
            ],
            "text/html": [
              "done."
            ]
          },
          "metadata": {}
        }
      ]
    },
    {
      "cell_type": "markdown",
      "source": [
        "## Prime the model using ktrain. \n",
        "\n",
        "The below cell defines the model used by ktrain, which is a BERT classifier using the preprocessing instructions provided in the previous cell."
      ],
      "metadata": {
        "id": "1PZDNDp7_FW7"
      }
    },
    {
      "cell_type": "code",
      "source": [
        "model = text.text_classifier('bert', train_data=(x_train, y_train), preproc=preproc)"
      ],
      "metadata": {
        "colab": {
          "base_uri": "https://localhost:8080/"
        },
        "id": "PVNdMBmc7b8s",
        "outputId": "ba1d959d-e8c4-433f-a0b6-5e0928d3f4f0"
      },
      "execution_count": null,
      "outputs": [
        {
          "output_type": "stream",
          "name": "stdout",
          "text": [
            "Is Multi-Label? False\n",
            "maxlen is 64\n",
            "done.\n"
          ]
        }
      ]
    },
    {
      "cell_type": "markdown",
      "source": [
        "## Create the learner object\n",
        "The below cell sets the learner object. The learner object is what will be continually updated during the training process and will define the features for our final classifier. This is also where we set the `batch_size` hyper-parameter, which refers to the number of coded texts observed by the algorithm before it refines its features. The original BERT paper recommends a batch size of 16 or 32 (Devlin et al., 2019). Accordingly, we set the batch size to 16."
      ],
      "metadata": {
        "id": "Gr8-cVfx_loM"
      }
    },
    {
      "cell_type": "code",
      "source": [
        "learner = ktrain.get_learner(model, train_data=(x_train, y_train), batch_size=16)"
      ],
      "metadata": {
        "id": "BBbCHCZ17b0k"
      },
      "execution_count": null,
      "outputs": []
    },
    {
      "cell_type": "markdown",
      "source": [
        "## Find optimal learning rate\n",
        "\n",
        "Before training the classifier, it may be beneficial to identify the optimal learning rate. The learning rate refers to the size of the steps the algorithm uses to identify local minima using gradient-descent. The original BERT paper recommends a learning rate of 5e-5, 3e-5, or 2e-5.\n",
        "\n",
        "The following function simulates the classifier's training, increasing the learning rate iteratively, and estimating the learning loss. The learning loss is an estimate of discrepancies between the model's predicted scores and the gold-standard scores."
      ],
      "metadata": {
        "id": "x7-wfLHKA7_U"
      }
    },
    {
      "cell_type": "code",
      "source": [
        "learner.lr_find(max_epochs = 20) "
      ],
      "metadata": {
        "colab": {
          "base_uri": "https://localhost:8080/"
        },
        "id": "JNHo_QHC7bpI",
        "outputId": "7aecdaeb-9687-4f8e-d02b-46ccbfbdc38a"
      },
      "execution_count": null,
      "outputs": [
        {
          "output_type": "stream",
          "name": "stdout",
          "text": [
            "simulating training for different learning rates... this may take a few moments...\n",
            "Epoch 1/20\n",
            "962/962 [==============================] - 248s 237ms/step - loss: 0.6067 - accuracy: 0.6075\n",
            "Epoch 2/20\n",
            "962/962 [==============================] - 227s 236ms/step - loss: 0.2572 - accuracy: 0.9218\n",
            "Epoch 3/20\n",
            "962/962 [==============================] - 227s 236ms/step - loss: 0.2074 - accuracy: 0.9252\n",
            "Epoch 4/20\n",
            "962/962 [==============================] - 227s 236ms/step - loss: 0.1623 - accuracy: 0.9379\n",
            "Epoch 5/20\n",
            "962/962 [==============================] - 227s 236ms/step - loss: 0.1328 - accuracy: 0.9462\n",
            "Epoch 6/20\n",
            "962/962 [==============================] - 227s 236ms/step - loss: 0.1039 - accuracy: 0.9596\n",
            "Epoch 7/20\n",
            "962/962 [==============================] - 227s 236ms/step - loss: 0.0917 - accuracy: 0.9644\n",
            "Epoch 8/20\n",
            "962/962 [==============================] - 227s 236ms/step - loss: 0.1323 - accuracy: 0.9541\n",
            "Epoch 9/20\n",
            "962/962 [==============================] - 24s 25ms/step - loss: 0.2849 - accuracy: 0.9246\n",
            "\n",
            "\n",
            "done.\n",
            "Please invoke the Learner.lr_plot() method to visually inspect the loss plot to help identify the maximal learning rate associated with falling loss.\n"
          ]
        }
      ]
    },
    {
      "cell_type": "markdown",
      "source": [
        "The next function plots the results of the previous cell's function, where we observe that the loss decreases from a learning rate of e-7 to 5e-5, but then begins increasing for learning rates above e-4. This suggests an optimal learning rate is within the range of learning rates suggested for BERT. "
      ],
      "metadata": {
        "id": "nfzgM1GwCwAJ"
      }
    },
    {
      "cell_type": "code",
      "source": [
        "learner.lr_plot()"
      ],
      "metadata": {
        "colab": {
          "base_uri": "https://localhost:8080/",
          "height": 283
        },
        "id": "0JwoiwvGCqE5",
        "outputId": "f2ced0dc-0382-44e2-fa85-a4c651d4bd9d"
      },
      "execution_count": null,
      "outputs": [
        {
          "output_type": "display_data",
          "data": {
            "text/plain": [
              "<Figure size 432x288 with 1 Axes>"
            ],
            "image/png": "[encoded data removed]"
          },
          "metadata": {
            "needs_background": "light"
          }
        }
      ]
    },
    {
      "cell_type": "markdown",
      "source": [
        "## Train model\n",
        "\n",
        "The below function trains the new classifier. It takes as inputs the number of epochs, which refers to the number of times the algorithm observes the entire training set, and the learning rate. The original BERT paper recommends 2,3, or 4 epochs (Devlin et al., 2019) as optimal for fine-tuning BERT. We set our first model with 4 epochs and a learning rate of 2e-5.\n",
        "\n",
        "We also use a '1cycle' approach for training the classifier, a method for optimizing how the algorithm uses the learning rate during training (see Smith, 2018 for details).   \n",
        "\n",
        "References:\n",
        "\n",
        "Smith, L. N. (2018). *A disciplined approach to neural network hyper-parameters: Part 1--learning rate, batch size, momentum, and weight decay*. arXiv preprint arXiv:1803.09820.\n"
      ],
      "metadata": {
        "id": "44AJ8DCZCuyQ"
      }
    },
    {
      "cell_type": "code",
      "source": [
        "learner.fit_onecycle(2e-5, 4)"
      ],
      "metadata": {
        "colab": {
          "base_uri": "https://localhost:8080/"
        },
        "id": "a6hjwYSkKUXU",
        "outputId": "97e217e6-bd4f-44fd-d989-375367801892"
      },
      "execution_count": null,
      "outputs": [
        {
          "output_type": "stream",
          "name": "stdout",
          "text": [
            "\n",
            "\n",
            "begin training using onecycle policy with max lr of 2e-05...\n",
            "Epoch 1/4\n",
            "962/962 [==============================] - 250s 238ms/step - loss: 0.2202 - accuracy: 0.9093\n",
            "Epoch 2/4\n",
            "962/962 [==============================] - 228s 237ms/step - loss: 0.1350 - accuracy: 0.9460\n",
            "Epoch 3/4\n",
            "962/962 [==============================] - 228s 237ms/step - loss: 0.0695 - accuracy: 0.9726\n",
            "Epoch 4/4\n",
            "962/962 [==============================] - 228s 237ms/step - loss: 0.0165 - accuracy: 0.9950\n"
          ]
        },
        {
          "output_type": "execute_result",
          "data": {
            "text/plain": [
              "<keras.callbacks.History at 0x7f2497f0a0d0>"
            ]
          },
          "metadata": {},
          "execution_count": 16
        }
      ]
    },
    {
      "cell_type": "markdown",
      "source": [
        "## Validate model\n",
        "\n",
        "To check the model's accuracy, we generate a classification report with four accuracy statistics based on the true/false positives and negatives for the classifier. A true positive is where the predicted code equals 1 and the gold-standard code equals 1; a true negative is where the predicted code equals 0 and the gold-standard code equals 0; a false positive is where the predicted code equals 0 but the gold-standard code equals 1; and, finally, a false negative is where the predicted code equals 1 but the gold-standard code equals 0. The four basic accuracy statistics are:\n",
        "\n",
        "*   Accuracy: the ratio of correct predictions \n",
        "*   Precision: the ratio of true positives to true positives and false positives\n",
        "*   Recall: the ratio of true positives to true positives and false negatives\n",
        "*   F1 score: harmonic mean of precision and recall"
      ],
      "metadata": {
        "id": "9F4FgR5uOBlN"
      }
    },
    {
      "cell_type": "code",
      "source": [
        "learner.validate(val_data=(x_validation, y_validation))"
      ],
      "metadata": {
        "colab": {
          "base_uri": "https://localhost:8080/"
        },
        "id": "yIcNvr_iKUUm",
        "outputId": "aa18bbbc-e28e-43b2-dc06-8782513b9127"
      },
      "execution_count": null,
      "outputs": [
        {
          "output_type": "stream",
          "name": "stdout",
          "text": [
            "207/207 [==============================] - 35s 146ms/step\n",
            "              precision    recall  f1-score   support\n",
            "\n",
            "           0       0.96      0.97      0.97      6080\n",
            "           1       0.64      0.56      0.60       515\n",
            "\n",
            "    accuracy                           0.94      6595\n",
            "   macro avg       0.80      0.77      0.78      6595\n",
            "weighted avg       0.94      0.94      0.94      6595\n",
            "\n"
          ]
        },
        {
          "output_type": "execute_result",
          "data": {
            "text/plain": [
              "array([[5915,  165],\n",
              "       [ 225,  290]])"
            ]
          },
          "metadata": {},
          "execution_count": 18
        }
      ]
    },
    {
      "cell_type": "markdown",
      "source": [
        "Our model performs fairly poorly (F1-score = 0.60), with moderate precision (0.64) but weak recall (0.56). The accuracy is inflated (0.94) due to the number of no misunderstandings in the dataset, meaning that the classifier can perform relatively well only classifying data into this class. "
      ],
      "metadata": {
        "id": "we2rseMMWDgI"
      }
    },
    {
      "cell_type": "markdown",
      "source": [
        "# Model 2: undersampling to increase model performance\n",
        "\n",
        "In this section, we train a new model with the same hyper-parameters (batch size, number of epochs, and learning rate), but rebalance our dataset using undersampling.\n",
        "\n",
        "Our dataset is highly skewed towards no misunderstandings:\n"
      ],
      "metadata": {
        "id": "C_4FH3J0OxoQ"
      }
    },
    {
      "cell_type": "code",
      "source": [
        "pct_mis = round(len(df0[df0[\"Misunderstanding\"]==1])/len(df0) *100)\n",
        "print(f\"Percentage of sentences that are misunderstandings {pct_mis}%\\nPercentage of sentences that are not misunderstandings: {100-pct_mis}%\")"
      ],
      "metadata": {
        "colab": {
          "base_uri": "https://localhost:8080/"
        },
        "id": "QE5eU0rSKUR6",
        "outputId": "c44527b4-3a9f-4da2-9739-8734bb06853e"
      },
      "execution_count": null,
      "outputs": [
        {
          "output_type": "stream",
          "name": "stdout",
          "text": [
            "Percentage of sentences that are misunderstandings 8\n",
            "Percentage of sentences that are not misunderstandings: 92\n"
          ]
        }
      ]
    },
    {
      "cell_type": "markdown",
      "source": [
        "Undersampling is the process of randomly deleting example texts from the majority class in order to re-balance the dataset. Researchers may also use oversampling, which involves randomly re-sampling cases of the minority class (i.e. misunderstandings) to balance the data. We chose undersampling as, even though we lose discriminating information (see Susan & Kumar, 2021), we reduce the chance of overfitting to the training data due to the limited number of misunderstandings. \n",
        "\n",
        "We also remove any noisey codes in the gold-standard dataset by deleting any duplicate texts. This removes any texts that potentially have contradicting codes (e.g. a sentence coded for misunderstanding in one instance and no misunderstanding in another instance).\n",
        "\n",
        "After a number of different models, we found a 2:1 no misunderstandings to misunderstandings ratio provided the optimal undersampling for our classifier. "
      ],
      "metadata": {
        "id": "4y2tdkpqPZ1G"
      }
    },
    {
      "cell_type": "code",
      "source": [
        "# Remove any duplicate text files - this prevents any ambiguously coded rows\n",
        "df1 = df0.drop_duplicates(\"text\")\n",
        "print(f\"Number of texts with duplicates {len(df0)}\\nNumber of texts without duplicates {len(df1)}\\nRows removed: {len(df0)-len(df1)}\")"
      ],
      "metadata": {
        "colab": {
          "base_uri": "https://localhost:8080/"
        },
        "id": "BzUuFERxKUO_",
        "outputId": "e8f306fe-44d8-44a1-836a-a4ef31a2db3c"
      },
      "execution_count": null,
      "outputs": [
        {
          "output_type": "stream",
          "name": "stdout",
          "text": [
            "Number of texts with duplicates 21982\n",
            "Number of texts without duplicates 20984\n",
            "Rows removed: 998\n"
          ]
        }
      ]
    },
    {
      "cell_type": "code",
      "source": [
        "# select misunderstanding turns\n",
        "mis_df1 = df1[df1[\"Misunderstanding\"]==1]\n",
        "# select non-misunderstanding turns; stating the random state ensures reproducibility\n",
        "notmis_df1 = df1[df1[\"Misunderstanding\"]==0].sample(2*len(mis_df1), random_state=10) \n",
        "# create new undersampling dataframe\n",
        "df2 = pd.concat([mis_df1, notmis_df1])"
      ],
      "metadata": {
        "id": "OR0FOiHSKUGp"
      },
      "execution_count": null,
      "outputs": []
    },
    {
      "cell_type": "markdown",
      "source": [
        "The dataset is now much smaller, but considerably more balanced:"
      ],
      "metadata": {
        "id": "XOTFUJ9wTK10"
      }
    },
    {
      "cell_type": "code",
      "source": [
        "print(f\"New dataframe size {len(df2)}\\nRows removed from original dataset: {len(df0)-len(df2)}\")\n",
        "pct_mis2 = round(len(df2[df2[\"Misunderstanding\"]==1])/len(df2) *100)\n",
        "print(f\"Percentage of sentences that are misunderstandings {pct_mis2}%\\nPercentage of sentences that are not misunderstandings: {100-pct_mis2}%\")"
      ],
      "metadata": {
        "colab": {
          "base_uri": "https://localhost:8080/"
        },
        "id": "BX3orO6hT8TE",
        "outputId": "28cae124-9a97-4228-8959-d492ba8c13f2"
      },
      "execution_count": null,
      "outputs": [
        {
          "output_type": "stream",
          "name": "stdout",
          "text": [
            "New dataframe size 5073\n",
            "Rows removed from original dataset: 16909\n",
            "Percentage of sentences that are misunderstandings 33%\n",
            "Percentage of sentences that are not misunderstandings: 67%\n"
          ]
        }
      ]
    },
    {
      "cell_type": "markdown",
      "source": [
        "## Create new training and vaidation dataset & preprocess"
      ],
      "metadata": {
        "id": "avp2zDZVUPoo"
      }
    },
    {
      "cell_type": "code",
      "source": [
        "# create vectors of texts from loaded dataset\n",
        "sentences2 = df2['text'].copy()\n",
        "# create vector of misunderstanding codes from loaded dataset\n",
        "misunderstanding_codes2 = df2['Misunderstanding'].astype(int).copy()\n",
        "\n",
        "# Split dataset\n",
        "training_sentences2, validation_sentences2, training_codes2, validation_codes2 = train_test_split(sentences2, # text vector\n",
        "                                                                                              misunderstanding_codes2, # codes vector\n",
        "                                                                                              test_size=0.30, # size of validation set (30%)\n",
        "                                                                                              random_state=10, # random seed for replicating random split\n",
        "                                                                                              stratify=misunderstanding_codes2) # stratification by the codes vector\n",
        "\n",
        "# Create train dataframe, ensuring codes are integers for the ktrain.text function\n",
        "Training_df2 = pd.DataFrame({\"text\": training_sentences2, \"Misunderstanding\": [int(x) for x in training_codes2]})\n",
        "# Create validation dataframe, ensuring codes are integers for the ktrain.text function\n",
        "Validation_df2 = pd.DataFrame({\"text\": validation_sentences2, \"Misunderstanding\": [int(x) for x in validation_codes2]})\n",
        "\n",
        "# Create objects ready for ktrain learner object (train/test sets + preprocessing object)\n",
        "(x_train2,  y_train2), (x_validation2, y_validation2), preproc2 = text.texts_from_df(train_df = Training_df2, # training df\n",
        "                                                                            text_column = \"text\", # text column for both training and validation dataframe\n",
        "                                                                            label_columns = [\"Misunderstanding\"], # column for the codes being predicted\n",
        "                                                                            val_df = Validation_df2, # validation df\n",
        "                                                                            preprocess_mode='bert', # preprocessing mode for feature embeddings - Google's BERT\n",
        "                                                                            maxlen=64, # this is the max number of words for a document\n",
        "                                                                            max_features=50000) # size of network"
      ],
      "metadata": {
        "colab": {
          "base_uri": "https://localhost:8080/",
          "height": 382
        },
        "id": "US9nJQvvUTWw",
        "outputId": "c05e5ee0-af58-488c-c42c-e0961fae4a18"
      },
      "execution_count": null,
      "outputs": [
        {
          "output_type": "stream",
          "name": "stdout",
          "text": [
            "['not_Misunderstanding', 'Misunderstanding']\n",
            "       not_Misunderstanding  Misunderstanding\n",
            "11985                   1.0               0.0\n",
            "15974                   0.0               1.0\n",
            "10561                   1.0               0.0\n",
            "14079                   1.0               0.0\n",
            "4781                    1.0               0.0\n",
            "['not_Misunderstanding', 'Misunderstanding']\n",
            "       not_Misunderstanding  Misunderstanding\n",
            "2205                    1.0               0.0\n",
            "1521                    1.0               0.0\n",
            "15841                   1.0               0.0\n",
            "12437                   1.0               0.0\n",
            "9960                    1.0               0.0\n",
            "preprocessing train...\n",
            "language: en\n"
          ]
        },
        {
          "output_type": "display_data",
          "data": {
            "text/plain": [
              "<IPython.core.display.HTML object>"
            ],
            "text/html": [
              "\n",
              "<style>\n",
              "    /* Turns off some styling */\n",
              "    progress {\n",
              "        /* gets rid of default border in Firefox and Opera. */\n",
              "        border: none;\n",
              "        /* Needs to be in here for Safari polyfill so background images work as expected. */\n",
              "        background-size: auto;\n",
              "    }\n",
              "    progress:not([value]), progress:not([value])::-webkit-progress-bar {\n",
              "        background: repeating-linear-gradient(45deg, #7e7e7e, #7e7e7e 10px, #5c5c5c 10px, #5c5c5c 20px);\n",
              "    }\n",
              "    .progress-bar-interrupted, .progress-bar-interrupted::-webkit-progress-bar {\n",
              "        background: #F44336;\n",
              "    }\n",
              "</style>\n"
            ]
          },
          "metadata": {}
        },
        {
          "output_type": "display_data",
          "data": {
            "text/plain": [
              "<IPython.core.display.HTML object>"
            ],
            "text/html": [
              "done."
            ]
          },
          "metadata": {}
        },
        {
          "output_type": "stream",
          "name": "stdout",
          "text": [
            "Is Multi-Label? False\n",
            "preprocessing test...\n",
            "language: en\n"
          ]
        },
        {
          "output_type": "display_data",
          "data": {
            "text/plain": [
              "<IPython.core.display.HTML object>"
            ],
            "text/html": [
              "\n",
              "<style>\n",
              "    /* Turns off some styling */\n",
              "    progress {\n",
              "        /* gets rid of default border in Firefox and Opera. */\n",
              "        border: none;\n",
              "        /* Needs to be in here for Safari polyfill so background images work as expected. */\n",
              "        background-size: auto;\n",
              "    }\n",
              "    progress:not([value]), progress:not([value])::-webkit-progress-bar {\n",
              "        background: repeating-linear-gradient(45deg, #7e7e7e, #7e7e7e 10px, #5c5c5c 10px, #5c5c5c 20px);\n",
              "    }\n",
              "    .progress-bar-interrupted, .progress-bar-interrupted::-webkit-progress-bar {\n",
              "        background: #F44336;\n",
              "    }\n",
              "</style>\n"
            ]
          },
          "metadata": {}
        },
        {
          "output_type": "display_data",
          "data": {
            "text/plain": [
              "<IPython.core.display.HTML object>"
            ],
            "text/html": [
              "done."
            ]
          },
          "metadata": {}
        }
      ]
    },
    {
      "cell_type": "markdown",
      "source": [
        "## Train Model 2 using undersampled data"
      ],
      "metadata": {
        "id": "sjVp6AHzS1lT"
      }
    },
    {
      "cell_type": "code",
      "source": [
        "model = text.text_classifier('bert', train_data=(x_train2, y_train2), preproc=preproc2)\n",
        "learner = ktrain.get_learner(model, train_data=(x_train2, y_train2), batch_size=16)"
      ],
      "metadata": {
        "colab": {
          "base_uri": "https://localhost:8080/"
        },
        "id": "MfyTlIH0UHC5",
        "outputId": "daa35628-1c05-4e0d-b333-bd5e3dd14784"
      },
      "execution_count": null,
      "outputs": [
        {
          "output_type": "stream",
          "name": "stdout",
          "text": [
            "Is Multi-Label? False\n",
            "maxlen is 64\n",
            "done.\n"
          ]
        }
      ]
    },
    {
      "cell_type": "code",
      "source": [
        "learner.fit_onecycle(2e-5, 4)"
      ],
      "metadata": {
        "colab": {
          "base_uri": "https://localhost:8080/"
        },
        "id": "mILTlDPvUHkA",
        "outputId": "94378710-64eb-4ee5-9b8d-89611e58c804"
      },
      "execution_count": null,
      "outputs": [
        {
          "output_type": "stream",
          "name": "stdout",
          "text": [
            "\n",
            "\n",
            "begin training using onecycle policy with max lr of 2e-05...\n",
            "Epoch 1/4\n",
            "222/222 [==============================] - 70s 221ms/step - loss: 0.5034 - accuracy: 0.7482\n",
            "Epoch 2/4\n",
            "222/222 [==============================] - 51s 231ms/step - loss: 0.3287 - accuracy: 0.8643\n",
            "Epoch 3/4\n",
            "222/222 [==============================] - 51s 230ms/step - loss: 0.1898 - accuracy: 0.9259\n",
            "Epoch 4/4\n",
            "222/222 [==============================] - 51s 231ms/step - loss: 0.0615 - accuracy: 0.9809\n"
          ]
        }
      ]
    },
    {
      "cell_type": "markdown",
      "source": [
        "## Validate model 2"
      ],
      "metadata": {
        "id": "E3ZiTD7wWzjw"
      }
    },
    {
      "cell_type": "code",
      "source": [
        "learner.validate(val_data=(x_validation2, y_validation2))"
      ],
      "metadata": {
        "colab": {
          "base_uri": "https://localhost:8080/"
        },
        "id": "5OLxItkCUHhS",
        "outputId": "8bd3a610-38e6-4a92-eaab-2aa6d42dac08"
      },
      "execution_count": null,
      "outputs": [
        {
          "output_type": "stream",
          "name": "stdout",
          "text": [
            "48/48 [==============================] - 11s 141ms/step\n",
            "              precision    recall  f1-score   support\n",
            "\n",
            "           0       0.90      0.92      0.91      1015\n",
            "           1       0.82      0.79      0.81       507\n",
            "\n",
            "    accuracy                           0.87      1522\n",
            "   macro avg       0.86      0.85      0.86      1522\n",
            "weighted avg       0.87      0.87      0.87      1522\n",
            "\n"
          ]
        },
        {
          "output_type": "execute_result",
          "data": {
            "text/plain": [
              "array([[929,  86],\n",
              "       [106, 401]])"
            ]
          },
          "metadata": {},
          "execution_count": 15
        }
      ]
    },
    {
      "cell_type": "markdown",
      "source": [
        "Model 2 performs much better than Model 1 (F1-score = 0.81), with a slightly higher precision (0.82) than recall (0.79). This suggests that are classifier is marginally better at correctly predicting a sentence as a misunderstanding (identifying true positives) than identifying all instances of misunderstanding (identifying true negatives)."
      ],
      "metadata": {
        "id": "4FGgx37CYAv7"
      }
    },
    {
      "cell_type": "markdown",
      "source": [
        "# Predict new data using Model 2\n",
        "\n",
        "Now that we have a trained model, we can sense-check it by predicting whether sentences we suggest are misunderstandings or not. The next cell shows how to load the predictor using a simple `Predictor.predict()` function based on the BERT classifier we have just fine-tuned."
      ],
      "metadata": {
        "id": "L-ogaL9RXmxp"
      }
    },
    {
      "cell_type": "code",
      "source": [
        "# create a predictor tool\n",
        "Predictor = ktrain.get_predictor(learner.model, preproc2)\n",
        "# check the classes are correct\n",
        "Predictor.predict(\"I don't understand you.\")"
      ],
      "metadata": {
        "colab": {
          "base_uri": "https://localhost:8080/",
          "height": 53
        },
        "id": "Te_GciivUHeL",
        "outputId": "c740c73a-d070-4b90-8534-9c95d9a7aa91"
      },
      "execution_count": null,
      "outputs": [
        {
          "output_type": "stream",
          "name": "stdout",
          "text": [
            "1/1 [==============================] - 0s 39ms/step\n"
          ]
        },
        {
          "output_type": "execute_result",
          "data": {
            "text/plain": [
              "'Misunderstanding'"
            ],
            "application/vnd.google.colaboratory.intrinsic+json": {
              "type": "string"
            }
          },
          "metadata": {},
          "execution_count": 37
        }
      ]
    },
    {
      "cell_type": "markdown",
      "source": [
        "> **NOTE** The next cells can be used to save the model to disk and recalling it for future use. "
      ],
      "metadata": {
        "id": "3hjhjKEKsssZ"
      }
    },
    {
      "cell_type": "code",
      "source": [
        "# saves model to disk\n",
        "ktrain.get_predictor(model, preproc2).save('trained_models/mis_model_5')\n",
        "# reloads model into the notebook\n",
        "Predictor = ktrain.load_predictor('trained_models/mis_model_5')"
      ],
      "metadata": {
        "id": "vqf8N59Xp9dQ"
      },
      "execution_count": null,
      "outputs": []
    },
    {
      "cell_type": "markdown",
      "source": [
        "We now create a set of 15 sentences to sense-check the new prediction tool to see if it passes a face-validity check. The 15 sentences include five sentences we would classify as misunderstanding, five we would classify as not misunderstanding, and five edge cases that skew slightly to either misunderstanding or not. "
      ],
      "metadata": {
        "id": "h9gDxyA1pZBF"
      }
    },
    {
      "cell_type": "code",
      "source": [
        "# Create list of sentences, 5 misunderstandings, 5 non misunderstandings, and 5 edge cases\n",
        "user_generated_sentences = [\"That's not what I meant\", \"I don't get your point\", \n",
        "                            \"I said this above, PLEASE try to read my points\",\n",
        "                            \"What do you mean?\", \"That's not what I meant.\",\n",
        "                            \"My favourite shoes are Nikes\",\"My least favourite thing to do is watch TV\",\n",
        "                            \"It's really cold outside.\", \"I know how you feel.\", \"I get it.\",\n",
        "                            \"I get that, but why bother?\", \n",
        "                            \"I understand your point on cats, but what is your stance on dogs?\",\n",
        "                            \"I'm glad we've not misunderstood each other.\", \n",
        "                            \"So I said to him, 'I don't get it', but I actually did understand\",\n",
        "                            \"Don't get me wrong, I love cats.\"]\n",
        "# List of the true codes decided by researcher\n",
        "true_codes = [\"Misunderstanding\", \"Misunderstanding\", \"Misunderstanding\", \n",
        "              \"Misunderstanding\", \"Misunderstanding\", \"Not misunderstanding\",\n",
        "              \"Not misunderstanding\",\"Not misunderstanding\",\"Not misunderstanding\",\n",
        "              \"Not misunderstanding\",\"Misunderstanding (edge case)\", \n",
        "              \"Misunderstanding (edge case)\", \"Not Misunderstanding (edge case)\", \n",
        "              \"Not Misunderstanding (edge case)\", \"Not Misunderstanding (edge case)\"]\n",
        "\n",
        "# Run the predictor on the user generated sentences\n",
        "predicted_codes = [Predictor.predict(s) for s in user_generated_sentences]\n"
      ],
      "metadata": {
        "colab": {
          "base_uri": "https://localhost:8080/"
        },
        "id": "0eQ42A1KoBFL",
        "outputId": "4c2d1065-f4a8-4c35-dadd-b52d3bb65db5"
      },
      "execution_count": null,
      "outputs": [
        {
          "output_type": "stream",
          "name": "stdout",
          "text": [
            "1/1 [==============================] - 0s 34ms/step\n",
            "1/1 [==============================] - 0s 31ms/step\n",
            "1/1 [==============================] - 0s 34ms/step\n",
            "1/1 [==============================] - 0s 33ms/step\n",
            "1/1 [==============================] - 0s 34ms/step\n",
            "1/1 [==============================] - 0s 38ms/step\n",
            "1/1 [==============================] - 0s 32ms/step\n",
            "1/1 [==============================] - 0s 33ms/step\n",
            "1/1 [==============================] - 0s 41ms/step\n",
            "1/1 [==============================] - 0s 35ms/step\n",
            "1/1 [==============================] - 0s 35ms/step\n",
            "1/1 [==============================] - 0s 34ms/step\n",
            "1/1 [==============================] - 0s 32ms/step\n",
            "1/1 [==============================] - 0s 32ms/step\n",
            "1/1 [==============================] - 0s 33ms/step\n"
          ]
        }
      ]
    },
    {
      "cell_type": "code",
      "source": [
        "# Display the results as a dataframe\n",
        "\n",
        "pd.DataFrame({\"User sentences\": user_generated_sentences,\n",
        "              \"True codes\": true_codes, \"Classifier codes\": predicted_codes})"
      ],
      "metadata": {
        "colab": {
          "base_uri": "https://localhost:8080/",
          "height": 520
        },
        "id": "KCUPhbuHq1Ii",
        "outputId": "6a4dd6b9-6441-4783-b492-4ed88592d3da"
      },
      "execution_count": null,
      "outputs": [
        {
          "output_type": "execute_result",
          "data": {
            "text/plain": [
              "                                       User sentences  \\\n",
              "0                             That's not what I meant   \n",
              "1                              I don't get your point   \n",
              "2     I said this above, PLEASE try to read my points   \n",
              "3                                   What do you mean?   \n",
              "4                            That's not what I meant.   \n",
              "5                        My favourite shoes are Nikes   \n",
              "6          My least favourite thing to do is watch TV   \n",
              "7                           It's really cold outside.   \n",
              "8                                I know how you feel.   \n",
              "9                                           I get it.   \n",
              "10                        I get that, but why bother?   \n",
              "11  I understand your point on cats, but what is y...   \n",
              "12       I'm glad we've not misunderstood each other.   \n",
              "13  So I said to him, 'I don't get it', but I actu...   \n",
              "14                   Don't get me wrong, I love cats.   \n",
              "\n",
              "                          True codes      Classifier codes  \n",
              "0                   Misunderstanding      Misunderstanding  \n",
              "1                   Misunderstanding      Misunderstanding  \n",
              "2                   Misunderstanding      Misunderstanding  \n",
              "3                   Misunderstanding      Misunderstanding  \n",
              "4                   Misunderstanding      Misunderstanding  \n",
              "5               Not misunderstanding  not_Misunderstanding  \n",
              "6               Not misunderstanding  not_Misunderstanding  \n",
              "7               Not misunderstanding  not_Misunderstanding  \n",
              "8               Not misunderstanding  not_Misunderstanding  \n",
              "9               Not misunderstanding  not_Misunderstanding  \n",
              "10      Misunderstanding (edge case)      Misunderstanding  \n",
              "11      Misunderstanding (edge case)      Misunderstanding  \n",
              "12  Not Misunderstanding (edge case)      Misunderstanding  \n",
              "13  Not Misunderstanding (edge case)      Misunderstanding  \n",
              "14  Not Misunderstanding (edge case)  not_Misunderstanding  "
            ],
            "text/html": [
              "\n",
              "  <div id=\"df-a5028bcb-4bf3-4318-b61c-06e62cba0ed9\">\n",
              "    <div class=\"colab-df-container\">\n",
              "      <div>\n",
              "<style scoped>\n",
              "    .dataframe tbody tr th:only-of-type {\n",
              "        vertical-align: middle;\n",
              "    }\n",
              "\n",
              "    .dataframe tbody tr th {\n",
              "        vertical-align: top;\n",
              "    }\n",
              "\n",
              "    .dataframe thead th {\n",
              "        text-align: right;\n",
              "    }\n",
              "</style>\n",
              "<table border=\"1\" class=\"dataframe\">\n",
              "  <thead>\n",
              "    <tr style=\"text-align: right;\">\n",
              "      <th></th>\n",
              "      <th>User sentences</th>\n",
              "      <th>True codes</th>\n",
              "      <th>Classifier codes</th>\n",
              "    </tr>\n",
              "  </thead>\n",
              "  <tbody>\n",
              "    <tr>\n",
              "      <th>0</th>\n",
              "      <td>That's not what I meant</td>\n",
              "      <td>Misunderstanding</td>\n",
              "      <td>Misunderstanding</td>\n",
              "    </tr>\n",
              "    <tr>\n",
              "      <th>1</th>\n",
              "      <td>I don't get your point</td>\n",
              "      <td>Misunderstanding</td>\n",
              "      <td>Misunderstanding</td>\n",
              "    </tr>\n",
              "    <tr>\n",
              "      <th>2</th>\n",
              "      <td>I said this above, PLEASE try to read my points</td>\n",
              "      <td>Misunderstanding</td>\n",
              "      <td>Misunderstanding</td>\n",
              "    </tr>\n",
              "    <tr>\n",
              "      <th>3</th>\n",
              "      <td>What do you mean?</td>\n",
              "      <td>Misunderstanding</td>\n",
              "      <td>Misunderstanding</td>\n",
              "    </tr>\n",
              "    <tr>\n",
              "      <th>4</th>\n",
              "      <td>That's not what I meant.</td>\n",
              "      <td>Misunderstanding</td>\n",
              "      <td>Misunderstanding</td>\n",
              "    </tr>\n",
              "    <tr>\n",
              "      <th>5</th>\n",
              "      <td>My favourite shoes are Nikes</td>\n",
              "      <td>Not misunderstanding</td>\n",
              "      <td>not_Misunderstanding</td>\n",
              "    </tr>\n",
              "    <tr>\n",
              "      <th>6</th>\n",
              "      <td>My least favourite thing to do is watch TV</td>\n",
              "      <td>Not misunderstanding</td>\n",
              "      <td>not_Misunderstanding</td>\n",
              "    </tr>\n",
              "    <tr>\n",
              "      <th>7</th>\n",
              "      <td>It's really cold outside.</td>\n",
              "      <td>Not misunderstanding</td>\n",
              "      <td>not_Misunderstanding</td>\n",
              "    </tr>\n",
              "    <tr>\n",
              "      <th>8</th>\n",
              "      <td>I know how you feel.</td>\n",
              "      <td>Not misunderstanding</td>\n",
              "      <td>not_Misunderstanding</td>\n",
              "    </tr>\n",
              "    <tr>\n",
              "      <th>9</th>\n",
              "      <td>I get it.</td>\n",
              "      <td>Not misunderstanding</td>\n",
              "      <td>not_Misunderstanding</td>\n",
              "    </tr>\n",
              "    <tr>\n",
              "      <th>10</th>\n",
              "      <td>I get that, but why bother?</td>\n",
              "      <td>Misunderstanding (edge case)</td>\n",
              "      <td>Misunderstanding</td>\n",
              "    </tr>\n",
              "    <tr>\n",
              "      <th>11</th>\n",
              "      <td>I understand your point on cats, but what is y...</td>\n",
              "      <td>Misunderstanding (edge case)</td>\n",
              "      <td>Misunderstanding</td>\n",
              "    </tr>\n",
              "    <tr>\n",
              "      <th>12</th>\n",
              "      <td>I'm glad we've not misunderstood each other.</td>\n",
              "      <td>Not Misunderstanding (edge case)</td>\n",
              "      <td>Misunderstanding</td>\n",
              "    </tr>\n",
              "    <tr>\n",
              "      <th>13</th>\n",
              "      <td>So I said to him, 'I don't get it', but I actu...</td>\n",
              "      <td>Not Misunderstanding (edge case)</td>\n",
              "      <td>Misunderstanding</td>\n",
              "    </tr>\n",
              "    <tr>\n",
              "      <th>14</th>\n",
              "      <td>Don't get me wrong, I love cats.</td>\n",
              "      <td>Not Misunderstanding (edge case)</td>\n",
              "      <td>not_Misunderstanding</td>\n",
              "    </tr>\n",
              "  </tbody>\n",
              "</table>\n",
              "</div>\n",
              "      <button class=\"colab-df-convert\" onclick=\"convertToInteractive('df-a5028bcb-4bf3-4318-b61c-06e62cba0ed9')\"\n",
              "              title=\"Convert this dataframe to an interactive table.\"\n",
              "              style=\"display:none;\">\n",
              "        \n",
              "  <svg xmlns=\"http://www.w3.org/2000/svg\" height=\"24px\"viewBox=\"0 0 24 24\"\n",
              "       width=\"24px\">\n",
              "    <path d=\"M0 0h24v24H0V0z\" fill=\"none\"/>\n",
              "    <path d=\"M18.56 5.44l.94 2.06.94-2.06 2.06-.94-2.06-.94-.94-2.06-.94 2.06-2.06.94zm-11 1L8.5 8.5l.94-2.06 2.06-.94-2.06-.94L8.5 2.5l-.94 2.06-2.06.94zm10 10l.94 2.06.94-2.06 2.06-.94-2.06-.94-.94-2.06-.94 2.06-2.06.94z\"/><path d=\"M17.41 7.96l-1.37-1.37c-.4-.4-.92-.59-1.43-.59-.52 0-1.04.2-1.43.59L10.3 9.45l-7.72 7.72c-.78.78-.78 2.05 0 2.83L4 21.41c.39.39.9.59 1.41.59.51 0 1.02-.2 1.41-.59l7.78-7.78 2.81-2.81c.8-.78.8-2.07 0-2.86zM5.41 20L4 18.59l7.72-7.72 1.47 1.35L5.41 20z\"/>\n",
              "  </svg>\n",
              "      </button>\n",
              "      \n",
              "  <style>\n",
              "    .colab-df-container {\n",
              "      display:flex;\n",
              "      flex-wrap:wrap;\n",
              "      gap: 12px;\n",
              "    }\n",
              "\n",
              "    .colab-df-convert {\n",
              "      background-color: #E8F0FE;\n",
              "      border: none;\n",
              "      border-radius: 50%;\n",
              "      cursor: pointer;\n",
              "      display: none;\n",
              "      fill: #1967D2;\n",
              "      height: 32px;\n",
              "      padding: 0 0 0 0;\n",
              "      width: 32px;\n",
              "    }\n",
              "\n",
              "    .colab-df-convert:hover {\n",
              "      background-color: #E2EBFA;\n",
              "      box-shadow: 0px 1px 2px rgba(60, 64, 67, 0.3), 0px 1px 3px 1px rgba(60, 64, 67, 0.15);\n",
              "      fill: #174EA6;\n",
              "    }\n",
              "\n",
              "    [theme=dark] .colab-df-convert {\n",
              "      background-color: #3B4455;\n",
              "      fill: #D2E3FC;\n",
              "    }\n",
              "\n",
              "    [theme=dark] .colab-df-convert:hover {\n",
              "      background-color: #434B5C;\n",
              "      box-shadow: 0px 1px 3px 1px rgba(0, 0, 0, 0.15);\n",
              "      filter: drop-shadow(0px 1px 2px rgba(0, 0, 0, 0.3));\n",
              "      fill: #FFFFFF;\n",
              "    }\n",
              "  </style>\n",
              "\n",
              "      <script>\n",
              "        const buttonEl =\n",
              "          document.querySelector('#df-a5028bcb-4bf3-4318-b61c-06e62cba0ed9 button.colab-df-convert');\n",
              "        buttonEl.style.display =\n",
              "          google.colab.kernel.accessAllowed ? 'block' : 'none';\n",
              "\n",
              "        async function convertToInteractive(key) {\n",
              "          const element = document.querySelector('#df-a5028bcb-4bf3-4318-b61c-06e62cba0ed9');\n",
              "          const dataTable =\n",
              "            await google.colab.kernel.invokeFunction('convertToInteractive',\n",
              "                                                     [key], {});\n",
              "          if (!dataTable) return;\n",
              "\n",
              "          const docLinkHtml = 'Like what you see? Visit the ' +\n",
              "            '<a target=\"_blank\" href=https://colab.research.google.com/notebooks/data_table.ipynb>data table notebook</a>'\n",
              "            + ' to learn more about interactive tables.';\n",
              "          element.innerHTML = '';\n",
              "          dataTable['output_type'] = 'display_data';\n",
              "          await google.colab.output.renderOutput(dataTable, element);\n",
              "          const docLink = document.createElement('div');\n",
              "          docLink.innerHTML = docLinkHtml;\n",
              "          element.appendChild(docLink);\n",
              "        }\n",
              "      </script>\n",
              "    </div>\n",
              "  </div>\n",
              "  "
            ]
          },
          "metadata": {},
          "execution_count": 40
        }
      ]
    },
    {
      "cell_type": "markdown",
      "source": [
        "We observe that for the ten examples we consider clear misunderstanding or clear non misunderstandings, the classifier performs as expected, classifying all ten into the correct class. However, for the edge cases (sentences 10-14), the classifier incorrectly classifies 2/5 sentences. The following paragraph explains the edge cases and how the algorithm succeeds and fails to differentiate between them.\n",
        "\n",
        "Sentences 10 and 11 are examples of misunderstandings following a statement of misunderstanding in the same sentence. Here, the classifier correctly predicts the construct. Sentence 12 is a statement that two interacting individuals have not misunderstood each other. The classifier incorrectly classifies this as a misunderstanding. Sentence 13 is a quoted statement of misunderstanding, with the imagined speaker saying they were actually lying about misunderstanding. Again, the classifier fails to correctly identify this statement as not a misunderstanding. Finally, sentence 14 is hedging (\"don't get me wrong\") by clarifying the meaning of their next or previous sentences. Here, the classifier correctly identifies this as not misunderstanding. "
      ],
      "metadata": {
        "id": "53zlJXCrq8Gq"
      }
    },
    {
      "cell_type": "markdown",
      "source": [
        "# Conclusion\n",
        "\n",
        "In this tutorial, we provided instructions on how to fine-tune a BERT classifier for predicting misunderstandings, a social-psychological construct, in sentences sampled from online dialogues. Our final classifier (Model 2) performs moderately well (F1-score = 0.81), but, following a sense-check for face-validity, was found to struggle with edge-cases of the phenomena. This may be in part from noise in the gold-standard dataset used, which had moderate inter-rater reliability (Krippendorf's Alpha = 0.80). This means that certain misunderstandings in the gold-standard dataset may have been missed or incorrectly coded in the first instance. The trained classifier is only as good as the gold-standard dataset used to train it.\n",
        "\n",
        "The tutorial is limited in its demonstration of a binary classifier, however ktrain and BERT can both handle multi-label categorical classes. Furthermore, the tutorial makes an assumption that the sentences in the dataset are independent which they are not. Instead, sentences belong to a larger text (e.g. a comment on Reddit or a Tweet) and to a dialogue. This added sequential information is ignored in the training of the classifier but its inclusion in future models may lead to increased accuracy and better reflect the gold-standard codes from the dataset."
      ],
      "metadata": {
        "id": "fjPyzfDCZrWz"
      }
    }
  ]
}